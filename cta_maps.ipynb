{
 "cells": [
  {
   "cell_type": "code",
   "execution_count": null,
   "metadata": {},
   "outputs": [],
   "source": [
    "import pandas as pd\n",
    "import numpy as np\n",
    "from station import Station\n",
    "import seaborn as sns\n",
    "import matplotlib.pyplot as plt\n",
    "import geopy.distance\n",
    "import descartes\n",
    "import geopandas as gpd\n",
    "from shapely.geometry import Point, Polygon\n",
    "import mpld3\n",
    "\n",
    "%load_ext autoreload\n",
    "%autoreload"
   ]
  },
  {
   "cell_type": "code",
   "execution_count": null,
   "metadata": {},
   "outputs": [],
   "source": [
    "station_summary = pd.read_csv('data/station_summary.csv')"
   ]
  },
  {
   "cell_type": "code",
   "execution_count": null,
   "metadata": {},
   "outputs": [],
   "source": [
    "high_stds = station_summary.sort_values(by='daily_std', ascending=False).iloc[0:10]\n",
    "# high_stds.set_index('station', inplace=True)"
   ]
  },
  {
   "cell_type": "code",
   "execution_count": null,
   "metadata": {},
   "outputs": [],
   "source": [
    "# create geodataframe from stations with highest STDs\n",
    "def create_geodf(df):\n",
    "    df.set_index('station', inplace=True)\n",
    "    geometry = [Point(x,y) for x,y in zip(df['longitude'], df['latitude'])]\n",
    "    crs = {'init':'epsg:4326'}\n",
    "    geo_df = gpd.GeoDataFrame(index=df.index, crs=crs, geometry=geometry)\n",
    "    return geo_df"
   ]
  },
  {
   "cell_type": "code",
   "execution_count": null,
   "metadata": {},
   "outputs": [],
   "source": [
    "# check which neighborhood each point belongs in\n",
    "def assign_neighborhood(geodf, neighdf):\n",
    "    x=pd.DataFrame()\n",
    "    assign_dict = {key: geom for key, geom in neighdf['geometry'].items()}\n",
    "    assign_dict2 = {key: geodf.within(geom) for key, geom in assign_dict.items()}\n",
    "    x = geodf.assign(**assign_dict2)\n",
    "    x = x.loc[:, (x != 0).any(axis=0)]\n",
    "    names=x.columns.tolist()\n",
    "    names.remove('geometry')\n",
    "    x['neighborhood'] = x[names].idxmax(axis=1)\n",
    "    x.drop(columns=names, inplace=True)\n",
    "    return x"
   ]
  },
  {
   "cell_type": "code",
   "execution_count": null,
   "metadata": {},
   "outputs": [],
   "source": [
    "# get polygons for each relevant neighborhood\n",
    "def get_selected_neighborhoods(points,neighdf):\n",
    "    for item in points['neighborhood']:\n",
    "        inds = points.index[points['neighborhood']==item].tolist()\n",
    "        points.loc[inds,'polygon'] = neighdf.loc[item, 'geometry']\n",
    "\n",
    "    neighs_withpoints = points.copy()\n",
    "    neighs_withpoints.rename(columns={'polygon':'geometry', \n",
    "                                      'geometry':'points'}, inplace=True)\n",
    "    x = neighs_withpoints.representative_point().apply(lambda p: p.x)\n",
    "    y = neighs_withpoints.representative_point().apply(lambda p: p.y)\n",
    "    neighs_withpoints['xy']= [(x,y) for x,y in zip(x, y)]\n",
    "    return neighs_withpoints"
   ]
  },
  {
   "cell_type": "code",
   "execution_count": null,
   "metadata": {},
   "outputs": [],
   "source": [
    "def make_map_with_points(neighdf, station_points, neighs_withpoints, \n",
    "                         neighs_only, offset_xy, cmap, title, handle, annotate=False):\n",
    "\n",
    "    fig, ax = plt.subplots(figsize=(10,10))\n",
    "    neighdf.plot(ax=ax,alpha=.7, color='grey')\n",
    "\n",
    "    neighs_withpoints.plot(ax=ax, cmap=cmap, column='neighborhood', categorical=True, \n",
    "                           legend=True,\n",
    "                           vmin=-1)\n",
    "    if annotate:\n",
    "        for n, xy in zip(neighs_only.index.tolist(), offset_xy):\n",
    "            ax.annotate(n,  xy=xy, ha='center', va='center',\n",
    "                        color='k', fontsize=14)\n",
    "    station_points.plot(ax=ax, color='white', marker='o', alpha=.5, markersize=200)\n",
    "    ax.set_xlabel('Longitude', fontsize=20)\n",
    "    ax.set_ylabel('Latitude', fontsize=20)\n",
    "    ax.set_xticklabels(ax.get_xticklabels(),fontsize=16)\n",
    "    ax.set_yticklabels(ax.get_yticklabels(),fontsize=16)\n",
    "    plt.title(title, fontsize=24)\n",
    "    plt.axis('off')\n",
    "    plt.savefig('figs/map_'+handle+'.png')"
   ]
  },
  {
   "cell_type": "code",
   "execution_count": null,
   "metadata": {},
   "outputs": [],
   "source": [
    "# read df\n",
    "df = pd.read_csv('data/pie_stations_summary.csv')\n",
    "df['pctchange_2018_2023'] = ((df['2023_predicted_mean']/df['2018_mean'])-1)*100\n",
    "df=df.loc[0:2]\n",
    "\n",
    "# read map\n",
    "neighdf = gpd.read_file(\n",
    "    'data/Boundaries - Community Areas/geo_export_c539fca7-2c77-4148-be09-2c656a4bc388.shp')\n",
    "neighdf.set_index('community', inplace=True)\n",
    "geodf = create_geodf(df)\n",
    "station_points = assign_neighborhood(geodf,neighdf)\n",
    "neighs_withpoints=get_selected_neighborhoods(station_points,neighdf)\n",
    "\n",
    "# run if some points fall in the same neighborhood \n",
    "for neigh in neighs_withpoints['neighborhood']:\n",
    "    num = len(neighs_withpoints[neighs_withpoints['neighborhood']==neigh])\n",
    "    locs = neighs_withpoints[neighs_withpoints['neighborhood']==neigh].index\n",
    "    neighs_withpoints.loc[locs, 'freq']=num\n",
    "neighs_only = neighs_withpoints.drop_duplicates(subset='neighborhood')\n",
    "\n",
    "offset_xy=[]\n",
    "xoffsets = [.065, .09, .075]\n",
    "yoffsets = [.01, -.005, -.003]\n",
    "for item, xoffset,yoffset in zip(neighs_only['xy'], xoffsets, yoffsets):\n",
    "    x = item[0]+xoffset\n",
    "    y = item[1]+yoffset\n",
    "    offset_xy.append((x,y))"
   ]
  },
  {
   "cell_type": "code",
   "execution_count": null,
   "metadata": {},
   "outputs": [],
   "source": [
    "make_map_with_points(neighdf, station_points, neighs_withpoints, \n",
    "                         neighs_only, offset_xy, 'Blues',\n",
    "                     'Suggested Pie Shop Locations', 'pie', annotate=True)"
   ]
  },
  {
   "cell_type": "code",
   "execution_count": null,
   "metadata": {},
   "outputs": [],
   "source": [
    "# define df\n",
    "df = high_stds\n",
    "\n",
    "# read map\n",
    "neighdf = gpd.read_file(\n",
    "    'data/Boundaries - Community Areas/geo_export_c539fca7-2c77-4148-be09-2c656a4bc388.shp')\n",
    "neighdf.set_index('community', inplace=True)\n",
    "geodf = create_geodf(df)\n",
    "station_points = assign_neighborhood(geodf,neighdf)\n",
    "neighs_withpoints=get_selected_neighborhoods(station_points,neighdf)\n",
    "\n",
    "# run if some points fall in the same neighborhood \n",
    "for neigh in neighs_withpoints['neighborhood']:\n",
    "    num = len(neighs_withpoints[neighs_withpoints['neighborhood']==neigh])\n",
    "    locs = neighs_withpoints[neighs_withpoints['neighborhood']==neigh].index\n",
    "    neighs_withpoints.loc[locs, 'freq']=num\n",
    "neighs_only = neighs_withpoints.drop_duplicates(subset='neighborhood')\n",
    "\n",
    "offset_xy=[]\n",
    "xoffsets = [.065, .09, .075]\n",
    "yoffsets = [.01, -.005, -.003]\n",
    "for item, xoffset,yoffset in zip(neighs_only['xy'], xoffsets, yoffsets):\n",
    "    x = item[0]+xoffset\n",
    "    y = item[1]+yoffset\n",
    "    offset_xy.append((x,y))"
   ]
  },
  {
   "cell_type": "code",
   "execution_count": null,
   "metadata": {},
   "outputs": [],
   "source": [
    "make_map_with_points(neighdf, station_points, neighs_withpoints, \n",
    "                         neighs_only, offset_xy, 'Set3',\n",
    "                     'Neighborhoods with High Standard Deviations', 'high_stds')"
   ]
  }
 ],
 "metadata": {
  "kernelspec": {
   "display_name": "Python 3",
   "language": "python",
   "name": "python3"
  },
  "language_info": {
   "codemirror_mode": {
    "name": "ipython",
    "version": 3
   },
   "file_extension": ".py",
   "mimetype": "text/x-python",
   "name": "python",
   "nbconvert_exporter": "python",
   "pygments_lexer": "ipython3",
   "version": "3.6.7"
  }
 },
 "nbformat": 4,
 "nbformat_minor": 2
}
