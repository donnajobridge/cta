{
 "cells": [
  {
   "cell_type": "code",
   "execution_count": null,
   "metadata": {},
   "outputs": [],
   "source": [
    "import pandas as pd\n",
    "import numpy as np\n",
    "import seaborn as sns\n",
    "import matplotlib.pyplot as plt\n",
    "import matplotlib.dates as mdates\n",
    "import mpld3\n",
    "import statsmodels.api as sm\n",
    "import itertools\n",
    "from fbprophet import Prophet\n",
    "from station import Station\n",
    "from sklearn.metrics import mean_squared_error"
   ]
  },
  {
   "cell_type": "code",
   "execution_count": null,
   "metadata": {},
   "outputs": [],
   "source": [
    "# read in data files\n",
    "ride_df = pd.read_csv('data/CTA_-_Ridership_-__L__Station_Entries_-_Daily_Totals.csv')\n",
    "map_df = pd.read_csv('data/CTA_-_System_Information_-_List_of__L__Stops.csv')\n",
    "station_map_names = {'Lake':'Lake/State', 'Jackson':'Jackson/State',\n",
    "                     'Washington':'Washington/Dearborn'}\n",
    "map_df.replace({\"STATION_NAME\": station_map_names}, inplace=True)"
   ]
  },
  {
   "cell_type": "code",
   "execution_count": null,
   "metadata": {},
   "outputs": [],
   "source": [
    "morse = Station('Morse', ride_df, map_df)"
   ]
  },
  {
   "cell_type": "code",
   "execution_count": null,
   "metadata": {},
   "outputs": [],
   "source": [
    "morse.run_prophet()"
   ]
  },
  {
   "cell_type": "code",
   "execution_count": null,
   "metadata": {},
   "outputs": [],
   "source": [
    "morse.summary"
   ]
  },
  {
   "cell_type": "code",
   "execution_count": null,
   "metadata": {
    "scrolled": true
   },
   "outputs": [],
   "source": [
    "self.preprocessed[self.preprocessed['year']==2018]['rides'].mean()\n",
    "self.preprocessed[self.preprocessed['year']==2018]['rides'].std()"
   ]
  },
  {
   "cell_type": "code",
   "execution_count": null,
   "metadata": {},
   "outputs": [],
   "source": [
    "\n",
    "sum_dict={}\n",
    "for row, ldf in forecast_data.groupby('year'):\n",
    "    mean = ldf['yhat'].mean()\n",
    "    std = ldf['yhat'].std()\n",
    "\n",
    "    sum_dict[f'{row}_mean'] = mean\n",
    "    sum_dict[f'{row}_std'] = std\n",
    "return sum_dict"
   ]
  },
  {
   "cell_type": "code",
   "execution_count": null,
   "metadata": {},
   "outputs": [],
   "source": [
    "morse.run_prophet()"
   ]
  },
  {
   "cell_type": "code",
   "execution_count": null,
   "metadata": {},
   "outputs": [],
   "source": [
    "morse.summary"
   ]
  },
  {
   "cell_type": "code",
   "execution_count": null,
   "metadata": {
    "scrolled": true
   },
   "outputs": [],
   "source": [
    "# decomposition = sm.tsa.seasonal_decompose(morse.prophet_df, model='additive')\n",
    "# fig = decomposition.plot()\n",
    "# plt.show()"
   ]
  },
  {
   "cell_type": "code",
   "execution_count": null,
   "metadata": {},
   "outputs": [],
   "source": [
    "df = morse.prophet_df\n",
    "def run_prophet(df):\n",
    "    years_in_future_5=365*5+1\n",
    "    final_real_date = df.iloc[-1].ds\n",
    "    m = Prophet()\n",
    "    m.fit(df)\n",
    "    future = m.make_future_dataframe(periods=years_in_future_5)\n",
    "    forecast = m.predict(future)\n",
    "    forecast_data = forecast[forecast['ds']>final_real_date][['ds', 'yhat']].reset_index(\n",
    "    drop=True)\n",
    "    forecast_data['ds']=pd.to_datetime(forecast_data['ds'])\n",
    "    forecast_data['year']=forecast_data.ds.dt.year\n",
    "    \n",
    "    sum_dict={}\n",
    "    for row, ldf in forecast_data.groupby('year'):\n",
    "        mean = ldf['yhat'].mean()\n",
    "        std = ldf['yhat'].std()\n",
    "\n",
    "        sum_dict[f'{row}_mean'] = mean\n",
    "        sum_dict[f'{row}_std'] = std\n",
    "    return sum_dict"
   ]
  }
 ],
 "metadata": {
  "kernelspec": {
   "display_name": "Python 3",
   "language": "python",
   "name": "python3"
  },
  "language_info": {
   "codemirror_mode": {
    "name": "ipython",
    "version": 3
   },
   "file_extension": ".py",
   "mimetype": "text/x-python",
   "name": "python",
   "nbconvert_exporter": "python",
   "pygments_lexer": "ipython3",
   "version": "3.6.7"
  }
 },
 "nbformat": 4,
 "nbformat_minor": 2
}
