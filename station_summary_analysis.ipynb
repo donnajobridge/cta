{
 "cells": [
  {
   "cell_type": "markdown",
   "metadata": {},
   "source": [
    "## Run analysis on station summary data for questions 1 & 2"
   ]
  },
  {
   "cell_type": "code",
   "execution_count": 1,
   "metadata": {},
   "outputs": [],
   "source": [
    "import pandas as pd\n",
    "import numpy as np\n",
    "from station import Station\n",
    "import seaborn as sns\n",
    "import matplotlib.pyplot as plt\n",
    "import mpld3\n",
    "\n",
    "%load_ext autoreload\n",
    "%autoreload"
   ]
  },
  {
   "cell_type": "code",
   "execution_count": 14,
   "metadata": {},
   "outputs": [],
   "source": [
    "# read in data files\n",
    "ride_df = pd.read_csv('data/CTA_-_Ridership_-__L__Station_Entries_-_Daily_Totals.csv')\n",
    "map_df = pd.read_csv('data/CTA_-_System_Information_-_List_of__L__Stops.csv')\n",
    "station_map_names = {'Lake':'Lake/State', 'Jackson':'Jackson/State',\n",
    "                     'Washington':'Washington/Dearborn', 'Morgan':'Morgan-Lake'}\n",
    "map_df.replace({\"STATION_NAME\": station_map_names}, inplace=True)"
   ]
  },
  {
   "cell_type": "code",
   "execution_count": 2,
   "metadata": {},
   "outputs": [],
   "source": [
    "station_summary = pd.read_csv('data/station_summary.csv')"
   ]
  },
  {
   "cell_type": "code",
   "execution_count": null,
   "metadata": {},
   "outputs": [],
   "source": [
    "# to_remove = station_summary[station_summary['Sat_mean'] == 0].index[0]\n",
    "# station_summary.drop([to_remove], inplace=True)\n",
    "station_summary['weekday-sat'] = station_summary['Weekday_mean'\n",
    "                                                ] - station_summary['Sat_mean']\n",
    "station_summary['weekday-sun'] = station_summary['Weekday_mean'\n",
    "                                                ] - station_summary['Sun/Hol_mean']"
   ]
  },
  {
   "cell_type": "code",
   "execution_count": 3,
   "metadata": {
    "scrolled": true
   },
   "outputs": [
    {
     "data": {
      "text/plain": [
       "Unnamed: 0                    133\n",
       "Unnamed: 0.1                  133\n",
       "2017_mean                 16500.1\n",
       "2017_std                  7487.37\n",
       "2018_mean                 16338.2\n",
       "2018_predicted_mean         17052\n",
       "2018_predicted_std         6151.9\n",
       "2018_std                   7388.6\n",
       "2019_predicted_mean       17140.1\n",
       "2019_predicted_std        6072.62\n",
       "2020_predicted_mean       17432.9\n",
       "2020_predicted_std        6064.77\n",
       "2021_predicted_mean       17724.7\n",
       "2021_predicted_std        6073.84\n",
       "2022_predicted_mean       17984.2\n",
       "2022_predicted_std        6112.43\n",
       "2023_predicted_mean       18084.4\n",
       "2023_predicted_std        6055.18\n",
       "5_yr_num_diff             328.064\n",
       "5_yr_pct_diff           0.0214307\n",
       "Sat_mean                   5112.7\n",
       "Sat_std                   1882.36\n",
       "Sun/Hol_mean              3906.94\n",
       "Sun/Hol_std               1620.32\n",
       "Weekday_mean              17965.6\n",
       "Weekday_std               2868.45\n",
       "daily_mean                13901.9\n",
       "daily_std                  6714.7\n",
       "latitude                  41.8857\n",
       "longitude                -87.6309\n",
       "num_na                          0\n",
       "num_yrs_from_past_5             5\n",
       "station                Clark/Lake\n",
       "weekday-sat               12852.9\n",
       "weekday-sun               14058.6\n",
       "Name: 133, dtype: object"
      ]
     },
     "execution_count": 3,
     "metadata": {},
     "output_type": "execute_result"
    }
   ],
   "source": [
    "# Find station with highest daily mean\n",
    "station_summary.loc[station_summary.daily_mean.idxmax()]"
   ]
  },
  {
   "cell_type": "code",
   "execution_count": 6,
   "metadata": {},
   "outputs": [],
   "source": [
    "high_means = station_summary.sort_values(by='daily_mean', ascending=False).iloc[0:10]"
   ]
  },
  {
   "cell_type": "code",
   "execution_count": 10,
   "metadata": {},
   "outputs": [
    {
     "data": {
      "image/png": "[encoded data removed]",
      "text/plain": [
       "<Figure size 432x288 with 1 Axes>"
      ]
     },
     "metadata": {
      "needs_background": "light"
     },
     "output_type": "display_data"
    }
   ],
   "source": [
    "# Plot stations with highest daily means\n",
    "fig, ax = plt.subplots()\n",
    "sns.barplot(x='station', y='daily_mean', data=high_means, ax=ax)\n",
    "ax.set_xticklabels(ax.get_xticklabels(), rotation=45, ha='right')\n",
    "plt.title('Top 10 Stations with Highest Daily Ridership', fontsize=18)\n",
    "ax.set_xlabel('Station', fontsize=14)\n",
    "ax.set_ylabel('Average Daily Rides', fontsize=14)\n",
    "plt.tight_layout()\n",
    "plt.savefig('figs/dailyrides_mean.png')"
   ]
  },
  {
   "cell_type": "code",
   "execution_count": 11,
   "metadata": {},
   "outputs": [
    {
     "data": {
      "text/html": [
       "<div>\n",
       "<style scoped>\n",
       "    .dataframe tbody tr th:only-of-type {\n",
       "        vertical-align: middle;\n",
       "    }\n",
       "\n",
       "    .dataframe tbody tr th {\n",
       "        vertical-align: top;\n",
       "    }\n",
       "\n",
       "    .dataframe thead th {\n",
       "        text-align: right;\n",
       "    }\n",
       "</style>\n",
       "<table border=\"1\" class=\"dataframe\">\n",
       "  <thead>\n",
       "    <tr style=\"text-align: right;\">\n",
       "      <th></th>\n",
       "      <th>Unnamed: 0</th>\n",
       "      <th>Unnamed: 0.1</th>\n",
       "      <th>2017_mean</th>\n",
       "      <th>2017_std</th>\n",
       "      <th>2018_mean</th>\n",
       "      <th>2018_predicted_mean</th>\n",
       "      <th>2018_predicted_std</th>\n",
       "      <th>2018_std</th>\n",
       "      <th>2019_predicted_mean</th>\n",
       "      <th>2019_predicted_std</th>\n",
       "      <th>...</th>\n",
       "      <th>Weekday_std</th>\n",
       "      <th>daily_mean</th>\n",
       "      <th>daily_std</th>\n",
       "      <th>latitude</th>\n",
       "      <th>longitude</th>\n",
       "      <th>num_na</th>\n",
       "      <th>num_yrs_from_past_5</th>\n",
       "      <th>station</th>\n",
       "      <th>weekday-sat</th>\n",
       "      <th>weekday-sun</th>\n",
       "    </tr>\n",
       "  </thead>\n",
       "  <tbody>\n",
       "    <tr>\n",
       "      <th>144</th>\n",
       "      <td>145</td>\n",
       "      <td>146</td>\n",
       "      <td>6646.986928</td>\n",
       "      <td>4142.266059</td>\n",
       "      <td>8217.79558</td>\n",
       "      <td>9326.215139</td>\n",
       "      <td>2165.349684</td>\n",
       "      <td>2713.632413</td>\n",
       "      <td>10697.046356</td>\n",
       "      <td>2194.505446</td>\n",
       "      <td>...</td>\n",
       "      <td>3035.752612</td>\n",
       "      <td>7498.233533</td>\n",
       "      <td>3525.173041</td>\n",
       "      <td>41.88322</td>\n",
       "      <td>-87.626189</td>\n",
       "      <td>0</td>\n",
       "      <td>1</td>\n",
       "      <td>Washington/Wabash</td>\n",
       "      <td>3886.143697</td>\n",
       "      <td>5519.735043</td>\n",
       "    </tr>\n",
       "  </tbody>\n",
       "</table>\n",
       "<p>1 rows × 35 columns</p>\n",
       "</div>"
      ],
      "text/plain": [
       "     Unnamed: 0  Unnamed: 0.1    2017_mean     2017_std   2018_mean  \\\n",
       "144         145           146  6646.986928  4142.266059  8217.79558   \n",
       "\n",
       "     2018_predicted_mean  2018_predicted_std     2018_std  \\\n",
       "144          9326.215139         2165.349684  2713.632413   \n",
       "\n",
       "     2019_predicted_mean  2019_predicted_std     ...       Weekday_std  \\\n",
       "144         10697.046356         2194.505446     ...       3035.752612   \n",
       "\n",
       "      daily_mean    daily_std  latitude  longitude  num_na  \\\n",
       "144  7498.233533  3525.173041  41.88322 -87.626189       0   \n",
       "\n",
       "     num_yrs_from_past_5            station  weekday-sat  weekday-sun  \n",
       "144                    1  Washington/Wabash  3886.143697  5519.735043  \n",
       "\n",
       "[1 rows x 35 columns]"
      ]
     },
     "execution_count": 11,
     "metadata": {},
     "output_type": "execute_result"
    }
   ],
   "source": [
    "# Find Washington/Wabash's std\n",
    "station_summary[station_summary['station']=='Washington/Wabash']"
   ]
  },
  {
   "cell_type": "code",
   "execution_count": 26,
   "metadata": {},
   "outputs": [
    {
     "data": {
      "text/html": [
       "<div>\n",
       "<style scoped>\n",
       "    .dataframe tbody tr th:only-of-type {\n",
       "        vertical-align: middle;\n",
       "    }\n",
       "\n",
       "    .dataframe tbody tr th {\n",
       "        vertical-align: top;\n",
       "    }\n",
       "\n",
       "    .dataframe thead th {\n",
       "        text-align: right;\n",
       "    }\n",
       "</style>\n",
       "<table border=\"1\" class=\"dataframe\">\n",
       "  <thead>\n",
       "    <tr style=\"text-align: right;\">\n",
       "      <th></th>\n",
       "      <th>Unnamed: 0</th>\n",
       "      <th>Unnamed: 0.1</th>\n",
       "      <th>2017_mean</th>\n",
       "      <th>2017_std</th>\n",
       "      <th>2018_mean</th>\n",
       "      <th>2018_predicted_mean</th>\n",
       "      <th>2018_predicted_std</th>\n",
       "      <th>2018_std</th>\n",
       "      <th>2019_predicted_mean</th>\n",
       "      <th>2019_predicted_std</th>\n",
       "      <th>...</th>\n",
       "      <th>Weekday_std</th>\n",
       "      <th>daily_mean</th>\n",
       "      <th>daily_std</th>\n",
       "      <th>latitude</th>\n",
       "      <th>longitude</th>\n",
       "      <th>num_na</th>\n",
       "      <th>num_yrs_from_past_5</th>\n",
       "      <th>weekday-sat</th>\n",
       "      <th>weekday-sun</th>\n",
       "      <th>high_std</th>\n",
       "    </tr>\n",
       "  </thead>\n",
       "  <tbody>\n",
       "    <tr>\n",
       "      <th>count</th>\n",
       "      <td>145.000000</td>\n",
       "      <td>145.000000</td>\n",
       "      <td>143.000000</td>\n",
       "      <td>143.000000</td>\n",
       "      <td>143.000000</td>\n",
       "      <td>142.000000</td>\n",
       "      <td>142.000000</td>\n",
       "      <td>142.000000</td>\n",
       "      <td>142.000000</td>\n",
       "      <td>142.000000</td>\n",
       "      <td>...</td>\n",
       "      <td>145.000000</td>\n",
       "      <td>145.000000</td>\n",
       "      <td>145.000000</td>\n",
       "      <td>145.000000</td>\n",
       "      <td>145.000000</td>\n",
       "      <td>145.000000</td>\n",
       "      <td>145.000000</td>\n",
       "      <td>145.000000</td>\n",
       "      <td>145.000000</td>\n",
       "      <td>145.000000</td>\n",
       "    </tr>\n",
       "    <tr>\n",
       "      <th>mean</th>\n",
       "      <td>72.020690</td>\n",
       "      <td>72.041379</td>\n",
       "      <td>3624.142758</td>\n",
       "      <td>1178.044243</td>\n",
       "      <td>3473.309238</td>\n",
       "      <td>3633.016400</td>\n",
       "      <td>978.541922</td>\n",
       "      <td>1106.656918</td>\n",
       "      <td>3538.765853</td>\n",
       "      <td>952.447398</td>\n",
       "      <td>...</td>\n",
       "      <td>823.643056</td>\n",
       "      <td>3332.544864</td>\n",
       "      <td>1265.439324</td>\n",
       "      <td>21.678619</td>\n",
       "      <td>-45.345411</td>\n",
       "      <td>5.586207</td>\n",
       "      <td>4.889655</td>\n",
       "      <td>1642.486147</td>\n",
       "      <td>2276.656902</td>\n",
       "      <td>0.068966</td>\n",
       "    </tr>\n",
       "    <tr>\n",
       "      <th>std</th>\n",
       "      <td>42.037429</td>\n",
       "      <td>42.073328</td>\n",
       "      <td>3148.194010</td>\n",
       "      <td>1155.541314</td>\n",
       "      <td>3050.606840</td>\n",
       "      <td>3211.661345</td>\n",
       "      <td>886.246549</td>\n",
       "      <td>1073.385581</td>\n",
       "      <td>3178.993457</td>\n",
       "      <td>865.761636</td>\n",
       "      <td>...</td>\n",
       "      <td>768.074171</td>\n",
       "      <td>2750.116198</td>\n",
       "      <td>1082.439173</td>\n",
       "      <td>21.016207</td>\n",
       "      <td>43.959691</td>\n",
       "      <td>21.790539</td>\n",
       "      <td>0.688368</td>\n",
       "      <td>1694.520911</td>\n",
       "      <td>2017.221316</td>\n",
       "      <td>0.254274</td>\n",
       "    </tr>\n",
       "    <tr>\n",
       "      <th>min</th>\n",
       "      <td>0.000000</td>\n",
       "      <td>0.000000</td>\n",
       "      <td>0.369863</td>\n",
       "      <td>7.066223</td>\n",
       "      <td>0.000000</td>\n",
       "      <td>405.402068</td>\n",
       "      <td>112.512593</td>\n",
       "      <td>15.625022</td>\n",
       "      <td>385.090695</td>\n",
       "      <td>109.920573</td>\n",
       "      <td>...</td>\n",
       "      <td>79.632200</td>\n",
       "      <td>335.545540</td>\n",
       "      <td>157.257942</td>\n",
       "      <td>0.000000</td>\n",
       "      <td>-87.859388</td>\n",
       "      <td>0.000000</td>\n",
       "      <td>0.000000</td>\n",
       "      <td>-159.353182</td>\n",
       "      <td>263.117676</td>\n",
       "      <td>0.000000</td>\n",
       "    </tr>\n",
       "    <tr>\n",
       "      <th>25%</th>\n",
       "      <td>36.000000</td>\n",
       "      <td>36.000000</td>\n",
       "      <td>1344.069863</td>\n",
       "      <td>416.207027</td>\n",
       "      <td>1309.140884</td>\n",
       "      <td>1388.879608</td>\n",
       "      <td>361.193097</td>\n",
       "      <td>401.703372</td>\n",
       "      <td>1267.581434</td>\n",
       "      <td>350.120598</td>\n",
       "      <td>...</td>\n",
       "      <td>344.488198</td>\n",
       "      <td>1293.669484</td>\n",
       "      <td>489.734903</td>\n",
       "      <td>0.000000</td>\n",
       "      <td>-87.658530</td>\n",
       "      <td>0.000000</td>\n",
       "      <td>5.000000</td>\n",
       "      <td>563.279163</td>\n",
       "      <td>863.200733</td>\n",
       "      <td>0.000000</td>\n",
       "    </tr>\n",
       "    <tr>\n",
       "      <th>50%</th>\n",
       "      <td>72.000000</td>\n",
       "      <td>72.000000</td>\n",
       "      <td>2695.473973</td>\n",
       "      <td>825.054824</td>\n",
       "      <td>2690.287293</td>\n",
       "      <td>2660.233016</td>\n",
       "      <td>732.665210</td>\n",
       "      <td>797.389902</td>\n",
       "      <td>2604.233465</td>\n",
       "      <td>707.697985</td>\n",
       "      <td>...</td>\n",
       "      <td>579.173629</td>\n",
       "      <td>2506.094992</td>\n",
       "      <td>962.885834</td>\n",
       "      <td>41.750419</td>\n",
       "      <td>-87.619021</td>\n",
       "      <td>0.000000</td>\n",
       "      <td>5.000000</td>\n",
       "      <td>1090.686464</td>\n",
       "      <td>1770.543054</td>\n",
       "      <td>0.000000</td>\n",
       "    </tr>\n",
       "    <tr>\n",
       "      <th>75%</th>\n",
       "      <td>108.000000</td>\n",
       "      <td>108.000000</td>\n",
       "      <td>4731.341096</td>\n",
       "      <td>1427.390391</td>\n",
       "      <td>4523.024862</td>\n",
       "      <td>4718.493484</td>\n",
       "      <td>1156.882332</td>\n",
       "      <td>1373.778599</td>\n",
       "      <td>4477.204549</td>\n",
       "      <td>1151.194680</td>\n",
       "      <td>...</td>\n",
       "      <td>1026.710465</td>\n",
       "      <td>4415.218310</td>\n",
       "      <td>1647.056492</td>\n",
       "      <td>41.888969</td>\n",
       "      <td>0.000000</td>\n",
       "      <td>0.000000</td>\n",
       "      <td>5.000000</td>\n",
       "      <td>2018.242734</td>\n",
       "      <td>2744.558358</td>\n",
       "      <td>0.000000</td>\n",
       "    </tr>\n",
       "    <tr>\n",
       "      <th>max</th>\n",
       "      <td>145.000000</td>\n",
       "      <td>146.000000</td>\n",
       "      <td>18220.276712</td>\n",
       "      <td>7487.371828</td>\n",
       "      <td>17311.762431</td>\n",
       "      <td>18336.763868</td>\n",
       "      <td>6151.896259</td>\n",
       "      <td>7388.604243</td>\n",
       "      <td>17836.384238</td>\n",
       "      <td>6072.616705</td>\n",
       "      <td>...</td>\n",
       "      <td>4412.254604</td>\n",
       "      <td>13901.899061</td>\n",
       "      <td>6714.698839</td>\n",
       "      <td>42.073153</td>\n",
       "      <td>0.000000</td>\n",
       "      <td>90.000000</td>\n",
       "      <td>5.000000</td>\n",
       "      <td>12852.859852</td>\n",
       "      <td>14058.623846</td>\n",
       "      <td>1.000000</td>\n",
       "    </tr>\n",
       "  </tbody>\n",
       "</table>\n",
       "<p>8 rows × 35 columns</p>\n",
       "</div>"
      ],
      "text/plain": [
       "       Unnamed: 0  Unnamed: 0.1     2017_mean     2017_std     2018_mean  \\\n",
       "count  145.000000    145.000000    143.000000   143.000000    143.000000   \n",
       "mean    72.020690     72.041379   3624.142758  1178.044243   3473.309238   \n",
       "std     42.037429     42.073328   3148.194010  1155.541314   3050.606840   \n",
       "min      0.000000      0.000000      0.369863     7.066223      0.000000   \n",
       "25%     36.000000     36.000000   1344.069863   416.207027   1309.140884   \n",
       "50%     72.000000     72.000000   2695.473973   825.054824   2690.287293   \n",
       "75%    108.000000    108.000000   4731.341096  1427.390391   4523.024862   \n",
       "max    145.000000    146.000000  18220.276712  7487.371828  17311.762431   \n",
       "\n",
       "       2018_predicted_mean  2018_predicted_std     2018_std  \\\n",
       "count           142.000000          142.000000   142.000000   \n",
       "mean           3633.016400          978.541922  1106.656918   \n",
       "std            3211.661345          886.246549  1073.385581   \n",
       "min             405.402068          112.512593    15.625022   \n",
       "25%            1388.879608          361.193097   401.703372   \n",
       "50%            2660.233016          732.665210   797.389902   \n",
       "75%            4718.493484         1156.882332  1373.778599   \n",
       "max           18336.763868         6151.896259  7388.604243   \n",
       "\n",
       "       2019_predicted_mean  2019_predicted_std     ...      Weekday_std  \\\n",
       "count           142.000000          142.000000     ...       145.000000   \n",
       "mean           3538.765853          952.447398     ...       823.643056   \n",
       "std            3178.993457          865.761636     ...       768.074171   \n",
       "min             385.090695          109.920573     ...        79.632200   \n",
       "25%            1267.581434          350.120598     ...       344.488198   \n",
       "50%            2604.233465          707.697985     ...       579.173629   \n",
       "75%            4477.204549         1151.194680     ...      1026.710465   \n",
       "max           17836.384238         6072.616705     ...      4412.254604   \n",
       "\n",
       "         daily_mean    daily_std    latitude   longitude      num_na  \\\n",
       "count    145.000000   145.000000  145.000000  145.000000  145.000000   \n",
       "mean    3332.544864  1265.439324   21.678619  -45.345411    5.586207   \n",
       "std     2750.116198  1082.439173   21.016207   43.959691   21.790539   \n",
       "min      335.545540   157.257942    0.000000  -87.859388    0.000000   \n",
       "25%     1293.669484   489.734903    0.000000  -87.658530    0.000000   \n",
       "50%     2506.094992   962.885834   41.750419  -87.619021    0.000000   \n",
       "75%     4415.218310  1647.056492   41.888969    0.000000    0.000000   \n",
       "max    13901.899061  6714.698839   42.073153    0.000000   90.000000   \n",
       "\n",
       "       num_yrs_from_past_5   weekday-sat   weekday-sun    high_std  \n",
       "count           145.000000    145.000000    145.000000  145.000000  \n",
       "mean              4.889655   1642.486147   2276.656902    0.068966  \n",
       "std               0.688368   1694.520911   2017.221316    0.254274  \n",
       "min               0.000000   -159.353182    263.117676    0.000000  \n",
       "25%               5.000000    563.279163    863.200733    0.000000  \n",
       "50%               5.000000   1090.686464   1770.543054    0.000000  \n",
       "75%               5.000000   2018.242734   2744.558358    0.000000  \n",
       "max               5.000000  12852.859852  14058.623846    1.000000  \n",
       "\n",
       "[8 rows x 35 columns]"
      ]
     },
     "execution_count": 26,
     "metadata": {},
     "output_type": "execute_result"
    }
   ],
   "source": [
    "station_summary.describe()"
   ]
  },
  {
   "cell_type": "markdown",
   "metadata": {},
   "source": [
    "### Plot stations with high standard deviations by day of the week & season"
   ]
  },
  {
   "cell_type": "code",
   "execution_count": 22,
   "metadata": {},
   "outputs": [],
   "source": [
    "high_stds = station_summary.sort_values(by='daily_std', ascending=False).iloc[0:10]\n",
    "station_summary['high_std']=0\n",
    "station_summary.loc[high_stds.index,'high_std']=1\n",
    "\n",
    "high_stations = high_stds.station.tolist()\n",
    "high_stds.set_index('station', inplace=True)"
   ]
  },
  {
   "cell_type": "code",
   "execution_count": 16,
   "metadata": {
    "scrolled": true
   },
   "outputs": [
    {
     "name": "stdout",
     "output_type": "stream",
     "text": [
      "hist_Clark_Lake_daytype.png\n",
      "hist_Lake_State_daytype.png\n",
      "hist_Jackson_State_daytype.png\n",
      "hist_Washington_State_daytype.png\n",
      "hist_Addison-North Main_daytype.png\n",
      "hist_95th_Dan Ryan_daytype.png\n",
      "hist_Washington_Wabash_daytype.png\n",
      "hist_Washington_Dearborn_daytype.png\n",
      "hist_Fullerton_daytype.png\n",
      "hist_Monroe_State_daytype.png\n"
     ]
    },
    {
     "data": {
      "text/plain": [
       "<Figure size 432x288 with 0 Axes>"
      ]
     },
     "metadata": {},
     "output_type": "display_data"
    },
    {
     "data": {
      "text/plain": [
       "<Figure size 432x288 with 0 Axes>"
      ]
     },
     "metadata": {},
     "output_type": "display_data"
    },
    {
     "data": {
      "text/plain": [
       "<Figure size 432x288 with 0 Axes>"
      ]
     },
     "metadata": {},
     "output_type": "display_data"
    },
    {
     "data": {
      "text/plain": [
       "<Figure size 432x288 with 0 Axes>"
      ]
     },
     "metadata": {},
     "output_type": "display_data"
    },
    {
     "data": {
      "text/plain": [
       "<Figure size 432x288 with 0 Axes>"
      ]
     },
     "metadata": {},
     "output_type": "display_data"
    },
    {
     "data": {
      "text/plain": [
       "<Figure size 432x288 with 0 Axes>"
      ]
     },
     "metadata": {},
     "output_type": "display_data"
    },
    {
     "data": {
      "text/plain": [
       "<Figure size 432x288 with 0 Axes>"
      ]
     },
     "metadata": {},
     "output_type": "display_data"
    },
    {
     "data": {
      "text/plain": [
       "<Figure size 432x288 with 0 Axes>"
      ]
     },
     "metadata": {},
     "output_type": "display_data"
    },
    {
     "data": {
      "text/plain": [
       "<Figure size 432x288 with 0 Axes>"
      ]
     },
     "metadata": {},
     "output_type": "display_data"
    },
    {
     "data": {
      "text/plain": [
       "<Figure size 432x288 with 0 Axes>"
      ]
     },
     "metadata": {},
     "output_type": "display_data"
    }
   ],
   "source": [
    "for stat in high_stations:\n",
    "    stat = Station(stat, ride_df, map_df)\n",
    "    stat.make_layered_hist('daytype')"
   ]
  },
  {
   "cell_type": "code",
   "execution_count": 17,
   "metadata": {
    "scrolled": true
   },
   "outputs": [
    {
     "name": "stdout",
     "output_type": "stream",
     "text": [
      "hist_Clark_Lake_season.png\n",
      "hist_Lake_State_season.png\n",
      "hist_Jackson_State_season.png\n",
      "hist_Washington_State_season.png\n",
      "hist_Addison-North Main_season.png\n",
      "hist_95th_Dan Ryan_season.png\n",
      "hist_Washington_Wabash_season.png\n",
      "hist_Washington_Dearborn_season.png\n",
      "hist_Fullerton_season.png\n",
      "hist_Monroe_State_season.png\n"
     ]
    },
    {
     "data": {
      "text/plain": [
       "<Figure size 432x288 with 0 Axes>"
      ]
     },
     "metadata": {},
     "output_type": "display_data"
    },
    {
     "data": {
      "text/plain": [
       "<Figure size 432x288 with 0 Axes>"
      ]
     },
     "metadata": {},
     "output_type": "display_data"
    },
    {
     "data": {
      "text/plain": [
       "<Figure size 432x288 with 0 Axes>"
      ]
     },
     "metadata": {},
     "output_type": "display_data"
    },
    {
     "data": {
      "text/plain": [
       "<Figure size 432x288 with 0 Axes>"
      ]
     },
     "metadata": {},
     "output_type": "display_data"
    },
    {
     "data": {
      "text/plain": [
       "<Figure size 432x288 with 0 Axes>"
      ]
     },
     "metadata": {},
     "output_type": "display_data"
    },
    {
     "data": {
      "text/plain": [
       "<Figure size 432x288 with 0 Axes>"
      ]
     },
     "metadata": {},
     "output_type": "display_data"
    },
    {
     "data": {
      "text/plain": [
       "<Figure size 432x288 with 0 Axes>"
      ]
     },
     "metadata": {},
     "output_type": "display_data"
    },
    {
     "data": {
      "text/plain": [
       "<Figure size 432x288 with 0 Axes>"
      ]
     },
     "metadata": {},
     "output_type": "display_data"
    },
    {
     "data": {
      "text/plain": [
       "<Figure size 432x288 with 0 Axes>"
      ]
     },
     "metadata": {},
     "output_type": "display_data"
    },
    {
     "data": {
      "text/plain": [
       "<Figure size 432x288 with 0 Axes>"
      ]
     },
     "metadata": {},
     "output_type": "display_data"
    }
   ],
   "source": [
    "for stat in high_stations:\n",
    "    stat = Station(stat, ride_df, map_df)\n",
    "    stat.make_layered_hist('season')"
   ]
  },
  {
   "cell_type": "code",
   "execution_count": 18,
   "metadata": {},
   "outputs": [
    {
     "data": {
      "text/plain": [
       "<matplotlib.axes._subplots.AxesSubplot at 0x123751a20>"
      ]
     },
     "execution_count": 18,
     "metadata": {},
     "output_type": "execute_result"
    },
    {
     "data": {
      "image/png": "[encoded data removed]",
      "text/plain": [
       "<Figure size 432x288 with 1 Axes>"
      ]
     },
     "metadata": {
      "needs_background": "light"
     },
     "output_type": "display_data"
    }
   ],
   "source": [
    "fig, ax = plt.subplots()\n",
    "sns.scatterplot(x=\"daily_std\", y=\"weekday-sat\", data=station_summary, ax=ax)\n",
    "sns.scatterplot(x=\"daily_std\", y=\"weekday-sat\", data=high_stds, color='red', ax=ax)"
   ]
  },
  {
   "cell_type": "code",
   "execution_count": 20,
   "metadata": {},
   "outputs": [
    {
     "data": {
      "text/plain": [
       "<matplotlib.axes._subplots.AxesSubplot at 0x1209062b0>"
      ]
     },
     "execution_count": 20,
     "metadata": {},
     "output_type": "execute_result"
    },
    {
     "data": {
      "image/png": "[encoded data removed]",
      "text/plain": [
       "<Figure size 432x288 with 1 Axes>"
      ]
     },
     "metadata": {
      "needs_background": "light"
     },
     "output_type": "display_data"
    }
   ],
   "source": [
    "fig, ax = plt.subplots()\n",
    "sns.scatterplot(x=\"daily_std\", y=\"daily_mean\", data=station_summary, ax=ax)\n",
    "sns.scatterplot(x=\"daily_std\", y=\"daily_mean\", data=high_stds, color='red', ax=ax)"
   ]
  },
  {
   "cell_type": "code",
   "execution_count": 25,
   "metadata": {},
   "outputs": [
    {
     "data": {
      "text/html": [
       "\n",
       "\n",
       "<style>\n",
       "\n",
       "</style>\n",
       "\n",
       "<div id=\"fig_el1800548160781605449765921\"></div>\n",
       "<script>\n",
       "function mpld3_load_lib(url, callback){\n",
       "  var s = document.createElement('script');\n",
       "  s.src = url;\n",
       "  s.async = true;\n",
       "  s.onreadystatechange = s.onload = callback;\n",
       "  s.onerror = function(){console.warn(\"failed to load library \" + url);};\n",
       "  document.getElementsByTagName(\"head\")[0].appendChild(s);\n",
       "}\n",
       "\n",
       "if(typeof(mpld3) !== \"undefined\" && mpld3._mpld3IsLoaded){\n",
       "   // already loaded: just create the figure\n",
       "   !function(mpld3){\n",
       "       \n",
       "       mpld3.draw_figure(\"fig_el1800548160781605449765921\", {\"width\": 432.0, \"height\": 288.0, \"axes\": [{\"bbox\": [0.125, 0.125, 0.775, 0.755], \"xlim\": [-170.62395901980074, 7042.5807401070115], \"ylim\": [-342.7873127506763, 14580.231913689644], \"xdomain\": [-170.62395901980074, 7042.5807401070115], \"ydomain\": [-342.7873127506763, 14580.231913689644], \"xscale\": \"linear\", \"yscale\": \"linear\", \"axes\": [{\"position\": \"bottom\", \"nticks\": 10, \"tickvalues\": null, \"tickformat\": null, \"scale\": \"linear\", \"fontsize\": 12.0, \"grid\": {\"gridOn\": true, \"color\": \"#FFFFFF\", \"dasharray\": \"none\", \"alpha\": 1.0}, \"visible\": true}, {\"position\": \"left\", \"nticks\": 10, \"tickvalues\": null, \"tickformat\": null, \"scale\": \"linear\", \"fontsize\": 12.0, \"grid\": {\"gridOn\": true, \"color\": \"#FFFFFF\", \"dasharray\": \"none\", \"alpha\": 1.0}, \"visible\": true}], \"axesbg\": \"#EEEEEE\", \"axesbgalpha\": null, \"zoomable\": true, \"id\": \"el180054899062840\", \"lines\": [], \"paths\": [], \"markers\": [], \"texts\": [{\"text\": \"Mean Daily Standard Deviation\", \"position\": [0.49999999999999994, -0.11037527593818983], \"coordinates\": \"axes\", \"h_anchor\": \"middle\", \"v_baseline\": \"hanging\", \"rotation\": -0.0, \"fontsize\": 16.0, \"color\": \"#000000\", \"alpha\": 1, \"zorder\": 3, \"id\": \"el180054844231872\"}, {\"text\": \"Mean Daily Rides\", \"position\": [-0.14560931899641577, 0.49999999999999994], \"coordinates\": \"axes\", \"h_anchor\": \"middle\", \"v_baseline\": \"auto\", \"rotation\": -90.0, \"fontsize\": 16.0, \"color\": \"#000000\", \"alpha\": 1, \"zorder\": 3, \"id\": \"el180054834943608\"}, {\"text\": \"daily_std vs daily_mean\", \"position\": [0.49999999999999994, 1.0275938189845473], \"coordinates\": \"axes\", \"h_anchor\": \"middle\", \"v_baseline\": \"auto\", \"rotation\": -0.0, \"fontsize\": 20.0, \"color\": \"#000000\", \"alpha\": 1, \"zorder\": 3, \"id\": \"el180054899172024\"}], \"collections\": [{\"offsets\": \"data01\", \"xindex\": 0, \"yindex\": 1, \"paths\": [[[[0.0, -0.5], [0.13260155, -0.5], [0.25978993539242673, -0.44731684579412084], [0.3535533905932738, -0.3535533905932738], [0.44731684579412084, -0.25978993539242673], [0.5, -0.13260155], [0.5, 0.0], [0.5, 0.13260155], [0.44731684579412084, 0.25978993539242673], [0.3535533905932738, 0.3535533905932738], [0.25978993539242673, 0.44731684579412084], [0.13260155, 0.5], [0.0, 0.5], [-0.13260155, 0.5], [-0.25978993539242673, 0.44731684579412084], [-0.3535533905932738, 0.3535533905932738], [-0.44731684579412084, 0.25978993539242673], [-0.5, 0.13260155], [-0.5, 0.0], [-0.5, -0.13260155], [-0.44731684579412084, -0.25978993539242673], [-0.3535533905932738, -0.3535533905932738], [-0.25978993539242673, -0.44731684579412084], [-0.13260155, -0.5], [0.0, -0.5]], [\"M\", \"C\", \"C\", \"C\", \"C\", \"C\", \"C\", \"C\", \"C\", \"Z\"]]], \"pathtransforms\": [[6.0, 0.0, 0.0, 6.0, 0.0, 0.0]], \"alphas\": [0.9], \"edgecolors\": [\"#66C2A5\", \"#66C2A5\", \"#66C2A5\", \"#66C2A5\", \"#66C2A5\", \"#66C2A5\", \"#66C2A5\", \"#66C2A5\", \"#66C2A5\", \"#66C2A5\", \"#66C2A5\", \"#66C2A5\", \"#66C2A5\", \"#66C2A5\", \"#FC8D62\", \"#66C2A5\", \"#66C2A5\", \"#66C2A5\", \"#66C2A5\", \"#66C2A5\", \"#66C2A5\", \"#66C2A5\", \"#66C2A5\", \"#66C2A5\", \"#66C2A5\", \"#66C2A5\", \"#66C2A5\", \"#66C2A5\", \"#66C2A5\", \"#66C2A5\", \"#66C2A5\", \"#66C2A5\", \"#66C2A5\", \"#66C2A5\", \"#66C2A5\", \"#66C2A5\", \"#66C2A5\", \"#66C2A5\", \"#66C2A5\", \"#66C2A5\", \"#66C2A5\", \"#66C2A5\", \"#66C2A5\", \"#66C2A5\", \"#FC8D62\", \"#66C2A5\", \"#66C2A5\", \"#66C2A5\", \"#66C2A5\", \"#66C2A5\", \"#66C2A5\", \"#66C2A5\", \"#66C2A5\", \"#66C2A5\", \"#66C2A5\", \"#66C2A5\", \"#66C2A5\", \"#66C2A5\", \"#66C2A5\", \"#66C2A5\", \"#66C2A5\", \"#66C2A5\", \"#66C2A5\", \"#66C2A5\", \"#66C2A5\", \"#FC8D62\", \"#66C2A5\", \"#66C2A5\", \"#66C2A5\", \"#66C2A5\", \"#66C2A5\", \"#66C2A5\", \"#66C2A5\", \"#66C2A5\", \"#66C2A5\", \"#66C2A5\", \"#66C2A5\", \"#66C2A5\", \"#66C2A5\", \"#66C2A5\", \"#66C2A5\", \"#66C2A5\", \"#66C2A5\", \"#66C2A5\", \"#66C2A5\", \"#66C2A5\", \"#66C2A5\", \"#66C2A5\", \"#66C2A5\", \"#66C2A5\", \"#66C2A5\", \"#66C2A5\", \"#66C2A5\", \"#66C2A5\", \"#66C2A5\", \"#FC8D62\", \"#66C2A5\", \"#66C2A5\", \"#66C2A5\", \"#FC8D62\", \"#66C2A5\", \"#66C2A5\", \"#66C2A5\", \"#66C2A5\", \"#66C2A5\", \"#FC8D62\", \"#66C2A5\", \"#FC8D62\", \"#66C2A5\", \"#66C2A5\", \"#66C2A5\", \"#66C2A5\", \"#66C2A5\", \"#66C2A5\", \"#66C2A5\", \"#66C2A5\", \"#66C2A5\", \"#66C2A5\", \"#66C2A5\", \"#66C2A5\", \"#66C2A5\", \"#66C2A5\", \"#66C2A5\", \"#66C2A5\", \"#66C2A5\", \"#66C2A5\", \"#66C2A5\", \"#66C2A5\", \"#66C2A5\", \"#66C2A5\", \"#66C2A5\", \"#FC8D62\", \"#66C2A5\", \"#FC8D62\", \"#66C2A5\", \"#66C2A5\", \"#66C2A5\", \"#66C2A5\", \"#66C2A5\", \"#66C2A5\", \"#66C2A5\", \"#66C2A5\", \"#66C2A5\", \"#66C2A5\", \"#FC8D62\"], \"facecolors\": [\"#66C2A5\", \"#66C2A5\", \"#66C2A5\", \"#66C2A5\", \"#66C2A5\", \"#66C2A5\", \"#66C2A5\", \"#66C2A5\", \"#66C2A5\", \"#66C2A5\", \"#66C2A5\", \"#66C2A5\", \"#66C2A5\", \"#66C2A5\", \"#FC8D62\", \"#66C2A5\", \"#66C2A5\", \"#66C2A5\", \"#66C2A5\", \"#66C2A5\", \"#66C2A5\", \"#66C2A5\", \"#66C2A5\", \"#66C2A5\", \"#66C2A5\", \"#66C2A5\", \"#66C2A5\", \"#66C2A5\", \"#66C2A5\", \"#66C2A5\", \"#66C2A5\", \"#66C2A5\", \"#66C2A5\", \"#66C2A5\", \"#66C2A5\", \"#66C2A5\", \"#66C2A5\", \"#66C2A5\", \"#66C2A5\", \"#66C2A5\", \"#66C2A5\", \"#66C2A5\", \"#66C2A5\", \"#66C2A5\", \"#FC8D62\", \"#66C2A5\", \"#66C2A5\", \"#66C2A5\", \"#66C2A5\", \"#66C2A5\", \"#66C2A5\", \"#66C2A5\", \"#66C2A5\", \"#66C2A5\", \"#66C2A5\", \"#66C2A5\", \"#66C2A5\", \"#66C2A5\", \"#66C2A5\", \"#66C2A5\", \"#66C2A5\", \"#66C2A5\", \"#66C2A5\", \"#66C2A5\", \"#66C2A5\", \"#FC8D62\", \"#66C2A5\", \"#66C2A5\", \"#66C2A5\", \"#66C2A5\", \"#66C2A5\", \"#66C2A5\", \"#66C2A5\", \"#66C2A5\", \"#66C2A5\", \"#66C2A5\", \"#66C2A5\", \"#66C2A5\", \"#66C2A5\", \"#66C2A5\", \"#66C2A5\", \"#66C2A5\", \"#66C2A5\", \"#66C2A5\", \"#66C2A5\", \"#66C2A5\", \"#66C2A5\", \"#66C2A5\", \"#66C2A5\", \"#66C2A5\", \"#66C2A5\", \"#66C2A5\", \"#66C2A5\", \"#66C2A5\", \"#66C2A5\", \"#FC8D62\", \"#66C2A5\", \"#66C2A5\", \"#66C2A5\", \"#FC8D62\", \"#66C2A5\", \"#66C2A5\", \"#66C2A5\", \"#66C2A5\", \"#66C2A5\", \"#FC8D62\", \"#66C2A5\", \"#FC8D62\", \"#66C2A5\", \"#66C2A5\", \"#66C2A5\", \"#66C2A5\", \"#66C2A5\", \"#66C2A5\", \"#66C2A5\", \"#66C2A5\", \"#66C2A5\", \"#66C2A5\", \"#66C2A5\", \"#66C2A5\", \"#66C2A5\", \"#66C2A5\", \"#66C2A5\", \"#66C2A5\", \"#66C2A5\", \"#66C2A5\", \"#66C2A5\", \"#66C2A5\", \"#66C2A5\", \"#66C2A5\", \"#66C2A5\", \"#FC8D62\", \"#66C2A5\", \"#FC8D62\", \"#66C2A5\", \"#66C2A5\", \"#66C2A5\", \"#66C2A5\", \"#66C2A5\", \"#66C2A5\", \"#66C2A5\", \"#66C2A5\", \"#66C2A5\", \"#66C2A5\", \"#FC8D62\"], \"edgewidths\": [1.0], \"offsetcoordinates\": \"data\", \"pathcoordinates\": \"display\", \"zorder\": 1, \"id\": \"el180054899156824\"}], \"images\": [], \"sharex\": [], \"sharey\": []}], \"data\": {\"data01\": [[2388.028698322405, 4112.129420970266], [840.0694640744423, 2114.2514866979654], [839.8823890804636, 3314.590453834116], [2592.689302726716, 6018.8787167449145], [823.3499200577292, 1808.100469483568], [1699.3487088490292, 4680.869953051643], [364.4908165305488, 1124.264475743349], [539.1795485874094, 1664.0805946791863], [1434.1835528249294, 4020.374804381847], [851.0256754976442, 1841.057902973396], [1107.3432232592677, 2248.6979655712053], [2509.642940465689, 9533.361345852894], [346.4225138472897, 896.9311424100157], [1060.4911398555575, 1855.219084712756], [3593.7549730870874, 10664.410534591196], [228.77208502379884, 616.7261345852895], [395.64274793535174, 773.9093896713615], [169.90537344122083, 712.9215962441315], [2656.809710918308, 4834.429733959311], [224.53614360022823, 658.0669796557121], [1829.8859670864483, 5425.964788732394], [290.67062654912525, 949.1278560250393], [460.70467810791007, 1076.6297339593114], [2111.5905184401886, 4437.319248826291], [359.6940306955919, 786.9865414710486], [1133.0088878529784, 3434.0430359937404], [857.9322883071684, 1949.487636932708], [377.60733551723627, 667.4107981220658], [2997.401068517401, 12953.195931142407], [358.72345925101575, 1116.1331768388106], [1279.9344137442156, 5364.79186228482], [696.1128459271283, 2985.558998435055], [1908.0665943529846, 1407.9868544600934], [2677.023396219259, 6291.874334898279], [739.4443892939557, 2798.916118935837], [817.9962514753844, 3314.9992175273865], [449.4079341373242, 1073.5464788732395], [230.86220298629203, 667.8553990610327], [297.77076567190085, 835.0302034428795], [962.8858336007178, 3399.862893081761], [364.98305622562884, 740.5431924882629], [298.76165961339063, 854.6962441314554], [321.25556949439516, 680.1087636932707], [878.8339547250138, 2324.806416275431], [3665.0119195241828, 7342.777464788733], [2697.560804219743, 8469.159937402192], [994.9358917159732, 2128.139593114241], [521.0985709312213, 1636.807042253521], [1508.1316994423182, 3662.850860719874], [447.0718579709746, 1426.6435054773083], [283.66812684179087, 1033.942566510172], [879.7832338238447, 1977.0536776212832], [306.51737930635363, 1089.5280125195618], [1042.7080955383094, 2411.444913928013], [1219.5983149177616, 4593.392644757433], [488.9583796774835, 948.7007824726137], [1420.4118849595582, 5055.9226415094345], [832.1049820699902, 1811.1856025039124], [1248.147109517294, 3156.2998435054774], [541.246213041565, 1293.6694835680748], [975.2408256889177, 3092.8051643192493], [572.2861822223226, 1535.0688575899844], [1120.5917313156604, 2901.2327073552424], [2536.0886956332424, 10472.544287949922], [600.286216867956, 2490.0697965571203], [5700.114941045508, 13715.50172143975], [1106.6531727708225, 2095.642879499217], [1364.0451275420712, 3400.4827856025045], [421.23490656282615, 1265.9109546165885], [1046.5544959631193, 2853.688732394366], [273.9379343320863, 694.0330203442877], [1953.39563795971, 9112.181690140846], [1684.7798913981048, 4617.789045383412], [383.5176349055194, 1181.4143974960875], [1265.6802404116202, 2330.414710485133], [2730.644648174827, 5592.357276995305], [667.7528129988176, 1547.2039123630673], [1122.8624342444007, 3091.162910798122], [1252.6067264863452, 4152.162106918239], [1498.0803050214624, 4914.912676056338], [332.04436357078333, 1202.4539906103287], [1288.1932683223704, 4158.435680751174], [1098.671218068889, 3267.6029733959313], [1260.2638131039882, 2237.65524256651], [939.7350430490086, 3838.794366197183], [1472.6568554651624, 6581.714710485133], [513.3139380602526, 959.9907668231613], [995.9818964582727, 3542.530188679245], [2399.484642959599, 7334.274804381846], [696.6174138682521, 2528.779499217527], [1793.2815204637106, 5001.68544600939], [1689.8169444255357, 4096.406729264476], [1521.4151941642526, 2695.664162754304], [863.143954471029, 1745.235054773083], [383.9631287288221, 1414.6039123630676], [3820.036581655184, 8889.740845070422], [1804.1305424731922, 3953.5311320754718], [754.2436012601519, 1633.1632237871675], [174.30345340184815, 563.6528951486697], [3415.141617076321, 10267.807042253522], [614.4634055741423, 1578.8370892018781], [1372.1829637498558, 2893.730672926448], [379.29586587905146, 936.2181533646324], [1647.0564922799977, 4410.8902973395925], [927.2326852713844, 2559.555399061033], [3227.602759275777, 7345.107981220657], [513.1616297854476, 1391.99186228482], [3443.6895538615368, 7806.03208137715], [2940.096736632911, 5631.780751173708], [1068.0673956759556, 2506.094992175274], [564.0941614023093, 1258.8862284820032], [2983.965306225778, 5346.157433489828], [882.7415939725229, 2249.2292644757435], [1796.8982214539346, 6494.720440251574], [1241.4031685959615, 3187.084194053208], [988.2544153166534, 4066.7032863849763], [800.2877140976433, 2910.0067610062893], [552.6784414960398, 1958.7862284820028], [2718.3884131700656, 7794.028325508607], [2445.5295691606325, 3768.085668276973], [157.25794242307654, 335.54553990610333], [346.195545862234, 1153.1123630672926], [2483.556387100425, 5014.577621283255], [777.2607323261287, 1835.33896713615], [1177.6060307926562, 4415.218309859155], [1015.6555586988693, 2177.7810641627543], [689.8228532109738, 1761.8170579029736], [1678.188052899269, 4028.6302034428804], [422.92068426026435, 768.477151799687], [443.58412779094596, 1289.6636932707354], [290.11590071184173, 855.5608763693269], [3814.963167145299, 4849.6864205892325], [565.902620773471, 1337.8438184663535], [6714.698838664134, 13901.899061032864], [429.1172924955956, 1215.952269170579], [313.4998042731918, 1345.5851330203445], [967.4039529113693, 3223.5435054773084], [1228.5172867169808, 2815.5896713615025], [1250.995798485307, 4433.680751173709], [764.3614219411214, 2626.0287735849056], [837.6201293133857, 2193.5575899843507], [246.80500124318803, 711.3099855746112], [794.7797576489792, 2074.0421847246894], [489.7349033859996, 1224.4338292873924], [3525.1730414726617, 7498.233532934131]]}, \"id\": \"el180054816078160\", \"plugins\": [{\"type\": \"reset\"}, {\"type\": \"zoom\", \"button\": true, \"enabled\": false}, {\"type\": \"boxzoom\", \"button\": true, \"enabled\": false}, {\"type\": \"tooltip\", \"id\": \"el180054899156824\", \"labels\": [\"UIC-Halsted\", \"Halsted-Orange\", \"Granville\", \"Jackson/Dearborn\", \"Damen-Brown\", \"Damen/Milwaukee\", \"East 63rd-Cottage Grove\", \"Austin-Lake\", \"Cumberland\", \"35-Bronzeville-IIT\", \"Medical Center\", \"Grand/State\", \"Linden\", \"Skokie\", \"95th/Dan Ryan\", \"Noyes\", \"Pulaski-Cermak\", \"Dempster\", \"Merchandise Mart\", \"South Boulevard\", \"Jefferson Park\", \"51st\", \"Francisco\", \"Chicago/Franklin\", \"Western-Cermak\", \"Irving Park-O'Hare\", \"Montrose-Brown\", \"Kedzie-Cermak\", \"Chicago/State\", \"47th-South Elevated\", \"Howard\", \"Berwyn\", \"Garfield-South Elevated\", \"Adams/Wabash\", \"Lawrence\", \"Davis\", \"Ridgeland\", \"Foster\", \"43rd\", \"Garfield-Dan Ryan\", \"Central-Evanston\", \"Harlem-Forest Park\", \"Halsted/63rd\", \"Harlem-O'Hare\", \"Addison-North Main\", \"Roosevelt\", \"Irving Park-Brown\", \"Kedzie-Homan-Forest Park\", \"Western/Milwaukee\", \"Pulaski-Lake\", \"Main\", \"Paulina\", \"Cicero-Forest Park\", \"Southport\", \"Loyola\", \"Damen-Cermak\", \"69th\", \"Ashland-Lake\", \"Harrison\", \"Rockwell\", \"Harlem-Lake\", \"Austin-Forest Park\", \"Western-Orange\", \"Belmont-North Main\", \"Argyle\", \"Lake/State\", \"Wellington\", \"California/Milwaukee\", \"Ashland-Orange\", \"Sedgwick\", \"Indiana\", \"O'Hare Airport\", \"Rosemont\", \"Kedzie-Lake\", \"Polk\", \"Randolph/Wabash\", \"54th/Cermak\", \"Forest Park\", \"87th\", \"Wilson\", \"Cicero-Lake\", \"Belmont-O'Hare\", \"Kimball\", \"LaSalle/Van Buren\", \"Morse\", \"Clark/Division\", \"California-Cermak\", \"Cermak-Chinatown\", \"Midway Airport\", \"Thorndale\", \"Logan Square\", \"Pulaski-Orange\", \"Clinton-Lake\", \"Addison-Brown\", \"Pulaski-Forest Park\", \"Jackson/State\", \"Sox-35th-Dan Ryan\", \"Grand/Milwaukee\", \"King Drive\", \"Fullerton\", \"Kedzie-Brown\", \"Library\", \"Cicero-Cermak\", \"Division/Milwaukee\", \"Kedzie-Midway\", \"Monroe/State\", \"Ashland/63rd\", \"Washington/Dearborn\", \"Quincy/Wells\", \"Clinton-Forest Park\", \"18th\", \"Washington/Wells\", \"35th/Archer\", \"79th\", \"Armitage\", \"Bryn Mawr\", \"63rd-Dan Ryan\", \"Central-Lake\", \"State/Lake\", \"Madison/Wabash\", \"Kostner\", \"Laramie\", \"Monroe/Dearborn\", \"Racine\", \"Sheridan\", \"LaSalle\", \"Montrose-O'Hare\", \"Diversey\", \"Central Park\", \"Oak Park-Lake\", \"California-Lake\", \"Washington/State\", \"Oak Park-Forest Park\", \"Clark/Lake\", \"Western-Forest Park\", \"Jarvis\", \"Western-Brown\", \"Chicago/Milwaukee\", \"North/Clybourn\", \"47th-Dan Ryan\", \"Addison-O'Hare\", \"Conservatory\", \"Morgan-Lake\", \"Cermak-McCormick Place\", \"Washington/Wabash\"], \"hoffset\": 0, \"voffset\": 10, \"location\": \"mouse\"}]});\n",
       "   }(mpld3);\n",
       "}else if(typeof define === \"function\" && define.amd){\n",
       "   // require.js is available: use it to load d3/mpld3\n",
       "   require.config({paths: {d3: \"https://mpld3.github.io/js/d3.v3.min\"}});\n",
       "   require([\"d3\"], function(d3){\n",
       "      window.d3 = d3;\n",
       "      mpld3_load_lib(\"https://mpld3.github.io/js/mpld3.v0.3.1.dev1.js\", function(){\n",
       "         \n",
       "         mpld3.draw_figure(\"fig_el1800548160781605449765921\", {\"width\": 432.0, \"height\": 288.0, \"axes\": [{\"bbox\": [0.125, 0.125, 0.775, 0.755], \"xlim\": [-170.62395901980074, 7042.5807401070115], \"ylim\": [-342.7873127506763, 14580.231913689644], \"xdomain\": [-170.62395901980074, 7042.5807401070115], \"ydomain\": [-342.7873127506763, 14580.231913689644], \"xscale\": \"linear\", \"yscale\": \"linear\", \"axes\": [{\"position\": \"bottom\", \"nticks\": 10, \"tickvalues\": null, \"tickformat\": null, \"scale\": \"linear\", \"fontsize\": 12.0, \"grid\": {\"gridOn\": true, \"color\": \"#FFFFFF\", \"dasharray\": \"none\", \"alpha\": 1.0}, \"visible\": true}, {\"position\": \"left\", \"nticks\": 10, \"tickvalues\": null, \"tickformat\": null, \"scale\": \"linear\", \"fontsize\": 12.0, \"grid\": {\"gridOn\": true, \"color\": \"#FFFFFF\", \"dasharray\": \"none\", \"alpha\": 1.0}, \"visible\": true}], \"axesbg\": \"#EEEEEE\", \"axesbgalpha\": null, \"zoomable\": true, \"id\": \"el180054899062840\", \"lines\": [], \"paths\": [], \"markers\": [], \"texts\": [{\"text\": \"Mean Daily Standard Deviation\", \"position\": [0.49999999999999994, -0.11037527593818983], \"coordinates\": \"axes\", \"h_anchor\": \"middle\", \"v_baseline\": \"hanging\", \"rotation\": -0.0, \"fontsize\": 16.0, \"color\": \"#000000\", \"alpha\": 1, \"zorder\": 3, \"id\": \"el180054844231872\"}, {\"text\": \"Mean Daily Rides\", \"position\": [-0.14560931899641577, 0.49999999999999994], \"coordinates\": \"axes\", \"h_anchor\": \"middle\", \"v_baseline\": \"auto\", \"rotation\": -90.0, \"fontsize\": 16.0, \"color\": \"#000000\", \"alpha\": 1, \"zorder\": 3, \"id\": \"el180054834943608\"}, {\"text\": \"daily_std vs daily_mean\", \"position\": [0.49999999999999994, 1.0275938189845473], \"coordinates\": \"axes\", \"h_anchor\": \"middle\", \"v_baseline\": \"auto\", \"rotation\": -0.0, \"fontsize\": 20.0, \"color\": \"#000000\", \"alpha\": 1, \"zorder\": 3, \"id\": \"el180054899172024\"}], \"collections\": [{\"offsets\": \"data01\", \"xindex\": 0, \"yindex\": 1, \"paths\": [[[[0.0, -0.5], [0.13260155, -0.5], [0.25978993539242673, -0.44731684579412084], [0.3535533905932738, -0.3535533905932738], [0.44731684579412084, -0.25978993539242673], [0.5, -0.13260155], [0.5, 0.0], [0.5, 0.13260155], [0.44731684579412084, 0.25978993539242673], [0.3535533905932738, 0.3535533905932738], [0.25978993539242673, 0.44731684579412084], [0.13260155, 0.5], [0.0, 0.5], [-0.13260155, 0.5], [-0.25978993539242673, 0.44731684579412084], [-0.3535533905932738, 0.3535533905932738], [-0.44731684579412084, 0.25978993539242673], [-0.5, 0.13260155], [-0.5, 0.0], [-0.5, -0.13260155], [-0.44731684579412084, -0.25978993539242673], [-0.3535533905932738, -0.3535533905932738], [-0.25978993539242673, -0.44731684579412084], [-0.13260155, -0.5], [0.0, -0.5]], [\"M\", \"C\", \"C\", \"C\", \"C\", \"C\", \"C\", \"C\", \"C\", \"Z\"]]], \"pathtransforms\": [[6.0, 0.0, 0.0, 6.0, 0.0, 0.0]], \"alphas\": [0.9], \"edgecolors\": [\"#66C2A5\", \"#66C2A5\", \"#66C2A5\", \"#66C2A5\", \"#66C2A5\", \"#66C2A5\", \"#66C2A5\", \"#66C2A5\", \"#66C2A5\", \"#66C2A5\", \"#66C2A5\", \"#66C2A5\", \"#66C2A5\", \"#66C2A5\", \"#FC8D62\", \"#66C2A5\", \"#66C2A5\", \"#66C2A5\", \"#66C2A5\", \"#66C2A5\", \"#66C2A5\", \"#66C2A5\", \"#66C2A5\", \"#66C2A5\", \"#66C2A5\", \"#66C2A5\", \"#66C2A5\", \"#66C2A5\", \"#66C2A5\", \"#66C2A5\", \"#66C2A5\", \"#66C2A5\", \"#66C2A5\", \"#66C2A5\", \"#66C2A5\", \"#66C2A5\", \"#66C2A5\", \"#66C2A5\", \"#66C2A5\", \"#66C2A5\", \"#66C2A5\", \"#66C2A5\", \"#66C2A5\", \"#66C2A5\", \"#FC8D62\", \"#66C2A5\", \"#66C2A5\", \"#66C2A5\", \"#66C2A5\", \"#66C2A5\", \"#66C2A5\", \"#66C2A5\", \"#66C2A5\", \"#66C2A5\", \"#66C2A5\", \"#66C2A5\", \"#66C2A5\", \"#66C2A5\", \"#66C2A5\", \"#66C2A5\", \"#66C2A5\", \"#66C2A5\", \"#66C2A5\", \"#66C2A5\", \"#66C2A5\", \"#FC8D62\", \"#66C2A5\", \"#66C2A5\", \"#66C2A5\", \"#66C2A5\", \"#66C2A5\", \"#66C2A5\", \"#66C2A5\", \"#66C2A5\", \"#66C2A5\", \"#66C2A5\", \"#66C2A5\", \"#66C2A5\", \"#66C2A5\", \"#66C2A5\", \"#66C2A5\", \"#66C2A5\", \"#66C2A5\", \"#66C2A5\", \"#66C2A5\", \"#66C2A5\", \"#66C2A5\", \"#66C2A5\", \"#66C2A5\", \"#66C2A5\", \"#66C2A5\", \"#66C2A5\", \"#66C2A5\", \"#66C2A5\", \"#66C2A5\", \"#FC8D62\", \"#66C2A5\", \"#66C2A5\", \"#66C2A5\", \"#FC8D62\", \"#66C2A5\", \"#66C2A5\", \"#66C2A5\", \"#66C2A5\", \"#66C2A5\", \"#FC8D62\", \"#66C2A5\", \"#FC8D62\", \"#66C2A5\", \"#66C2A5\", \"#66C2A5\", \"#66C2A5\", \"#66C2A5\", \"#66C2A5\", \"#66C2A5\", \"#66C2A5\", \"#66C2A5\", \"#66C2A5\", \"#66C2A5\", \"#66C2A5\", \"#66C2A5\", \"#66C2A5\", \"#66C2A5\", \"#66C2A5\", \"#66C2A5\", \"#66C2A5\", \"#66C2A5\", \"#66C2A5\", \"#66C2A5\", \"#66C2A5\", \"#66C2A5\", \"#FC8D62\", \"#66C2A5\", \"#FC8D62\", \"#66C2A5\", \"#66C2A5\", \"#66C2A5\", \"#66C2A5\", \"#66C2A5\", \"#66C2A5\", \"#66C2A5\", \"#66C2A5\", \"#66C2A5\", \"#66C2A5\", \"#FC8D62\"], \"facecolors\": [\"#66C2A5\", \"#66C2A5\", \"#66C2A5\", \"#66C2A5\", \"#66C2A5\", \"#66C2A5\", \"#66C2A5\", \"#66C2A5\", \"#66C2A5\", \"#66C2A5\", \"#66C2A5\", \"#66C2A5\", \"#66C2A5\", \"#66C2A5\", \"#FC8D62\", \"#66C2A5\", \"#66C2A5\", \"#66C2A5\", \"#66C2A5\", \"#66C2A5\", \"#66C2A5\", \"#66C2A5\", \"#66C2A5\", \"#66C2A5\", \"#66C2A5\", \"#66C2A5\", \"#66C2A5\", \"#66C2A5\", \"#66C2A5\", \"#66C2A5\", \"#66C2A5\", \"#66C2A5\", \"#66C2A5\", \"#66C2A5\", \"#66C2A5\", \"#66C2A5\", \"#66C2A5\", \"#66C2A5\", \"#66C2A5\", \"#66C2A5\", \"#66C2A5\", \"#66C2A5\", \"#66C2A5\", \"#66C2A5\", \"#FC8D62\", \"#66C2A5\", \"#66C2A5\", \"#66C2A5\", \"#66C2A5\", \"#66C2A5\", \"#66C2A5\", \"#66C2A5\", \"#66C2A5\", \"#66C2A5\", \"#66C2A5\", \"#66C2A5\", \"#66C2A5\", \"#66C2A5\", \"#66C2A5\", \"#66C2A5\", \"#66C2A5\", \"#66C2A5\", \"#66C2A5\", \"#66C2A5\", \"#66C2A5\", \"#FC8D62\", \"#66C2A5\", \"#66C2A5\", \"#66C2A5\", \"#66C2A5\", \"#66C2A5\", \"#66C2A5\", \"#66C2A5\", \"#66C2A5\", \"#66C2A5\", \"#66C2A5\", \"#66C2A5\", \"#66C2A5\", \"#66C2A5\", \"#66C2A5\", \"#66C2A5\", \"#66C2A5\", \"#66C2A5\", \"#66C2A5\", \"#66C2A5\", \"#66C2A5\", \"#66C2A5\", \"#66C2A5\", \"#66C2A5\", \"#66C2A5\", \"#66C2A5\", \"#66C2A5\", \"#66C2A5\", \"#66C2A5\", \"#66C2A5\", \"#FC8D62\", \"#66C2A5\", \"#66C2A5\", \"#66C2A5\", \"#FC8D62\", \"#66C2A5\", \"#66C2A5\", \"#66C2A5\", \"#66C2A5\", \"#66C2A5\", \"#FC8D62\", \"#66C2A5\", \"#FC8D62\", \"#66C2A5\", \"#66C2A5\", \"#66C2A5\", \"#66C2A5\", \"#66C2A5\", \"#66C2A5\", \"#66C2A5\", \"#66C2A5\", \"#66C2A5\", \"#66C2A5\", \"#66C2A5\", \"#66C2A5\", \"#66C2A5\", \"#66C2A5\", \"#66C2A5\", \"#66C2A5\", \"#66C2A5\", \"#66C2A5\", \"#66C2A5\", \"#66C2A5\", \"#66C2A5\", \"#66C2A5\", \"#66C2A5\", \"#FC8D62\", \"#66C2A5\", \"#FC8D62\", \"#66C2A5\", \"#66C2A5\", \"#66C2A5\", \"#66C2A5\", \"#66C2A5\", \"#66C2A5\", \"#66C2A5\", \"#66C2A5\", \"#66C2A5\", \"#66C2A5\", \"#FC8D62\"], \"edgewidths\": [1.0], \"offsetcoordinates\": \"data\", \"pathcoordinates\": \"display\", \"zorder\": 1, \"id\": \"el180054899156824\"}], \"images\": [], \"sharex\": [], \"sharey\": []}], \"data\": {\"data01\": [[2388.028698322405, 4112.129420970266], [840.0694640744423, 2114.2514866979654], [839.8823890804636, 3314.590453834116], [2592.689302726716, 6018.8787167449145], [823.3499200577292, 1808.100469483568], [1699.3487088490292, 4680.869953051643], [364.4908165305488, 1124.264475743349], [539.1795485874094, 1664.0805946791863], [1434.1835528249294, 4020.374804381847], [851.0256754976442, 1841.057902973396], [1107.3432232592677, 2248.6979655712053], [2509.642940465689, 9533.361345852894], [346.4225138472897, 896.9311424100157], [1060.4911398555575, 1855.219084712756], [3593.7549730870874, 10664.410534591196], [228.77208502379884, 616.7261345852895], [395.64274793535174, 773.9093896713615], [169.90537344122083, 712.9215962441315], [2656.809710918308, 4834.429733959311], [224.53614360022823, 658.0669796557121], [1829.8859670864483, 5425.964788732394], [290.67062654912525, 949.1278560250393], [460.70467810791007, 1076.6297339593114], [2111.5905184401886, 4437.319248826291], [359.6940306955919, 786.9865414710486], [1133.0088878529784, 3434.0430359937404], [857.9322883071684, 1949.487636932708], [377.60733551723627, 667.4107981220658], [2997.401068517401, 12953.195931142407], [358.72345925101575, 1116.1331768388106], [1279.9344137442156, 5364.79186228482], [696.1128459271283, 2985.558998435055], [1908.0665943529846, 1407.9868544600934], [2677.023396219259, 6291.874334898279], [739.4443892939557, 2798.916118935837], [817.9962514753844, 3314.9992175273865], [449.4079341373242, 1073.5464788732395], [230.86220298629203, 667.8553990610327], [297.77076567190085, 835.0302034428795], [962.8858336007178, 3399.862893081761], [364.98305622562884, 740.5431924882629], [298.76165961339063, 854.6962441314554], [321.25556949439516, 680.1087636932707], [878.8339547250138, 2324.806416275431], [3665.0119195241828, 7342.777464788733], [2697.560804219743, 8469.159937402192], [994.9358917159732, 2128.139593114241], [521.0985709312213, 1636.807042253521], [1508.1316994423182, 3662.850860719874], [447.0718579709746, 1426.6435054773083], [283.66812684179087, 1033.942566510172], [879.7832338238447, 1977.0536776212832], [306.51737930635363, 1089.5280125195618], [1042.7080955383094, 2411.444913928013], [1219.5983149177616, 4593.392644757433], [488.9583796774835, 948.7007824726137], [1420.4118849595582, 5055.9226415094345], [832.1049820699902, 1811.1856025039124], [1248.147109517294, 3156.2998435054774], [541.246213041565, 1293.6694835680748], [975.2408256889177, 3092.8051643192493], [572.2861822223226, 1535.0688575899844], [1120.5917313156604, 2901.2327073552424], [2536.0886956332424, 10472.544287949922], [600.286216867956, 2490.0697965571203], [5700.114941045508, 13715.50172143975], [1106.6531727708225, 2095.642879499217], [1364.0451275420712, 3400.4827856025045], [421.23490656282615, 1265.9109546165885], [1046.5544959631193, 2853.688732394366], [273.9379343320863, 694.0330203442877], [1953.39563795971, 9112.181690140846], [1684.7798913981048, 4617.789045383412], [383.5176349055194, 1181.4143974960875], [1265.6802404116202, 2330.414710485133], [2730.644648174827, 5592.357276995305], [667.7528129988176, 1547.2039123630673], [1122.8624342444007, 3091.162910798122], [1252.6067264863452, 4152.162106918239], [1498.0803050214624, 4914.912676056338], [332.04436357078333, 1202.4539906103287], [1288.1932683223704, 4158.435680751174], [1098.671218068889, 3267.6029733959313], [1260.2638131039882, 2237.65524256651], [939.7350430490086, 3838.794366197183], [1472.6568554651624, 6581.714710485133], [513.3139380602526, 959.9907668231613], [995.9818964582727, 3542.530188679245], [2399.484642959599, 7334.274804381846], [696.6174138682521, 2528.779499217527], [1793.2815204637106, 5001.68544600939], [1689.8169444255357, 4096.406729264476], [1521.4151941642526, 2695.664162754304], [863.143954471029, 1745.235054773083], [383.9631287288221, 1414.6039123630676], [3820.036581655184, 8889.740845070422], [1804.1305424731922, 3953.5311320754718], [754.2436012601519, 1633.1632237871675], [174.30345340184815, 563.6528951486697], [3415.141617076321, 10267.807042253522], [614.4634055741423, 1578.8370892018781], [1372.1829637498558, 2893.730672926448], [379.29586587905146, 936.2181533646324], [1647.0564922799977, 4410.8902973395925], [927.2326852713844, 2559.555399061033], [3227.602759275777, 7345.107981220657], [513.1616297854476, 1391.99186228482], [3443.6895538615368, 7806.03208137715], [2940.096736632911, 5631.780751173708], [1068.0673956759556, 2506.094992175274], [564.0941614023093, 1258.8862284820032], [2983.965306225778, 5346.157433489828], [882.7415939725229, 2249.2292644757435], [1796.8982214539346, 6494.720440251574], [1241.4031685959615, 3187.084194053208], [988.2544153166534, 4066.7032863849763], [800.2877140976433, 2910.0067610062893], [552.6784414960398, 1958.7862284820028], [2718.3884131700656, 7794.028325508607], [2445.5295691606325, 3768.085668276973], [157.25794242307654, 335.54553990610333], [346.195545862234, 1153.1123630672926], [2483.556387100425, 5014.577621283255], [777.2607323261287, 1835.33896713615], [1177.6060307926562, 4415.218309859155], [1015.6555586988693, 2177.7810641627543], [689.8228532109738, 1761.8170579029736], [1678.188052899269, 4028.6302034428804], [422.92068426026435, 768.477151799687], [443.58412779094596, 1289.6636932707354], [290.11590071184173, 855.5608763693269], [3814.963167145299, 4849.6864205892325], [565.902620773471, 1337.8438184663535], [6714.698838664134, 13901.899061032864], [429.1172924955956, 1215.952269170579], [313.4998042731918, 1345.5851330203445], [967.4039529113693, 3223.5435054773084], [1228.5172867169808, 2815.5896713615025], [1250.995798485307, 4433.680751173709], [764.3614219411214, 2626.0287735849056], [837.6201293133857, 2193.5575899843507], [246.80500124318803, 711.3099855746112], [794.7797576489792, 2074.0421847246894], [489.7349033859996, 1224.4338292873924], [3525.1730414726617, 7498.233532934131]]}, \"id\": \"el180054816078160\", \"plugins\": [{\"type\": \"reset\"}, {\"type\": \"zoom\", \"button\": true, \"enabled\": false}, {\"type\": \"boxzoom\", \"button\": true, \"enabled\": false}, {\"type\": \"tooltip\", \"id\": \"el180054899156824\", \"labels\": [\"UIC-Halsted\", \"Halsted-Orange\", \"Granville\", \"Jackson/Dearborn\", \"Damen-Brown\", \"Damen/Milwaukee\", \"East 63rd-Cottage Grove\", \"Austin-Lake\", \"Cumberland\", \"35-Bronzeville-IIT\", \"Medical Center\", \"Grand/State\", \"Linden\", \"Skokie\", \"95th/Dan Ryan\", \"Noyes\", \"Pulaski-Cermak\", \"Dempster\", \"Merchandise Mart\", \"South Boulevard\", \"Jefferson Park\", \"51st\", \"Francisco\", \"Chicago/Franklin\", \"Western-Cermak\", \"Irving Park-O'Hare\", \"Montrose-Brown\", \"Kedzie-Cermak\", \"Chicago/State\", \"47th-South Elevated\", \"Howard\", \"Berwyn\", \"Garfield-South Elevated\", \"Adams/Wabash\", \"Lawrence\", \"Davis\", \"Ridgeland\", \"Foster\", \"43rd\", \"Garfield-Dan Ryan\", \"Central-Evanston\", \"Harlem-Forest Park\", \"Halsted/63rd\", \"Harlem-O'Hare\", \"Addison-North Main\", \"Roosevelt\", \"Irving Park-Brown\", \"Kedzie-Homan-Forest Park\", \"Western/Milwaukee\", \"Pulaski-Lake\", \"Main\", \"Paulina\", \"Cicero-Forest Park\", \"Southport\", \"Loyola\", \"Damen-Cermak\", \"69th\", \"Ashland-Lake\", \"Harrison\", \"Rockwell\", \"Harlem-Lake\", \"Austin-Forest Park\", \"Western-Orange\", \"Belmont-North Main\", \"Argyle\", \"Lake/State\", \"Wellington\", \"California/Milwaukee\", \"Ashland-Orange\", \"Sedgwick\", \"Indiana\", \"O'Hare Airport\", \"Rosemont\", \"Kedzie-Lake\", \"Polk\", \"Randolph/Wabash\", \"54th/Cermak\", \"Forest Park\", \"87th\", \"Wilson\", \"Cicero-Lake\", \"Belmont-O'Hare\", \"Kimball\", \"LaSalle/Van Buren\", \"Morse\", \"Clark/Division\", \"California-Cermak\", \"Cermak-Chinatown\", \"Midway Airport\", \"Thorndale\", \"Logan Square\", \"Pulaski-Orange\", \"Clinton-Lake\", \"Addison-Brown\", \"Pulaski-Forest Park\", \"Jackson/State\", \"Sox-35th-Dan Ryan\", \"Grand/Milwaukee\", \"King Drive\", \"Fullerton\", \"Kedzie-Brown\", \"Library\", \"Cicero-Cermak\", \"Division/Milwaukee\", \"Kedzie-Midway\", \"Monroe/State\", \"Ashland/63rd\", \"Washington/Dearborn\", \"Quincy/Wells\", \"Clinton-Forest Park\", \"18th\", \"Washington/Wells\", \"35th/Archer\", \"79th\", \"Armitage\", \"Bryn Mawr\", \"63rd-Dan Ryan\", \"Central-Lake\", \"State/Lake\", \"Madison/Wabash\", \"Kostner\", \"Laramie\", \"Monroe/Dearborn\", \"Racine\", \"Sheridan\", \"LaSalle\", \"Montrose-O'Hare\", \"Diversey\", \"Central Park\", \"Oak Park-Lake\", \"California-Lake\", \"Washington/State\", \"Oak Park-Forest Park\", \"Clark/Lake\", \"Western-Forest Park\", \"Jarvis\", \"Western-Brown\", \"Chicago/Milwaukee\", \"North/Clybourn\", \"47th-Dan Ryan\", \"Addison-O'Hare\", \"Conservatory\", \"Morgan-Lake\", \"Cermak-McCormick Place\", \"Washington/Wabash\"], \"hoffset\": 0, \"voffset\": 10, \"location\": \"mouse\"}]});\n",
       "      });\n",
       "    });\n",
       "}else{\n",
       "    // require.js not available: dynamically load d3 & mpld3\n",
       "    mpld3_load_lib(\"https://mpld3.github.io/js/d3.v3.min.js\", function(){\n",
       "         mpld3_load_lib(\"https://mpld3.github.io/js/mpld3.v0.3.1.dev1.js\", function(){\n",
       "                 \n",
       "                 mpld3.draw_figure(\"fig_el1800548160781605449765921\", {\"width\": 432.0, \"height\": 288.0, \"axes\": [{\"bbox\": [0.125, 0.125, 0.775, 0.755], \"xlim\": [-170.62395901980074, 7042.5807401070115], \"ylim\": [-342.7873127506763, 14580.231913689644], \"xdomain\": [-170.62395901980074, 7042.5807401070115], \"ydomain\": [-342.7873127506763, 14580.231913689644], \"xscale\": \"linear\", \"yscale\": \"linear\", \"axes\": [{\"position\": \"bottom\", \"nticks\": 10, \"tickvalues\": null, \"tickformat\": null, \"scale\": \"linear\", \"fontsize\": 12.0, \"grid\": {\"gridOn\": true, \"color\": \"#FFFFFF\", \"dasharray\": \"none\", \"alpha\": 1.0}, \"visible\": true}, {\"position\": \"left\", \"nticks\": 10, \"tickvalues\": null, \"tickformat\": null, \"scale\": \"linear\", \"fontsize\": 12.0, \"grid\": {\"gridOn\": true, \"color\": \"#FFFFFF\", \"dasharray\": \"none\", \"alpha\": 1.0}, \"visible\": true}], \"axesbg\": \"#EEEEEE\", \"axesbgalpha\": null, \"zoomable\": true, \"id\": \"el180054899062840\", \"lines\": [], \"paths\": [], \"markers\": [], \"texts\": [{\"text\": \"Mean Daily Standard Deviation\", \"position\": [0.49999999999999994, -0.11037527593818983], \"coordinates\": \"axes\", \"h_anchor\": \"middle\", \"v_baseline\": \"hanging\", \"rotation\": -0.0, \"fontsize\": 16.0, \"color\": \"#000000\", \"alpha\": 1, \"zorder\": 3, \"id\": \"el180054844231872\"}, {\"text\": \"Mean Daily Rides\", \"position\": [-0.14560931899641577, 0.49999999999999994], \"coordinates\": \"axes\", \"h_anchor\": \"middle\", \"v_baseline\": \"auto\", \"rotation\": -90.0, \"fontsize\": 16.0, \"color\": \"#000000\", \"alpha\": 1, \"zorder\": 3, \"id\": \"el180054834943608\"}, {\"text\": \"daily_std vs daily_mean\", \"position\": [0.49999999999999994, 1.0275938189845473], \"coordinates\": \"axes\", \"h_anchor\": \"middle\", \"v_baseline\": \"auto\", \"rotation\": -0.0, \"fontsize\": 20.0, \"color\": \"#000000\", \"alpha\": 1, \"zorder\": 3, \"id\": \"el180054899172024\"}], \"collections\": [{\"offsets\": \"data01\", \"xindex\": 0, \"yindex\": 1, \"paths\": [[[[0.0, -0.5], [0.13260155, -0.5], [0.25978993539242673, -0.44731684579412084], [0.3535533905932738, -0.3535533905932738], [0.44731684579412084, -0.25978993539242673], [0.5, -0.13260155], [0.5, 0.0], [0.5, 0.13260155], [0.44731684579412084, 0.25978993539242673], [0.3535533905932738, 0.3535533905932738], [0.25978993539242673, 0.44731684579412084], [0.13260155, 0.5], [0.0, 0.5], [-0.13260155, 0.5], [-0.25978993539242673, 0.44731684579412084], [-0.3535533905932738, 0.3535533905932738], [-0.44731684579412084, 0.25978993539242673], [-0.5, 0.13260155], [-0.5, 0.0], [-0.5, -0.13260155], [-0.44731684579412084, -0.25978993539242673], [-0.3535533905932738, -0.3535533905932738], [-0.25978993539242673, -0.44731684579412084], [-0.13260155, -0.5], [0.0, -0.5]], [\"M\", \"C\", \"C\", \"C\", \"C\", \"C\", \"C\", \"C\", \"C\", \"Z\"]]], \"pathtransforms\": [[6.0, 0.0, 0.0, 6.0, 0.0, 0.0]], \"alphas\": [0.9], \"edgecolors\": [\"#66C2A5\", \"#66C2A5\", \"#66C2A5\", \"#66C2A5\", \"#66C2A5\", \"#66C2A5\", \"#66C2A5\", \"#66C2A5\", \"#66C2A5\", \"#66C2A5\", \"#66C2A5\", \"#66C2A5\", \"#66C2A5\", \"#66C2A5\", \"#FC8D62\", \"#66C2A5\", \"#66C2A5\", \"#66C2A5\", \"#66C2A5\", \"#66C2A5\", \"#66C2A5\", \"#66C2A5\", \"#66C2A5\", \"#66C2A5\", \"#66C2A5\", \"#66C2A5\", \"#66C2A5\", \"#66C2A5\", \"#66C2A5\", \"#66C2A5\", \"#66C2A5\", \"#66C2A5\", \"#66C2A5\", \"#66C2A5\", \"#66C2A5\", \"#66C2A5\", \"#66C2A5\", \"#66C2A5\", \"#66C2A5\", \"#66C2A5\", \"#66C2A5\", \"#66C2A5\", \"#66C2A5\", \"#66C2A5\", \"#FC8D62\", \"#66C2A5\", \"#66C2A5\", \"#66C2A5\", \"#66C2A5\", \"#66C2A5\", \"#66C2A5\", \"#66C2A5\", \"#66C2A5\", \"#66C2A5\", \"#66C2A5\", \"#66C2A5\", \"#66C2A5\", \"#66C2A5\", \"#66C2A5\", \"#66C2A5\", \"#66C2A5\", \"#66C2A5\", \"#66C2A5\", \"#66C2A5\", \"#66C2A5\", \"#FC8D62\", \"#66C2A5\", \"#66C2A5\", \"#66C2A5\", \"#66C2A5\", \"#66C2A5\", \"#66C2A5\", \"#66C2A5\", \"#66C2A5\", \"#66C2A5\", \"#66C2A5\", \"#66C2A5\", \"#66C2A5\", \"#66C2A5\", \"#66C2A5\", \"#66C2A5\", \"#66C2A5\", \"#66C2A5\", \"#66C2A5\", \"#66C2A5\", \"#66C2A5\", \"#66C2A5\", \"#66C2A5\", \"#66C2A5\", \"#66C2A5\", \"#66C2A5\", \"#66C2A5\", \"#66C2A5\", \"#66C2A5\", \"#66C2A5\", \"#FC8D62\", \"#66C2A5\", \"#66C2A5\", \"#66C2A5\", \"#FC8D62\", \"#66C2A5\", \"#66C2A5\", \"#66C2A5\", \"#66C2A5\", \"#66C2A5\", \"#FC8D62\", \"#66C2A5\", \"#FC8D62\", \"#66C2A5\", \"#66C2A5\", \"#66C2A5\", \"#66C2A5\", \"#66C2A5\", \"#66C2A5\", \"#66C2A5\", \"#66C2A5\", \"#66C2A5\", \"#66C2A5\", \"#66C2A5\", \"#66C2A5\", \"#66C2A5\", \"#66C2A5\", \"#66C2A5\", \"#66C2A5\", \"#66C2A5\", \"#66C2A5\", \"#66C2A5\", \"#66C2A5\", \"#66C2A5\", \"#66C2A5\", \"#66C2A5\", \"#FC8D62\", \"#66C2A5\", \"#FC8D62\", \"#66C2A5\", \"#66C2A5\", \"#66C2A5\", \"#66C2A5\", \"#66C2A5\", \"#66C2A5\", \"#66C2A5\", \"#66C2A5\", \"#66C2A5\", \"#66C2A5\", \"#FC8D62\"], \"facecolors\": [\"#66C2A5\", \"#66C2A5\", \"#66C2A5\", \"#66C2A5\", \"#66C2A5\", \"#66C2A5\", \"#66C2A5\", \"#66C2A5\", \"#66C2A5\", \"#66C2A5\", \"#66C2A5\", \"#66C2A5\", \"#66C2A5\", \"#66C2A5\", \"#FC8D62\", \"#66C2A5\", \"#66C2A5\", \"#66C2A5\", \"#66C2A5\", \"#66C2A5\", \"#66C2A5\", \"#66C2A5\", \"#66C2A5\", \"#66C2A5\", \"#66C2A5\", \"#66C2A5\", \"#66C2A5\", \"#66C2A5\", \"#66C2A5\", \"#66C2A5\", \"#66C2A5\", \"#66C2A5\", \"#66C2A5\", \"#66C2A5\", \"#66C2A5\", \"#66C2A5\", \"#66C2A5\", \"#66C2A5\", \"#66C2A5\", \"#66C2A5\", \"#66C2A5\", \"#66C2A5\", \"#66C2A5\", \"#66C2A5\", \"#FC8D62\", \"#66C2A5\", \"#66C2A5\", \"#66C2A5\", \"#66C2A5\", \"#66C2A5\", \"#66C2A5\", \"#66C2A5\", \"#66C2A5\", \"#66C2A5\", \"#66C2A5\", \"#66C2A5\", \"#66C2A5\", \"#66C2A5\", \"#66C2A5\", \"#66C2A5\", \"#66C2A5\", \"#66C2A5\", \"#66C2A5\", \"#66C2A5\", \"#66C2A5\", \"#FC8D62\", \"#66C2A5\", \"#66C2A5\", \"#66C2A5\", \"#66C2A5\", \"#66C2A5\", \"#66C2A5\", \"#66C2A5\", \"#66C2A5\", \"#66C2A5\", \"#66C2A5\", \"#66C2A5\", \"#66C2A5\", \"#66C2A5\", \"#66C2A5\", \"#66C2A5\", \"#66C2A5\", \"#66C2A5\", \"#66C2A5\", \"#66C2A5\", \"#66C2A5\", \"#66C2A5\", \"#66C2A5\", \"#66C2A5\", \"#66C2A5\", \"#66C2A5\", \"#66C2A5\", \"#66C2A5\", \"#66C2A5\", \"#66C2A5\", \"#FC8D62\", \"#66C2A5\", \"#66C2A5\", \"#66C2A5\", \"#FC8D62\", \"#66C2A5\", \"#66C2A5\", \"#66C2A5\", \"#66C2A5\", \"#66C2A5\", \"#FC8D62\", \"#66C2A5\", \"#FC8D62\", \"#66C2A5\", \"#66C2A5\", \"#66C2A5\", \"#66C2A5\", \"#66C2A5\", \"#66C2A5\", \"#66C2A5\", \"#66C2A5\", \"#66C2A5\", \"#66C2A5\", \"#66C2A5\", \"#66C2A5\", \"#66C2A5\", \"#66C2A5\", \"#66C2A5\", \"#66C2A5\", \"#66C2A5\", \"#66C2A5\", \"#66C2A5\", \"#66C2A5\", \"#66C2A5\", \"#66C2A5\", \"#66C2A5\", \"#FC8D62\", \"#66C2A5\", \"#FC8D62\", \"#66C2A5\", \"#66C2A5\", \"#66C2A5\", \"#66C2A5\", \"#66C2A5\", \"#66C2A5\", \"#66C2A5\", \"#66C2A5\", \"#66C2A5\", \"#66C2A5\", \"#FC8D62\"], \"edgewidths\": [1.0], \"offsetcoordinates\": \"data\", \"pathcoordinates\": \"display\", \"zorder\": 1, \"id\": \"el180054899156824\"}], \"images\": [], \"sharex\": [], \"sharey\": []}], \"data\": {\"data01\": [[2388.028698322405, 4112.129420970266], [840.0694640744423, 2114.2514866979654], [839.8823890804636, 3314.590453834116], [2592.689302726716, 6018.8787167449145], [823.3499200577292, 1808.100469483568], [1699.3487088490292, 4680.869953051643], [364.4908165305488, 1124.264475743349], [539.1795485874094, 1664.0805946791863], [1434.1835528249294, 4020.374804381847], [851.0256754976442, 1841.057902973396], [1107.3432232592677, 2248.6979655712053], [2509.642940465689, 9533.361345852894], [346.4225138472897, 896.9311424100157], [1060.4911398555575, 1855.219084712756], [3593.7549730870874, 10664.410534591196], [228.77208502379884, 616.7261345852895], [395.64274793535174, 773.9093896713615], [169.90537344122083, 712.9215962441315], [2656.809710918308, 4834.429733959311], [224.53614360022823, 658.0669796557121], [1829.8859670864483, 5425.964788732394], [290.67062654912525, 949.1278560250393], [460.70467810791007, 1076.6297339593114], [2111.5905184401886, 4437.319248826291], [359.6940306955919, 786.9865414710486], [1133.0088878529784, 3434.0430359937404], [857.9322883071684, 1949.487636932708], [377.60733551723627, 667.4107981220658], [2997.401068517401, 12953.195931142407], [358.72345925101575, 1116.1331768388106], [1279.9344137442156, 5364.79186228482], [696.1128459271283, 2985.558998435055], [1908.0665943529846, 1407.9868544600934], [2677.023396219259, 6291.874334898279], [739.4443892939557, 2798.916118935837], [817.9962514753844, 3314.9992175273865], [449.4079341373242, 1073.5464788732395], [230.86220298629203, 667.8553990610327], [297.77076567190085, 835.0302034428795], [962.8858336007178, 3399.862893081761], [364.98305622562884, 740.5431924882629], [298.76165961339063, 854.6962441314554], [321.25556949439516, 680.1087636932707], [878.8339547250138, 2324.806416275431], [3665.0119195241828, 7342.777464788733], [2697.560804219743, 8469.159937402192], [994.9358917159732, 2128.139593114241], [521.0985709312213, 1636.807042253521], [1508.1316994423182, 3662.850860719874], [447.0718579709746, 1426.6435054773083], [283.66812684179087, 1033.942566510172], [879.7832338238447, 1977.0536776212832], [306.51737930635363, 1089.5280125195618], [1042.7080955383094, 2411.444913928013], [1219.5983149177616, 4593.392644757433], [488.9583796774835, 948.7007824726137], [1420.4118849595582, 5055.9226415094345], [832.1049820699902, 1811.1856025039124], [1248.147109517294, 3156.2998435054774], [541.246213041565, 1293.6694835680748], [975.2408256889177, 3092.8051643192493], [572.2861822223226, 1535.0688575899844], [1120.5917313156604, 2901.2327073552424], [2536.0886956332424, 10472.544287949922], [600.286216867956, 2490.0697965571203], [5700.114941045508, 13715.50172143975], [1106.6531727708225, 2095.642879499217], [1364.0451275420712, 3400.4827856025045], [421.23490656282615, 1265.9109546165885], [1046.5544959631193, 2853.688732394366], [273.9379343320863, 694.0330203442877], [1953.39563795971, 9112.181690140846], [1684.7798913981048, 4617.789045383412], [383.5176349055194, 1181.4143974960875], [1265.6802404116202, 2330.414710485133], [2730.644648174827, 5592.357276995305], [667.7528129988176, 1547.2039123630673], [1122.8624342444007, 3091.162910798122], [1252.6067264863452, 4152.162106918239], [1498.0803050214624, 4914.912676056338], [332.04436357078333, 1202.4539906103287], [1288.1932683223704, 4158.435680751174], [1098.671218068889, 3267.6029733959313], [1260.2638131039882, 2237.65524256651], [939.7350430490086, 3838.794366197183], [1472.6568554651624, 6581.714710485133], [513.3139380602526, 959.9907668231613], [995.9818964582727, 3542.530188679245], [2399.484642959599, 7334.274804381846], [696.6174138682521, 2528.779499217527], [1793.2815204637106, 5001.68544600939], [1689.8169444255357, 4096.406729264476], [1521.4151941642526, 2695.664162754304], [863.143954471029, 1745.235054773083], [383.9631287288221, 1414.6039123630676], [3820.036581655184, 8889.740845070422], [1804.1305424731922, 3953.5311320754718], [754.2436012601519, 1633.1632237871675], [174.30345340184815, 563.6528951486697], [3415.141617076321, 10267.807042253522], [614.4634055741423, 1578.8370892018781], [1372.1829637498558, 2893.730672926448], [379.29586587905146, 936.2181533646324], [1647.0564922799977, 4410.8902973395925], [927.2326852713844, 2559.555399061033], [3227.602759275777, 7345.107981220657], [513.1616297854476, 1391.99186228482], [3443.6895538615368, 7806.03208137715], [2940.096736632911, 5631.780751173708], [1068.0673956759556, 2506.094992175274], [564.0941614023093, 1258.8862284820032], [2983.965306225778, 5346.157433489828], [882.7415939725229, 2249.2292644757435], [1796.8982214539346, 6494.720440251574], [1241.4031685959615, 3187.084194053208], [988.2544153166534, 4066.7032863849763], [800.2877140976433, 2910.0067610062893], [552.6784414960398, 1958.7862284820028], [2718.3884131700656, 7794.028325508607], [2445.5295691606325, 3768.085668276973], [157.25794242307654, 335.54553990610333], [346.195545862234, 1153.1123630672926], [2483.556387100425, 5014.577621283255], [777.2607323261287, 1835.33896713615], [1177.6060307926562, 4415.218309859155], [1015.6555586988693, 2177.7810641627543], [689.8228532109738, 1761.8170579029736], [1678.188052899269, 4028.6302034428804], [422.92068426026435, 768.477151799687], [443.58412779094596, 1289.6636932707354], [290.11590071184173, 855.5608763693269], [3814.963167145299, 4849.6864205892325], [565.902620773471, 1337.8438184663535], [6714.698838664134, 13901.899061032864], [429.1172924955956, 1215.952269170579], [313.4998042731918, 1345.5851330203445], [967.4039529113693, 3223.5435054773084], [1228.5172867169808, 2815.5896713615025], [1250.995798485307, 4433.680751173709], [764.3614219411214, 2626.0287735849056], [837.6201293133857, 2193.5575899843507], [246.80500124318803, 711.3099855746112], [794.7797576489792, 2074.0421847246894], [489.7349033859996, 1224.4338292873924], [3525.1730414726617, 7498.233532934131]]}, \"id\": \"el180054816078160\", \"plugins\": [{\"type\": \"reset\"}, {\"type\": \"zoom\", \"button\": true, \"enabled\": false}, {\"type\": \"boxzoom\", \"button\": true, \"enabled\": false}, {\"type\": \"tooltip\", \"id\": \"el180054899156824\", \"labels\": [\"UIC-Halsted\", \"Halsted-Orange\", \"Granville\", \"Jackson/Dearborn\", \"Damen-Brown\", \"Damen/Milwaukee\", \"East 63rd-Cottage Grove\", \"Austin-Lake\", \"Cumberland\", \"35-Bronzeville-IIT\", \"Medical Center\", \"Grand/State\", \"Linden\", \"Skokie\", \"95th/Dan Ryan\", \"Noyes\", \"Pulaski-Cermak\", \"Dempster\", \"Merchandise Mart\", \"South Boulevard\", \"Jefferson Park\", \"51st\", \"Francisco\", \"Chicago/Franklin\", \"Western-Cermak\", \"Irving Park-O'Hare\", \"Montrose-Brown\", \"Kedzie-Cermak\", \"Chicago/State\", \"47th-South Elevated\", \"Howard\", \"Berwyn\", \"Garfield-South Elevated\", \"Adams/Wabash\", \"Lawrence\", \"Davis\", \"Ridgeland\", \"Foster\", \"43rd\", \"Garfield-Dan Ryan\", \"Central-Evanston\", \"Harlem-Forest Park\", \"Halsted/63rd\", \"Harlem-O'Hare\", \"Addison-North Main\", \"Roosevelt\", \"Irving Park-Brown\", \"Kedzie-Homan-Forest Park\", \"Western/Milwaukee\", \"Pulaski-Lake\", \"Main\", \"Paulina\", \"Cicero-Forest Park\", \"Southport\", \"Loyola\", \"Damen-Cermak\", \"69th\", \"Ashland-Lake\", \"Harrison\", \"Rockwell\", \"Harlem-Lake\", \"Austin-Forest Park\", \"Western-Orange\", \"Belmont-North Main\", \"Argyle\", \"Lake/State\", \"Wellington\", \"California/Milwaukee\", \"Ashland-Orange\", \"Sedgwick\", \"Indiana\", \"O'Hare Airport\", \"Rosemont\", \"Kedzie-Lake\", \"Polk\", \"Randolph/Wabash\", \"54th/Cermak\", \"Forest Park\", \"87th\", \"Wilson\", \"Cicero-Lake\", \"Belmont-O'Hare\", \"Kimball\", \"LaSalle/Van Buren\", \"Morse\", \"Clark/Division\", \"California-Cermak\", \"Cermak-Chinatown\", \"Midway Airport\", \"Thorndale\", \"Logan Square\", \"Pulaski-Orange\", \"Clinton-Lake\", \"Addison-Brown\", \"Pulaski-Forest Park\", \"Jackson/State\", \"Sox-35th-Dan Ryan\", \"Grand/Milwaukee\", \"King Drive\", \"Fullerton\", \"Kedzie-Brown\", \"Library\", \"Cicero-Cermak\", \"Division/Milwaukee\", \"Kedzie-Midway\", \"Monroe/State\", \"Ashland/63rd\", \"Washington/Dearborn\", \"Quincy/Wells\", \"Clinton-Forest Park\", \"18th\", \"Washington/Wells\", \"35th/Archer\", \"79th\", \"Armitage\", \"Bryn Mawr\", \"63rd-Dan Ryan\", \"Central-Lake\", \"State/Lake\", \"Madison/Wabash\", \"Kostner\", \"Laramie\", \"Monroe/Dearborn\", \"Racine\", \"Sheridan\", \"LaSalle\", \"Montrose-O'Hare\", \"Diversey\", \"Central Park\", \"Oak Park-Lake\", \"California-Lake\", \"Washington/State\", \"Oak Park-Forest Park\", \"Clark/Lake\", \"Western-Forest Park\", \"Jarvis\", \"Western-Brown\", \"Chicago/Milwaukee\", \"North/Clybourn\", \"47th-Dan Ryan\", \"Addison-O'Hare\", \"Conservatory\", \"Morgan-Lake\", \"Cermak-McCormick Place\", \"Washington/Wabash\"], \"hoffset\": 0, \"voffset\": 10, \"location\": \"mouse\"}]});\n",
       "            })\n",
       "         });\n",
       "}\n",
       "</script>"
      ],
      "text/plain": [
       "<IPython.core.display.HTML object>"
      ]
     },
     "execution_count": 25,
     "metadata": {},
     "output_type": "execute_result"
    }
   ],
   "source": [
    "df=station_summary\n",
    "x='daily_std'\n",
    "y='daily_mean'\n",
    "color = 'high_std'\n",
    "fig, ax = plt.subplots(subplot_kw=dict(facecolor='#EEEEEE'))\n",
    "\n",
    "scatter = ax.scatter(np.array(df[x], dtype=float),\n",
    "                     np.array(df[y], dtype=float),\n",
    "                     c=np.array(df[color], dtype=float),\n",
    "                     alpha=0.9,\n",
    "                     vmin=0,\n",
    "                     vmax=6,\n",
    "                     cmap='Set2')\n",
    "\n",
    "\n",
    "ax.grid(color='white', linestyle='solid')\n",
    "\n",
    "ax.set_title(x+' vs '+y, size=20)\n",
    "ax.set_xlabel('Mean Daily Standard Deviation', fontsize=16)\n",
    "ax.set_ylabel('Mean Daily Rides', fontsize=16)\n",
    "plt.xticks(fontsize=12)\n",
    "plt.yticks(fontsize=12)\n",
    "\n",
    "labels = df['station'].tolist()\n",
    "tooltip = mpld3.plugins.PointLabelTooltip(scatter, labels=labels)\n",
    "mpld3.plugins.connect(fig, tooltip)\n",
    "\n",
    "mpld3.display()\n"
   ]
  },
  {
   "cell_type": "code",
   "execution_count": 19,
   "metadata": {},
   "outputs": [
    {
     "data": {
      "text/plain": [
       "<matplotlib.axes._subplots.AxesSubplot at 0x123db1a58>"
      ]
     },
     "execution_count": 19,
     "metadata": {},
     "output_type": "execute_result"
    },
    {
     "data": {
      "image/png": "[encoded data removed]",
      "text/plain": [
       "<Figure size 432x288 with 1 Axes>"
      ]
     },
     "metadata": {
      "needs_background": "light"
     },
     "output_type": "display_data"
    }
   ],
   "source": [
    "sns.distplot(station_summary['daily_std'])"
   ]
  },
  {
   "cell_type": "code",
   "execution_count": null,
   "metadata": {},
   "outputs": [],
   "source": []
  }
 ],
 "metadata": {
  "kernelspec": {
   "display_name": "Python 3",
   "language": "python",
   "name": "python3"
  },
  "language_info": {
   "codemirror_mode": {
    "name": "ipython",
    "version": 3
   },
   "file_extension": ".py",
   "mimetype": "text/x-python",
   "name": "python",
   "nbconvert_exporter": "python",
   "pygments_lexer": "ipython3",
   "version": "3.6.7"
  }
 },
 "nbformat": 4,
 "nbformat_minor": 2
}
