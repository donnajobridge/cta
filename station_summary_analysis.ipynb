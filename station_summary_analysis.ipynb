{
 "cells": [
  {
   "cell_type": "markdown",
   "metadata": {},
   "source": [
    "## Run analysis on station summary data for questions 1 & 2"
   ]
  },
  {
   "cell_type": "code",
   "execution_count": 1,
   "metadata": {},
   "outputs": [],
   "source": [
    "import pandas as pd\n",
    "import numpy as np\n",
    "from station import Station\n",
    "import seaborn as sns\n",
    "import matplotlib.pyplot as plt\n",
    "import mpld3\n",
    "\n",
    "%load_ext autoreload\n",
    "%autoreload"
   ]
  },
  {
   "cell_type": "code",
   "execution_count": 14,
   "metadata": {},
   "outputs": [],
   "source": [
    "# read in data files\n",
    "ride_df = pd.read_csv('data/CTA_-_Ridership_-__L__Station_Entries_-_Daily_Totals.csv')\n",
    "map_df = pd.read_csv('data/CTA_-_System_Information_-_List_of__L__Stops.csv')\n",
    "station_map_names = {'Lake':'Lake/State', 'Jackson':'Jackson/State',\n",
    "                     'Washington':'Washington/Dearborn', 'Morgan':'Morgan-Lake'}\n",
    "map_df.replace({\"STATION_NAME\": station_map_names}, inplace=True)"
   ]
  },
  {
   "cell_type": "code",
   "execution_count": 2,
   "metadata": {},
   "outputs": [],
   "source": [
    "station_summary = pd.read_csv('data/station_summary.csv')"
   ]
  },
  {
   "cell_type": "code",
   "execution_count": null,
   "metadata": {},
   "outputs": [],
   "source": [
    "# to_remove = station_summary[station_summary['Sat_mean'] == 0].index[0]\n",
    "# station_summary.drop([to_remove], inplace=True)\n",
    "station_summary['weekday-sat'] = station_summary['Weekday_mean'\n",
    "                                                ] - station_summary['Sat_mean']\n",
    "station_summary['weekday-sun'] = station_summary['Weekday_mean'\n",
    "                                                ] - station_summary['Sun/Hol_mean']"
   ]
  },
  {
   "cell_type": "code",
   "execution_count": 3,
   "metadata": {
    "scrolled": true
   },
   "outputs": [
    {
     "data": {
      "text/plain": [
       "Unnamed: 0                    133\n",
       "Unnamed: 0.1                  133\n",
       "2017_mean                 16500.1\n",
       "2017_std                  7487.37\n",
       "2018_mean                 16338.2\n",
       "2018_predicted_mean         17052\n",
       "2018_predicted_std         6151.9\n",
       "2018_std                   7388.6\n",
       "2019_predicted_mean       17140.1\n",
       "2019_predicted_std        6072.62\n",
       "2020_predicted_mean       17432.9\n",
       "2020_predicted_std        6064.77\n",
       "2021_predicted_mean       17724.7\n",
       "2021_predicted_std        6073.84\n",
       "2022_predicted_mean       17984.2\n",
       "2022_predicted_std        6112.43\n",
       "2023_predicted_mean       18084.4\n",
       "2023_predicted_std        6055.18\n",
       "5_yr_num_diff             328.064\n",
       "5_yr_pct_diff           0.0214307\n",
       "Sat_mean                   5112.7\n",
       "Sat_std                   1882.36\n",
       "Sun/Hol_mean              3906.94\n",
       "Sun/Hol_std               1620.32\n",
       "Weekday_mean              17965.6\n",
       "Weekday_std               2868.45\n",
       "daily_mean                13901.9\n",
       "daily_std                  6714.7\n",
       "latitude                  41.8857\n",
       "longitude                -87.6309\n",
       "num_na                          0\n",
       "num_yrs_from_past_5             5\n",
       "station                Clark/Lake\n",
       "weekday-sat               12852.9\n",
       "weekday-sun               14058.6\n",
       "Name: 133, dtype: object"
      ]
     },
     "execution_count": 3,
     "metadata": {},
     "output_type": "execute_result"
    }
   ],
   "source": [
    "# Find station with highest daily mean\n",
    "station_summary.loc[station_summary.daily_mean.idxmax()]"
   ]
  },
  {
   "cell_type": "code",
   "execution_count": 6,
   "metadata": {},
   "outputs": [],
   "source": [
    "high_means = station_summary.sort_values(by='daily_mean', ascending=False).iloc[0:10]"
   ]
  },
  {
   "cell_type": "code",
   "execution_count": 10,
   "metadata": {},
   "outputs": [
    {
     "data": {
      "image/png": "[encoded data removed]",
      "text/plain": [
       "<Figure size 432x288 with 1 Axes>"
      ]
     },
     "metadata": {
      "needs_background": "light"
     },
     "output_type": "display_data"
    }
   ],
   "source": [
    "# Plot stations with highest daily means\n",
    "fig, ax = plt.subplots()\n",
    "sns.barplot(x='station', y='daily_mean', data=high_means, ax=ax)\n",
    "ax.set_xticklabels(ax.get_xticklabels(), rotation=45, ha='right')\n",
    "plt.title('Top 10 Stations with Highest Daily Ridership', fontsize=18)\n",
    "ax.set_xlabel('Station', fontsize=14)\n",
    "ax.set_ylabel('Average Daily Rides', fontsize=14)\n",
    "plt.tight_layout()\n",
    "plt.savefig('figs/dailyrides_mean.png')"
   ]
  },
  {
   "cell_type": "code",
   "execution_count": 11,
   "metadata": {},
   "outputs": [
    {
     "data": {
      "text/html": [
       "<div>\n",
       "<style scoped>\n",
       "    .dataframe tbody tr th:only-of-type {\n",
       "        vertical-align: middle;\n",
       "    }\n",
       "\n",
       "    .dataframe tbody tr th {\n",
       "        vertical-align: top;\n",
       "    }\n",
       "\n",
       "    .dataframe thead th {\n",
       "        text-align: right;\n",
       "    }\n",
       "</style>\n",
       "<table border=\"1\" class=\"dataframe\">\n",
       "  <thead>\n",
       "    <tr style=\"text-align: right;\">\n",
       "      <th></th>\n",
       "      <th>Unnamed: 0</th>\n",
       "      <th>Unnamed: 0.1</th>\n",
       "      <th>2017_mean</th>\n",
       "      <th>2017_std</th>\n",
       "      <th>2018_mean</th>\n",
       "      <th>2018_predicted_mean</th>\n",
       "      <th>2018_predicted_std</th>\n",
       "      <th>2018_std</th>\n",
       "      <th>2019_predicted_mean</th>\n",
       "      <th>2019_predicted_std</th>\n",
       "      <th>...</th>\n",
       "      <th>Weekday_std</th>\n",
       "      <th>daily_mean</th>\n",
       "      <th>daily_std</th>\n",
       "      <th>latitude</th>\n",
       "      <th>longitude</th>\n",
       "      <th>num_na</th>\n",
       "      <th>num_yrs_from_past_5</th>\n",
       "      <th>station</th>\n",
       "      <th>weekday-sat</th>\n",
       "      <th>weekday-sun</th>\n",
       "    </tr>\n",
       "  </thead>\n",
       "  <tbody>\n",
       "    <tr>\n",
       "      <th>144</th>\n",
       "      <td>145</td>\n",
       "      <td>146</td>\n",
       "      <td>6646.986928</td>\n",
       "      <td>4142.266059</td>\n",
       "      <td>8217.79558</td>\n",
       "      <td>9326.215139</td>\n",
       "      <td>2165.349684</td>\n",
       "      <td>2713.632413</td>\n",
       "      <td>10697.046356</td>\n",
       "      <td>2194.505446</td>\n",
       "      <td>...</td>\n",
       "      <td>3035.752612</td>\n",
       "      <td>7498.233533</td>\n",
       "      <td>3525.173041</td>\n",
       "      <td>41.88322</td>\n",
       "      <td>-87.626189</td>\n",
       "      <td>0</td>\n",
       "      <td>1</td>\n",
       "      <td>Washington/Wabash</td>\n",
       "      <td>3886.143697</td>\n",
       "      <td>5519.735043</td>\n",
       "    </tr>\n",
       "  </tbody>\n",
       "</table>\n",
       "<p>1 rows × 35 columns</p>\n",
       "</div>"
      ],
      "text/plain": [
       "     Unnamed: 0  Unnamed: 0.1    2017_mean     2017_std   2018_mean  \\\n",
       "144         145           146  6646.986928  4142.266059  8217.79558   \n",
       "\n",
       "     2018_predicted_mean  2018_predicted_std     2018_std  \\\n",
       "144          9326.215139         2165.349684  2713.632413   \n",
       "\n",
       "     2019_predicted_mean  2019_predicted_std     ...       Weekday_std  \\\n",
       "144         10697.046356         2194.505446     ...       3035.752612   \n",
       "\n",
       "      daily_mean    daily_std  latitude  longitude  num_na  \\\n",
       "144  7498.233533  3525.173041  41.88322 -87.626189       0   \n",
       "\n",
       "     num_yrs_from_past_5            station  weekday-sat  weekday-sun  \n",
       "144                    1  Washington/Wabash  3886.143697  5519.735043  \n",
       "\n",
       "[1 rows x 35 columns]"
      ]
     },
     "execution_count": 11,
     "metadata": {},
     "output_type": "execute_result"
    }
   ],
   "source": [
    "# Find Washington/Wabash's std\n",
    "station_summary[station_summary['station']=='Washington/Wabash']"
   ]
  },
  {
   "cell_type": "markdown",
   "metadata": {},
   "source": [
    "### Plot stations with high standard deviations by day of the week & season"
   ]
  },
  {
   "cell_type": "code",
   "execution_count": 15,
   "metadata": {},
   "outputs": [],
   "source": [
    "high_stds = station_summary.sort_values(by='daily_std', ascending=False).iloc[0:10]\n",
    "high_stations = high_stds.station.tolist()\n",
    "high_stds.set_index('station', inplace=True)"
   ]
  },
  {
   "cell_type": "code",
   "execution_count": 16,
   "metadata": {
    "scrolled": true
   },
   "outputs": [
    {
     "name": "stdout",
     "output_type": "stream",
     "text": [
      "hist_Clark_Lake_daytype.png\n",
      "hist_Lake_State_daytype.png\n",
      "hist_Jackson_State_daytype.png\n",
      "hist_Washington_State_daytype.png\n",
      "hist_Addison-North Main_daytype.png\n",
      "hist_95th_Dan Ryan_daytype.png\n",
      "hist_Washington_Wabash_daytype.png\n",
      "hist_Washington_Dearborn_daytype.png\n",
      "hist_Fullerton_daytype.png\n",
      "hist_Monroe_State_daytype.png\n"
     ]
    },
    {
     "data": {
      "text/plain": [
       "<Figure size 432x288 with 0 Axes>"
      ]
     },
     "metadata": {},
     "output_type": "display_data"
    },
    {
     "data": {
      "text/plain": [
       "<Figure size 432x288 with 0 Axes>"
      ]
     },
     "metadata": {},
     "output_type": "display_data"
    },
    {
     "data": {
      "text/plain": [
       "<Figure size 432x288 with 0 Axes>"
      ]
     },
     "metadata": {},
     "output_type": "display_data"
    },
    {
     "data": {
      "text/plain": [
       "<Figure size 432x288 with 0 Axes>"
      ]
     },
     "metadata": {},
     "output_type": "display_data"
    },
    {
     "data": {
      "text/plain": [
       "<Figure size 432x288 with 0 Axes>"
      ]
     },
     "metadata": {},
     "output_type": "display_data"
    },
    {
     "data": {
      "text/plain": [
       "<Figure size 432x288 with 0 Axes>"
      ]
     },
     "metadata": {},
     "output_type": "display_data"
    },
    {
     "data": {
      "text/plain": [
       "<Figure size 432x288 with 0 Axes>"
      ]
     },
     "metadata": {},
     "output_type": "display_data"
    },
    {
     "data": {
      "text/plain": [
       "<Figure size 432x288 with 0 Axes>"
      ]
     },
     "metadata": {},
     "output_type": "display_data"
    },
    {
     "data": {
      "text/plain": [
       "<Figure size 432x288 with 0 Axes>"
      ]
     },
     "metadata": {},
     "output_type": "display_data"
    },
    {
     "data": {
      "text/plain": [
       "<Figure size 432x288 with 0 Axes>"
      ]
     },
     "metadata": {},
     "output_type": "display_data"
    }
   ],
   "source": [
    "for stat in high_stations:\n",
    "    stat = Station(stat, ride_df, map_df)\n",
    "    stat.make_layered_hist('daytype')"
   ]
  },
  {
   "cell_type": "code",
   "execution_count": 17,
   "metadata": {},
   "outputs": [
    {
     "name": "stdout",
     "output_type": "stream",
     "text": [
      "hist_Clark_Lake_season.png\n",
      "hist_Lake_State_season.png\n",
      "hist_Jackson_State_season.png\n",
      "hist_Washington_State_season.png\n",
      "hist_Addison-North Main_season.png\n",
      "hist_95th_Dan Ryan_season.png\n",
      "hist_Washington_Wabash_season.png\n",
      "hist_Washington_Dearborn_season.png\n",
      "hist_Fullerton_season.png\n",
      "hist_Monroe_State_season.png\n"
     ]
    },
    {
     "data": {
      "text/plain": [
       "<Figure size 432x288 with 0 Axes>"
      ]
     },
     "metadata": {},
     "output_type": "display_data"
    },
    {
     "data": {
      "text/plain": [
       "<Figure size 432x288 with 0 Axes>"
      ]
     },
     "metadata": {},
     "output_type": "display_data"
    },
    {
     "data": {
      "text/plain": [
       "<Figure size 432x288 with 0 Axes>"
      ]
     },
     "metadata": {},
     "output_type": "display_data"
    },
    {
     "data": {
      "text/plain": [
       "<Figure size 432x288 with 0 Axes>"
      ]
     },
     "metadata": {},
     "output_type": "display_data"
    },
    {
     "data": {
      "text/plain": [
       "<Figure size 432x288 with 0 Axes>"
      ]
     },
     "metadata": {},
     "output_type": "display_data"
    },
    {
     "data": {
      "text/plain": [
       "<Figure size 432x288 with 0 Axes>"
      ]
     },
     "metadata": {},
     "output_type": "display_data"
    },
    {
     "data": {
      "text/plain": [
       "<Figure size 432x288 with 0 Axes>"
      ]
     },
     "metadata": {},
     "output_type": "display_data"
    },
    {
     "data": {
      "text/plain": [
       "<Figure size 432x288 with 0 Axes>"
      ]
     },
     "metadata": {},
     "output_type": "display_data"
    },
    {
     "data": {
      "text/plain": [
       "<Figure size 432x288 with 0 Axes>"
      ]
     },
     "metadata": {},
     "output_type": "display_data"
    },
    {
     "data": {
      "text/plain": [
       "<Figure size 432x288 with 0 Axes>"
      ]
     },
     "metadata": {},
     "output_type": "display_data"
    }
   ],
   "source": [
    "for stat in high_stations:\n",
    "    stat = Station(stat, ride_df, map_df)\n",
    "    stat.make_layered_hist('season')"
   ]
  },
  {
   "cell_type": "code",
   "execution_count": 18,
   "metadata": {},
   "outputs": [
    {
     "data": {
      "text/plain": [
       "<matplotlib.axes._subplots.AxesSubplot at 0x123751a20>"
      ]
     },
     "execution_count": 18,
     "metadata": {},
     "output_type": "execute_result"
    },
    {
     "data": {
      "image/png": "[encoded data removed]",
      "text/plain": [
       "<Figure size 432x288 with 1 Axes>"
      ]
     },
     "metadata": {
      "needs_background": "light"
     },
     "output_type": "display_data"
    }
   ],
   "source": [
    "fig, ax = plt.subplots()\n",
    "sns.scatterplot(x=\"daily_std\", y=\"weekday-sat\", data=station_summary, ax=ax)\n",
    "sns.scatterplot(x=\"daily_std\", y=\"weekday-sat\", data=high_stds, color='red', ax=ax)"
   ]
  },
  {
   "cell_type": "code",
   "execution_count": 19,
   "metadata": {},
   "outputs": [
    {
     "data": {
      "text/plain": [
       "<matplotlib.axes._subplots.AxesSubplot at 0x123db1a58>"
      ]
     },
     "execution_count": 19,
     "metadata": {},
     "output_type": "execute_result"
    },
    {
     "data": {
      "image/png": "[encoded data removed]",
      "text/plain": [
       "<Figure size 432x288 with 1 Axes>"
      ]
     },
     "metadata": {
      "needs_background": "light"
     },
     "output_type": "display_data"
    }
   ],
   "source": [
    "sns.distplot(station_summary['daily_std'])"
   ]
  },
  {
   "cell_type": "code",
   "execution_count": null,
   "metadata": {},
   "outputs": [],
   "source": []
  }
 ],
 "metadata": {
  "kernelspec": {
   "display_name": "Python 3",
   "language": "python",
   "name": "python3"
  },
  "language_info": {
   "codemirror_mode": {
    "name": "ipython",
    "version": 3
   },
   "file_extension": ".py",
   "mimetype": "text/x-python",
   "name": "python",
   "nbconvert_exporter": "python",
   "pygments_lexer": "ipython3",
   "version": "3.6.7"
  }
 },
 "nbformat": 4,
 "nbformat_minor": 2
}
