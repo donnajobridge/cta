{
 "cells": [
  {
   "cell_type": "markdown",
   "metadata": {},
   "source": [
    "## Run analysis on station summary data for questions 1 & 2"
   ]
  },
  {
   "cell_type": "code",
   "execution_count": null,
   "metadata": {},
   "outputs": [],
   "source": [
    "import pandas as pd\n",
    "import numpy as np\n",
    "from station import Station\n",
    "import seaborn as sns\n",
    "import matplotlib.pyplot as plt\n",
    "import mpld3\n",
    "\n",
    "%load_ext autoreload\n",
    "%autoreload"
   ]
  },
  {
   "cell_type": "code",
   "execution_count": null,
   "metadata": {},
   "outputs": [],
   "source": [
    "# read in data files\n",
    "ride_df = pd.read_csv('data/CTA_-_Ridership_-__L__Station_Entries_-_Daily_Totals.csv')\n",
    "map_df = pd.read_csv('data/CTA_-_System_Information_-_List_of__L__Stops.csv')\n",
    "station_map_names = {'Lake':'Lake/State', 'Jackson':'Jackson/State',\n",
    "                     'Washington':'Washington/Dearborn', 'Morgan':'Morgan-Lake'}\n",
    "map_df.replace({\"STATION_NAME\": station_map_names}, inplace=True)"
   ]
  },
  {
   "cell_type": "code",
   "execution_count": null,
   "metadata": {},
   "outputs": [],
   "source": [
    "station_summary = pd.read_csv('data/station_summary.csv')"
   ]
  },
  {
   "cell_type": "code",
   "execution_count": null,
   "metadata": {},
   "outputs": [],
   "source": [
    "# to_remove = station_summary[station_summary['Sat_mean'] == 0].index[0]\n",
    "# station_summary.drop([to_remove], inplace=True)\n",
    "station_summary['weekday-sat'] = station_summary['Weekday_mean'\n",
    "                                                ] - station_summary['Sat_mean']\n",
    "station_summary['weekday-sun'] = station_summary['Weekday_mean'\n",
    "                                                ] - station_summary['Sun/Hol_mean']"
   ]
  },
  {
   "cell_type": "code",
   "execution_count": null,
   "metadata": {
    "scrolled": true
   },
   "outputs": [],
   "source": [
    "# Find station with highest daily mean\n",
    "station_summary.loc[station_summary.daily_mean.idxmax()]"
   ]
  },
  {
   "cell_type": "code",
   "execution_count": null,
   "metadata": {},
   "outputs": [],
   "source": [
    "high_means = station_summary.sort_values(by='daily_mean', ascending=False).iloc[0:10]"
   ]
  },
  {
   "cell_type": "code",
   "execution_count": null,
   "metadata": {},
   "outputs": [],
   "source": [
    "# Plot stations with highest daily means\n",
    "fig, ax = plt.subplots()\n",
    "sns.barplot(x='station', y='daily_mean', data=high_means, ax=ax)\n",
    "ax.set_xticklabels(ax.get_xticklabels(), rotation=45, ha='right')\n",
    "plt.title('Top 10 Stations with Highest Daily Ridership', fontsize=18)\n",
    "ax.set_xlabel('Station', fontsize=14)\n",
    "ax.set_ylabel('Average Daily Rides', fontsize=14)\n",
    "plt.tight_layout()\n",
    "# plt.savefig('figs/dailyrides_mean.png')"
   ]
  },
  {
   "cell_type": "code",
   "execution_count": null,
   "metadata": {},
   "outputs": [],
   "source": [
    "# Find Washington/Wabash's std\n",
    "station_summary[station_summary['station']=='Washington/Wabash']"
   ]
  },
  {
   "cell_type": "code",
   "execution_count": null,
   "metadata": {},
   "outputs": [],
   "source": [
    "station_summary.describe()"
   ]
  },
  {
   "cell_type": "markdown",
   "metadata": {},
   "source": [
    "### Plot stations with high standard deviations by day of the week & season"
   ]
  },
  {
   "cell_type": "code",
   "execution_count": null,
   "metadata": {},
   "outputs": [],
   "source": [
    "high_stds = station_summary.sort_values(by='daily_std', ascending=False).iloc[0:10]\n",
    "station_summary['high_std']=0\n",
    "station_summary.loc[high_stds.index,'high_std']=1\n",
    "\n",
    "high_stations = high_stds.station.tolist()\n",
    "high_stds.set_index('station', inplace=True)"
   ]
  },
  {
   "cell_type": "code",
   "execution_count": null,
   "metadata": {
    "scrolled": true
   },
   "outputs": [],
   "source": [
    "for stat in high_stations:\n",
    "    stat = Station(stat, ride_df, map_df)\n",
    "    stat.make_layered_hist('daytype')"
   ]
  },
  {
   "cell_type": "code",
   "execution_count": null,
   "metadata": {
    "scrolled": true
   },
   "outputs": [],
   "source": [
    "for stat in high_stations:\n",
    "    stat = Station(stat, ride_df, map_df)\n",
    "    stat.make_layered_hist('season')"
   ]
  },
  {
   "cell_type": "code",
   "execution_count": null,
   "metadata": {},
   "outputs": [],
   "source": [
    "fig, ax = plt.subplots()\n",
    "sns.scatterplot(x=\"daily_std\", y=\"weekday-sat\", data=station_summary, ax=ax)\n",
    "sns.scatterplot(x=\"daily_std\", y=\"weekday-sat\", data=high_stds, color='red', ax=ax)\n",
    "ax.set_ylabel('Weekday - Sat Mean Rides', fontsize=16)\n",
    "ax.set_xlabel('Daily Standard Deviation', fontsize=16)\n",
    "plt.xticks(fontsize=14)\n",
    "plt.yticks(fontsize=14)\n",
    "plt.title('Weekday/Sat Differences vs. Daily STD', fontsize=18)\n",
    "plt.tight_layout()\n",
    "plt.savefig('figs/weekday_sat_std_scatter.png')"
   ]
  },
  {
   "cell_type": "code",
   "execution_count": null,
   "metadata": {},
   "outputs": [],
   "source": [
    "fig, ax = plt.subplots()\n",
    "sns.scatterplot(x=\"daily_std\", y=\"daily_mean\", data=station_summary, ax=ax)\n",
    "sns.scatterplot(x=\"daily_std\", y=\"daily_mean\", data=high_stds, color='red', ax=ax)"
   ]
  },
  {
   "cell_type": "code",
   "execution_count": null,
   "metadata": {},
   "outputs": [],
   "source": [
    "df=station_summary\n",
    "x='daily_std'\n",
    "y='daily_mean'\n",
    "color = 'high_std'\n",
    "fig, ax = plt.subplots(subplot_kw=dict(facecolor='#EEEEEE'))\n",
    "\n",
    "scatter = ax.scatter(np.array(df[x], dtype=float),\n",
    "                     np.array(df[y], dtype=float),\n",
    "                     c=np.array(df[color], dtype=float),\n",
    "                     alpha=0.9,\n",
    "                     vmin=0,\n",
    "                     vmax=6,\n",
    "                     cmap='Set2')\n",
    "\n",
    "\n",
    "ax.grid(color='white', linestyle='solid')\n",
    "\n",
    "ax.set_title(x+' vs '+y, size=20)\n",
    "ax.set_xlabel('Mean Daily Standard Deviation', fontsize=16)\n",
    "ax.set_ylabel('Mean Daily Rides', fontsize=16)\n",
    "plt.xticks(fontsize=12)\n",
    "plt.yticks(fontsize=12)\n",
    "\n",
    "labels = df['station'].tolist()\n",
    "tooltip = mpld3.plugins.PointLabelTooltip(scatter, labels=labels)\n",
    "mpld3.plugins.connect(fig, tooltip)\n",
    "\n",
    "mpld3.display()\n"
   ]
  },
  {
   "cell_type": "code",
   "execution_count": null,
   "metadata": {},
   "outputs": [],
   "source": [
    "sns.distplot(station_summary['daily_std'])"
   ]
  },
  {
   "cell_type": "code",
   "execution_count": null,
   "metadata": {},
   "outputs": [],
   "source": []
  }
 ],
 "metadata": {
  "kernelspec": {
   "display_name": "Python 3",
   "language": "python",
   "name": "python3"
  },
  "language_info": {
   "codemirror_mode": {
    "name": "ipython",
    "version": 3
   },
   "file_extension": ".py",
   "mimetype": "text/x-python",
   "name": "python",
   "nbconvert_exporter": "python",
   "pygments_lexer": "ipython3",
   "version": "3.6.7"
  }
 },
 "nbformat": 4,
 "nbformat_minor": 2
}
