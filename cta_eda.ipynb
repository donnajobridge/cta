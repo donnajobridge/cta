{
 "cells": [
  {
   "cell_type": "markdown",
   "metadata": {},
   "source": [
    "## Exploratory data analysis of CTA ridership data"
   ]
  },
  {
   "cell_type": "code",
   "execution_count": null,
   "metadata": {},
   "outputs": [],
   "source": [
    "import pandas as pd\n",
    "import numpy as np\n",
    "import seaborn as sns\n",
    "import matplotlib.pyplot as plt\n",
    "import matplotlib.dates as mdates\n",
    "import mpld3"
   ]
  },
  {
   "cell_type": "code",
   "execution_count": null,
   "metadata": {},
   "outputs": [],
   "source": [
    "filename = \"data/CTA_-_Ridership_-__L__Station_Entries_-_Daily_Totals.csv\"\n",
    "df = pd.read_csv(filename)"
   ]
  },
  {
   "cell_type": "code",
   "execution_count": null,
   "metadata": {},
   "outputs": [],
   "source": [
    "# check for missing data, if any\n",
    "if df.isna().values.sum():\n",
    "    df.dropna(inplace=True)"
   ]
  },
  {
   "cell_type": "code",
   "execution_count": null,
   "metadata": {},
   "outputs": [],
   "source": [
    "# change date to datetime format\n",
    "df['datetime'] = pd.to_datetime(df['date'], format='%m/%d/%Y')"
   ]
  },
  {
   "cell_type": "code",
   "execution_count": null,
   "metadata": {
    "scrolled": true
   },
   "outputs": [],
   "source": [
    "# extract season, day of week, month, year\n",
    "seasons = ['Winter','Winter','Spring','Spring','Spring','Summer',\n",
    "           'Summer','Summer','Fall','Fall','Fall','Winter']\n",
    "months = range(1,13)\n",
    "mtos = dict(zip(months,seasons))\n",
    "df['season'] = df['datetime'].dt.month.map(mtos)\n",
    "df['weekday']=df['datetime'].dt.dayofweek.map({0:'Monday', 1:'Tuesday', 2:'Wednesday', \n",
    "                                               3:'Thursday',\n",
    "                                              4:'Friday', 5:'Saturday', 6:'Sunday'})\n",
    "df['month']=pd.DatetimeIndex(df['datetime']).month\n",
    "df['year']=pd.DatetimeIndex(df['datetime']).year"
   ]
  },
  {
   "cell_type": "code",
   "execution_count": null,
   "metadata": {},
   "outputs": [],
   "source": [
    "daytypes = df.daytype.unique().tolist()\n",
    "daytypedict = dict(zip(daytypes, ['Sun/Hol', 'Weekday', 'Sat']))\n",
    "df['daytype']=df['daytype'].map(daytypedict)"
   ]
  },
  {
   "cell_type": "code",
   "execution_count": null,
   "metadata": {},
   "outputs": [],
   "source": [
    "stations = df.stationname.unique().tolist()\n",
    "mparklist = ['Washington/Wabash', 'Clark/Lake']"
   ]
  },
  {
   "cell_type": "code",
   "execution_count": null,
   "metadata": {
    "scrolled": true
   },
   "outputs": [],
   "source": [
    "# check out when stations with least # days open\n",
    "count_days = df.groupby('stationname')['rides'].count().reset_index()\n",
    "day_count_stats = count_days.describe().loc['25%','rides']\n",
    "count_days[count_days['rides'] < day_count_stats].sort_values(\n",
    "    by='rides').reset_index(drop=True).loc[0:9]"
   ]
  },
  {
   "cell_type": "code",
   "execution_count": null,
   "metadata": {},
   "outputs": [],
   "source": [
    "# find trends in ridership (from 2012 to 2017 years)\n",
    "years_list = np.arange(2017, 2011, -5)\n",
    "df_diff = df[df['year'].isin(years_list)]\n",
    "df_diff = df_diff.groupby(['stationname','year'])['rides'].mean().reset_index()\n",
    "\n",
    "# get rid of stations w/ missing data in 2012 or 2017\n",
    "df_diff = df_diff.groupby('stationname').filter(lambda x: len(x) >1)\n",
    "\n",
    "# find change in ridership in past 5 years\n",
    "df_diff['5yr_diff'] = df_diff['rides'].diff()\n",
    "df_diff['5yr_percent_diff'] = df_diff['rides'].pct_change()\n",
    "df_diff = df_diff[df_diff['year']!= 2012]"
   ]
  },
  {
   "cell_type": "code",
   "execution_count": null,
   "metadata": {},
   "outputs": [],
   "source": [
    "# get 25 stations with biggest ridership change from 5 years ago\n",
    "topdiffs = df_diff.sort_values(by=['5yr_diff'], ascending=False\n",
    "                              ).reset_index(drop=True).loc[0:10,:]\n",
    "topprops = df_diff.sort_values(by=['5yr_percent_diff'], ascending=False\n",
    "                              ).reset_index(drop=True).loc[0:10,:]\n",
    "top = topdiffs[topdiffs['stationname'].isin(topprops['stationname'])]\n",
    "topstationlist = top.stationname.unique()"
   ]
  },
  {
   "cell_type": "code",
   "execution_count": null,
   "metadata": {},
   "outputs": [],
   "source": [
    "# Plot stations with biggest percent change in daily ridership from 2012 to 2017\n",
    "fig, ax = plt.subplots()\n",
    "sns.barplot(x='stationname', y='5yr_percent_diff', data=top, ax=ax)\n",
    "ax.set_xticklabels(ax.get_xticklabels(), rotation=45, ha='right')\n",
    "plt.title('Stations with greatest daily ridership change: 2012-2017', fontsize=18)\n",
    "ax.set_xlabel('Station', fontsize=14)\n",
    "ax.set_ylabel('% Change 2012-2017', fontsize=14)"
   ]
  },
  {
   "cell_type": "code",
   "execution_count": null,
   "metadata": {},
   "outputs": [],
   "source": [
    "# get average daily ridership yearly change for the past 5 years\n",
    "df_yrdiff=pd.DataFrame()\n",
    "years_list_5 = np.arange(2017, 2011, -1)\n",
    "df_yrdiff = df[df['year'].isin(years_list_5)]\n",
    "df_yrdiff = df_yrdiff.groupby(['stationname','year'])['rides'].mean().reset_index()\n",
    "\n",
    "# get rid of stations w/ missing data in 2012 or 2017\n",
    "df_yrdiff = df_yrdiff.groupby('stationname').filter(lambda x: len(x) >5)\n",
    "\n",
    "# # find change in ridership in past 5 years\n",
    "df_yrdiff['5yr_diff_ave'] = df_yrdiff['rides'].diff()\n",
    "df_yrdiff['5yr_percent_diff_ave'] = df_yrdiff['rides'].pct_change()\n",
    "df_yrdiff = df_yrdiff[df_yrdiff['year']!= 2012]\n",
    "df_yrdiff=df_yrdiff.groupby('stationname').mean().reset_index()\n",
    "df_yrdiff['years']=str(years_list_5[0])+'-'+str(years_list_5[-1])"
   ]
  },
  {
   "cell_type": "code",
   "execution_count": null,
   "metadata": {},
   "outputs": [],
   "source": [
    "# get 25 stations with biggest ridership change from 5 years ago\n",
    "topdiffs_ave = df_yrdiff.sort_values(by=['5yr_diff_ave'], ascending=False).reset_index(drop=True).loc[0:24,:]\n",
    "topprops_ave = df_yrdiff.sort_values(by=['5yr_percent_diff_ave'], ascending=False).reset_index(drop=True).loc[0:24,:]\n",
    "top_ave = topdiffs_ave[topdiffs_ave['stationname'].isin(topprops['stationname'])]\n",
    "topstationlist_ave = top_ave.stationname.unique()"
   ]
  },
  {
   "cell_type": "code",
   "execution_count": null,
   "metadata": {},
   "outputs": [],
   "source": [
    "df['is_topstation_ave']=df['stationname'].isin(topstationlist_ave)"
   ]
  },
  {
   "cell_type": "code",
   "execution_count": null,
   "metadata": {},
   "outputs": [],
   "source": [
    "# Plot stations with biggest yearly average percent change \n",
    "# in daily ridership from 2012 to 2017\n",
    "fig, ax = plt.subplots()\n",
    "sns.barplot(x='stationname', y='5yr_percent_diff_ave', data=top_ave, ax=ax)\n",
    "ax.set_xticklabels(ax.get_xticklabels(), rotation=45, ha='right')\n",
    "plt.title('Stations with highest average change in daily ridership change: 2012-2017', \n",
    "          fontsize=18)\n",
    "ax.set_xlabel('Station', fontsize=14)\n",
    "ax.set_ylabel('Average % Change 2012-2017', fontsize=14)"
   ]
  },
  {
   "cell_type": "code",
   "execution_count": null,
   "metadata": {},
   "outputs": [],
   "source": [
    "# plot ridership over time\n",
    "def make_time_plot(df, station):    \n",
    "    d = df[df['stationname']==station]\n",
    "    x = 'datetime'\n",
    "    y = 'rides'\n",
    "    a=d[x]\n",
    "    b=d[y]\n",
    "    fig, ax = plt.subplots()\n",
    "    ax.plot(a, b)\n",
    "    ax.xaxis.set_major_formatter(mdates.DateFormatter('%Y'))\n",
    "    plt.title(station)"
   ]
  },
  {
   "cell_type": "code",
   "execution_count": null,
   "metadata": {},
   "outputs": [],
   "source": [
    "# plots stations with big changes from 2012 to 2017\n",
    "for stat in topstationlist:\n",
    "    make_time_plot(df, stat)"
   ]
  },
  {
   "cell_type": "code",
   "execution_count": null,
   "metadata": {},
   "outputs": [],
   "source": [
    "# plots stations with greatest average yearly increases between 2012 and 2017\n",
    "for stat in topstationlist_ave:\n",
    "    make_time_plot(df, stat)"
   ]
  },
  {
   "cell_type": "code",
   "execution_count": null,
   "metadata": {},
   "outputs": [],
   "source": [
    "y=pd.DataFrame(df.groupby(by=['stationname'])['rides'].mean())\n",
    "y.loc[y.idxmax()]"
   ]
  },
  {
   "cell_type": "code",
   "execution_count": null,
   "metadata": {},
   "outputs": [],
   "source": [
    "df_map = pd.read_csv('data/CTA_-_System_Information_-_List_of__L__Stops.csv')\n",
    "loc_string = df_map[df_map['STATION_NAME']=='Morse'].reset_index().loc[0,'Location']\n",
    "lat,long = loc_string.strip('()').split(',')"
   ]
  },
  {
   "cell_type": "code",
   "execution_count": null,
   "metadata": {},
   "outputs": [],
   "source": [
    "lats = []\n",
    "lons = []\n",
    "for val in df_map.Location:\n",
    "    lat, long = val.strip('()').split(',')\n",
    "    lats.append(float(lat))\n",
    "    lons.append(float(long))\n",
    "df_map['latitude']=lats  \n",
    "df_map['longitude']=lons  "
   ]
  },
  {
   "cell_type": "code",
   "execution_count": null,
   "metadata": {},
   "outputs": [],
   "source": [
    "sns.jointplot(x=\"longitude\",y=\"latitude\", data=df_map)"
   ]
  },
  {
   "cell_type": "code",
   "execution_count": null,
   "metadata": {},
   "outputs": [],
   "source": []
  }
 ],
 "metadata": {
  "kernelspec": {
   "display_name": "Python 3",
   "language": "python",
   "name": "python3"
  },
  "language_info": {
   "codemirror_mode": {
    "name": "ipython",
    "version": 3
   },
   "file_extension": ".py",
   "mimetype": "text/x-python",
   "name": "python",
   "nbconvert_exporter": "python",
   "pygments_lexer": "ipython3",
   "version": "3.6.7"
  }
 },
 "nbformat": 4,
 "nbformat_minor": 2
}
