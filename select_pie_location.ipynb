{
 "cells": [
  {
   "cell_type": "code",
   "execution_count": null,
   "metadata": {},
   "outputs": [],
   "source": [
    "import pandas as pd\n",
    "import numpy as np\n",
    "from station import Station\n",
    "import seaborn as sns\n",
    "import matplotlib.pyplot as plt\n",
    "import mpld3\n",
    "\n",
    "%load_ext autoreload\n",
    "%autoreload"
   ]
  },
  {
   "cell_type": "code",
   "execution_count": null,
   "metadata": {},
   "outputs": [],
   "source": [
    "# read in data files\n",
    "ride_df = pd.read_csv('data/CTA_-_Ridership_-__L__Station_Entries_-_Daily_Totals.csv')\n",
    "map_df = pd.read_csv('data/CTA_-_System_Information_-_List_of__L__Stops.csv')\n",
    "station_map_names = {'Lake':'Lake/State', 'Jackson':'Jackson/State',\n",
    "                     'Washington':'Washington/Dearborn', 'Morgan':'Morgan-Lake'}\n",
    "map_df.replace({\"STATION_NAME\": station_map_names}, inplace=True)"
   ]
  },
  {
   "cell_type": "code",
   "execution_count": null,
   "metadata": {},
   "outputs": [],
   "source": [
    "station_summary = pd.read_csv('data/station_summary.csv')"
   ]
  },
  {
   "cell_type": "markdown",
   "metadata": {},
   "source": [
    "### Determine best locations for pie shop"
   ]
  },
  {
   "cell_type": "code",
   "execution_count": null,
   "metadata": {},
   "outputs": [],
   "source": [
    "# calculate change from 2018 to predicted ridership in 2023\n",
    "station_summary['pctchange_2018_2023'] = ((\n",
    "    station_summary['2023_predicted_mean']/station_summary['2018_mean'])-1)*100\n",
    "station_summary['rawchange_2018_2023'] = (\n",
    "    station_summary['2023_predicted_mean']-station_summary['2018_mean'])\n",
    "\n",
    "# find stations with mid-range daily ridership & high anticipated growth\n",
    "m_high = station_summary.quantile(.80).loc['2018_mean']\n",
    "m_low = station_summary.quantile(.25).loc['2018_mean']\n",
    "\n",
    "mid_means_2018 = station_summary[(station_summary['2018_mean'] < m_high) & (\n",
    "    station_summary['2018_mean'] > m_low)]\n",
    "\n",
    "midmean_highgrowth = mid_means_2018.sort_values(by=['pctchange_2018_2023'], \n",
    "                                                ascending=False).reset_index().loc[0:5]\n",
    "station_summary['midmean_highgrowth']=0\n",
    "station_summary.loc[midmean_highgrowth['index'],'midmean_highgrowth']=1"
   ]
  },
  {
   "cell_type": "code",
   "execution_count": null,
   "metadata": {},
   "outputs": [],
   "source": [
    "# plot scatterplot: mean 2018 ridership vs. anticipated growth\n",
    "# highlight stations selected for pie shop (mid-range mean high-growth stations)\n",
    "\n",
    "df=station_summary[station_summary['2023_predicted_mean']>0]\n",
    "x='2018_mean'\n",
    "y='pctchange_2018_2023'\n",
    "color = 'midmean_highgrowth'\n",
    "fig, ax = plt.subplots(subplot_kw=dict(facecolor='#EEEEEE'))\n",
    "\n",
    "scatter = ax.scatter(np.array(df[x], dtype=float),\n",
    "                     np.array(df[y], dtype=float),\n",
    "                     c=np.array(df[color], dtype=float),\n",
    "#                          s=np.array(5000 * all_top['5yr_percent_diff_ave'] , dtype=float),\n",
    "                     alpha=0.9,\n",
    "                     vmin=0,\n",
    "                     vmax=6,\n",
    "                     cmap='Set2')\n",
    "\n",
    "\n",
    "ax.grid(color='white', linestyle='solid')\n",
    "\n",
    "ax.set_title(x+' vs '+y, size=20)\n",
    "\n",
    "labels = df['station'].tolist()\n",
    "tooltip = mpld3.plugins.PointLabelTooltip(scatter, labels=labels)\n",
    "mpld3.plugins.connect(fig, tooltip)\n",
    "\n",
    "mpld3.display()"
   ]
  },
  {
   "cell_type": "code",
   "execution_count": null,
   "metadata": {},
   "outputs": [],
   "source": [
    "pie_stations = midmean_highgrowth.station.tolist()\n",
    "\n",
    "# # rerun Station class on pie stations & make projection figs\n",
    "for pie in pie_stations:\n",
    "    stat = Station(pie, ride_df, map_df)\n",
    "    stat.run_prophet()\n",
    "\n",
    "    stat.preprocessed['day']=stat.preprocessed.index.weekday_name\n",
    "    stat.forecast_all['day']=pd.DatetimeIndex(stat.forecast_all['ds']).weekday_name\n",
    "    future = stat.forecast_all[stat.forecast_all['ds']>pd.to_datetime('06-30-2018')]\n",
    "   \n",
    "    fig, ax = plt.subplots(figsize=(15,10))\n",
    "    sns.scatterplot(x='datetime', y='rides', \n",
    "                    data=stat.preprocessed.reset_index(), alpha=.25, color='steelblue', ax=ax)\n",
    "    sns.lineplot(x='ds', y='yhat',hue='day', data=stat.forecast_all, palette='dark', ax=ax)\n",
    "    ax.fill_between(np.array(future['ds']), np.array(future['yhat_lower']), \n",
    "                    np.array(future['yhat_upper']), color='grey', alpha=.25)\n",
    "    plt.title(stat.name, fontsize=20)\n",
    "    ax.xaxis.set_tick_params(labelsize=14)\n",
    "    ax.yaxis.set_tick_params(labelsize=14)\n",
    "    ax.set_xlabel('Year', fontsize=16)\n",
    "    ax.set_ylabel('Rides', fontsize=16)\n",
    "    plt.legend(loc='upper left', fontsize=16)\n",
    "    fname = stat.name + '_growth.png'\n",
    "    fname = fname.replace('/','_')\n",
    "    plt.savefig('figs/' + fname)"
   ]
  },
  {
   "cell_type": "code",
   "execution_count": null,
   "metadata": {},
   "outputs": [],
   "source": []
  }
 ],
 "metadata": {
  "kernelspec": {
   "display_name": "Python 3",
   "language": "python",
   "name": "python3"
  },
  "language_info": {
   "codemirror_mode": {
    "name": "ipython",
    "version": 3
   },
   "file_extension": ".py",
   "mimetype": "text/x-python",
   "name": "python",
   "nbconvert_exporter": "python",
   "pygments_lexer": "ipython3",
   "version": "3.6.7"
  }
 },
 "nbformat": 4,
 "nbformat_minor": 2
}
