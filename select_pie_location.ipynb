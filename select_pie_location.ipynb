{
 "cells": [
  {
   "cell_type": "code",
   "execution_count": null,
   "metadata": {},
   "outputs": [],
   "source": [
    "import pandas as pd\n",
    "import numpy as np\n",
    "from station import Station\n",
    "import seaborn as sns\n",
    "import matplotlib.pyplot as plt\n",
    "import mpld3\n",
    "from fbprophet.diagnostics import cross_validation, performance_metrics\n",
    "\n",
    "%load_ext autoreload\n",
    "%autoreload"
   ]
  },
  {
   "cell_type": "code",
   "execution_count": null,
   "metadata": {},
   "outputs": [],
   "source": [
    "# read in data files\n",
    "ride_df = pd.read_csv('data/CTA_-_Ridership_-__L__Station_Entries_-_Daily_Totals.csv')\n",
    "map_df = pd.read_csv('data/CTA_-_System_Information_-_List_of__L__Stops.csv')\n",
    "station_map_names = {'Lake':'Lake/State', 'Jackson':'Jackson/State',\n",
    "                     'Washington':'Washington/Dearborn', 'Morgan':'Morgan-Lake'}\n",
    "map_df.replace({\"STATION_NAME\": station_map_names}, inplace=True)"
   ]
  },
  {
   "cell_type": "code",
   "execution_count": null,
   "metadata": {},
   "outputs": [],
   "source": [
    "station_summary = pd.read_csv('data/station_summary.csv')"
   ]
  },
  {
   "cell_type": "markdown",
   "metadata": {},
   "source": [
    "### Determine best locations for pie shop\n",
    "Current high ridership would imply high-cost rent locations, which may not be affordable for the new local business. On the other hand, low ridership stations may not have enough pedestrian traffic that the new business may need to attract customers. Therefore, I chose train locations that have mean daily ridership within the middle range (25th to 80th percentile). "
   ]
  },
  {
   "cell_type": "code",
   "execution_count": null,
   "metadata": {},
   "outputs": [],
   "source": [
    "# calculate change from 2018 to predicted ridership in 2023\n",
    "station_summary['pctchange_2018_2023'] = ((\n",
    "    station_summary['2023_predicted_mean']/station_summary['2018_mean'])-1)*100\n",
    "station_summary['rawchange_2018_2023'] = (\n",
    "    station_summary['2023_predicted_mean']-station_summary['2018_mean'])\n",
    "\n",
    "# find stations with mid-range daily ridership & high anticipated growth\n",
    "m_high = station_summary.quantile(.80).loc['2018_mean']\n",
    "m_low = station_summary.quantile(.25).loc['2018_mean']\n",
    "\n",
    "mid_means_2018 = station_summary[(station_summary['2018_mean'] < m_high) & (\n",
    "    station_summary['2018_mean'] > m_low)]\n",
    "\n",
    "midmean_highgrowth = mid_means_2018.sort_values(by=['pctchange_2018_2023'], \n",
    "                                                ascending=False).reset_index().loc[0:2]\n",
    "station_summary['midmean_highgrowth']=0\n",
    "station_summary.loc[midmean_highgrowth['index'],'midmean_highgrowth']=1\n"
   ]
  },
  {
   "cell_type": "code",
   "execution_count": null,
   "metadata": {},
   "outputs": [],
   "source": [
    "# plot scatterplot: mean 2018 ridership vs. anticipated growth\n",
    "# highlight stations selected for pie shop (mid-range mean high-growth stations)\n",
    "\n",
    "df=station_summary[station_summary['2023_predicted_mean']>0]\n",
    "x='2018_mean'\n",
    "y='pctchange_2018_2023'\n",
    "color = 'midmean_highgrowth'\n",
    "fig, ax = plt.subplots(subplot_kw=dict(facecolor='#EEEEEE'))\n",
    "\n",
    "scatter = ax.scatter(np.array(df[x], dtype=float),\n",
    "                     np.array(df[y], dtype=float),\n",
    "                     c=np.array(df[color], dtype=float),\n",
    "                     alpha=0.9,\n",
    "                     vmin=0,\n",
    "                     vmax=6,\n",
    "                     cmap='Set2')\n",
    "\n",
    "\n",
    "ax.grid(color='white', linestyle='solid')\n",
    "\n",
    "ax.set_title('2018 Mean vs. Projected Growth', size=20)\n",
    "ax.set_xlabel('2018 Mean Daily Rides', fontsize=16)\n",
    "ax.set_ylabel('Projected % Growth 2018-2023', fontsize=16)\n",
    "plt.xticks(fontsize=12)\n",
    "plt.yticks(fontsize=12)\n",
    "\n",
    "labels = df['station'].tolist()\n",
    "tooltip = mpld3.plugins.PointLabelTooltip(scatter, labels=labels)\n",
    "mpld3.plugins.connect(fig, tooltip)\n",
    "\n",
    "\n",
    "# plt.tight_layout()\n",
    "# plt.savefig('figs/growth_vs_2018mean_scatter.png')\n",
    "mpld3.display()\n"
   ]
  },
  {
   "cell_type": "markdown",
   "metadata": {},
   "source": [
    "## Forecasting future growth\n",
    "With our selected midmean_highgrowth stations, use fbprophet forecast model to ask which of these has high potential for growth in the the next 5 years. \n"
   ]
  },
  {
   "cell_type": "code",
   "execution_count": null,
   "metadata": {},
   "outputs": [],
   "source": [
    "pie_stations = midmean_highgrowth.station.tolist()\n",
    "station_class = []\n",
    "\n",
    "# # rerun Station class on pie stations & make projection figs\n",
    "for pie in pie_stations:\n",
    "    stat = Station(pie, ride_df, map_df)\n",
    "    stat.run_prophet()\n",
    "    stat.run_prophet_diagnostics()\n",
    "    station_class.append(stat)\n",
    "    \n",
    "    \n",
    "    stat.preprocessed['day']=stat.preprocessed.index.weekday_name\n",
    "    stat.forecast_all['day']=pd.DatetimeIndex(stat.forecast_all['ds']).weekday_name\n",
    "    future = stat.forecast_all[stat.forecast_all['ds']>pd.to_datetime('06-30-2018')]\n",
    "   \n",
    "    fig, ax = plt.subplots(figsize=(15,10))\n",
    "    sns.scatterplot(x='datetime', y='rides', \n",
    "                    data=stat.preprocessed.reset_index(), alpha=.25, color='steelblue', ax=ax)\n",
    "    sns.lineplot(x='ds', y='yhat',hue='day', data=stat.forecast_all, palette='dark', ax=ax)\n",
    "    ax.fill_between(np.array(future['ds']), np.array(future['yhat_lower']), \n",
    "                    np.array(future['yhat_upper']), color='grey', alpha=.25)\n",
    "    plt.title(stat.name, fontsize=28)\n",
    "    ax.xaxis.set_tick_params(labelsize=20)\n",
    "    ax.yaxis.set_tick_params(labelsize=20)\n",
    "    ax.set_xlabel('Year', fontsize=24)\n",
    "    ax.set_ylabel('Rides', fontsize=24)\n",
    "    plt.legend(loc='upper left', fontsize=20, frameon=False)\n",
    "    fname = stat.name + '_growth.png'\n",
    "    fname = fname.replace('/','_')\n",
    "    plt.savefig('figs/' + fname)"
   ]
  },
  {
   "cell_type": "code",
   "execution_count": null,
   "metadata": {},
   "outputs": [],
   "source": [
    "from fbprophet.plot import plot_cross_validation_metric\n",
    "fig = plot_cross_validation_metric(station_class[2].cv, metric='mape')"
   ]
  },
  {
   "cell_type": "code",
   "execution_count": null,
   "metadata": {},
   "outputs": [],
   "source": []
  }
 ],
 "metadata": {
  "kernelspec": {
   "display_name": "Python 3",
   "language": "python",
   "name": "python3"
  },
  "language_info": {
   "codemirror_mode": {
    "name": "ipython",
    "version": 3
   },
   "file_extension": ".py",
   "mimetype": "text/x-python",
   "name": "python",
   "nbconvert_exporter": "python",
   "pygments_lexer": "ipython3",
   "version": "3.6.7"
  }
 },
 "nbformat": 4,
 "nbformat_minor": 2
}
