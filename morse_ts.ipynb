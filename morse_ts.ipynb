{
 "cells": [
  {
   "cell_type": "code",
   "execution_count": 1,
   "metadata": {},
   "outputs": [],
   "source": [
    "import pandas as pd\n",
    "import numpy as np\n",
    "import seaborn as sns\n",
    "import matplotlib.pyplot as plt\n",
    "import matplotlib.dates as mdates\n",
    "import mpld3\n",
    "import statsmodels.api as sm\n",
    "import itertools\n",
    "from fbprophet import Prophet\n",
    "from station import Station\n",
    "from sklearn.metrics import mean_squared_error"
   ]
  },
  {
   "cell_type": "code",
   "execution_count": 2,
   "metadata": {},
   "outputs": [],
   "source": [
    "# read in data files\n",
    "ride_df = pd.read_csv('data/CTA_-_Ridership_-__L__Station_Entries_-_Daily_Totals.csv')\n",
    "map_df = pd.read_csv('data/CTA_-_System_Information_-_List_of__L__Stops.csv')\n",
    "station_map_names = {'Lake':'Lake/State', 'Jackson':'Jackson/State',\n",
    "                     'Washington':'Washington/Dearborn'}\n",
    "map_df.replace({\"STATION_NAME\": station_map_names}, inplace=True)"
   ]
  },
  {
   "cell_type": "code",
   "execution_count": 3,
   "metadata": {},
   "outputs": [],
   "source": [
    "morse = Station('Morse', ride_df, map_df)"
   ]
  },
  {
   "cell_type": "code",
   "execution_count": 6,
   "metadata": {},
   "outputs": [
    {
     "name": "stderr",
     "output_type": "stream",
     "text": [
      "INFO:fbprophet:Disabling daily seasonality. Run prophet with daily_seasonality=True to override this.\n"
     ]
    }
   ],
   "source": [
    "morse.run_prophet()"
   ]
  },
  {
   "cell_type": "code",
   "execution_count": 7,
   "metadata": {},
   "outputs": [
    {
     "data": {
      "text/plain": [
       "{'station': 'Morse',\n",
       " 'latitude': 42.008362,\n",
       " 'longitude': -87.665909,\n",
       " 'num_na': 0,\n",
       " 'daily_mean': 3838.794366197183,\n",
       " 'daily_std': 939.7350430490086,\n",
       " 'Sun/Hol_mean': 2439.2765748031497,\n",
       " 'Sun/Hol_std': 577.5368209808364,\n",
       " 'Weekday_mean': 4288.103471444569,\n",
       " 'Weekday_std': 626.7836942096584,\n",
       " 'Sat_mean': 3196.0495049504952,\n",
       " 'Sat_std': 558.243655426637,\n",
       " '2017_mean': 4146.156164383561,\n",
       " '2017_std': 825.0548235174577,\n",
       " '2018_mean': 4014.3812154696134,\n",
       " '2018_std': 804.2609813298327,\n",
       " 'num_yrs_from_past_5': 5,\n",
       " '5_yr_num_diff': -6.84657534246594,\n",
       " '5_yr_pct_diff': -0.0003298273958487197,\n",
       " '2018_predicted_mean': 3928.9645119703296,\n",
       " '2018_predicted_std': 737.6947722925901,\n",
       " '2019_predicted_mean': 3835.984759996871,\n",
       " '2019_predicted_std': 715.1567083911658,\n",
       " '2020_predicted_mean': 3670.833907189251,\n",
       " '2020_predicted_std': 714.1373121755939,\n",
       " '2021_predicted_mean': 3508.1213241834116,\n",
       " '2021_predicted_std': 714.2953032916263,\n",
       " '2022_predicted_mean': 3340.948049556146,\n",
       " '2022_predicted_std': 718.4627244192383,\n",
       " '2023_predicted_mean': 3245.5646960431695,\n",
       " '2023_predicted_std': 703.3021084229977}"
      ]
     },
     "execution_count": 7,
     "metadata": {},
     "output_type": "execute_result"
    }
   ],
   "source": [
    "morse.summary"
   ]
  },
  {
   "cell_type": "code",
   "execution_count": 8,
   "metadata": {
    "scrolled": true
   },
   "outputs": [
    {
     "data": {
      "text/plain": [
       "804.2609813298327"
      ]
     },
     "execution_count": 8,
     "metadata": {},
     "output_type": "execute_result"
    }
   ],
   "source": [
    "self.preprocessed[self.preprocessed['year']==2018]['rides'].mean()\n",
    "self.preprocessed[self.preprocessed['year']==2018]['rides'].std()"
   ]
  },
  {
   "cell_type": "code",
   "execution_count": null,
   "metadata": {},
   "outputs": [],
   "source": [
    "\n",
    "sum_dict={}\n",
    "for row, ldf in forecast_data.groupby('year'):\n",
    "    mean = ldf['yhat'].mean()\n",
    "    std = ldf['yhat'].std()\n",
    "\n",
    "    sum_dict[f'{row}_mean'] = mean\n",
    "    sum_dict[f'{row}_std'] = std\n",
    "return sum_dict"
   ]
  },
  {
   "cell_type": "code",
   "execution_count": 4,
   "metadata": {},
   "outputs": [
    {
     "name": "stderr",
     "output_type": "stream",
     "text": [
      "INFO:fbprophet:Disabling daily seasonality. Run prophet with daily_seasonality=True to override this.\n"
     ]
    }
   ],
   "source": [
    "morse.run_prophet()"
   ]
  },
  {
   "cell_type": "code",
   "execution_count": 5,
   "metadata": {},
   "outputs": [
    {
     "data": {
      "text/plain": [
       "{'station': 'Morse',\n",
       " 'latitude': 42.008362,\n",
       " 'longitude': -87.665909,\n",
       " 'num_na': 0,\n",
       " 'daily_mean': 3838.794366197183,\n",
       " 'daily_std': 939.7350430490086,\n",
       " 'Sun/Hol_mean': 2439.2765748031497,\n",
       " 'Sun/Hol_std': 577.5368209808364,\n",
       " 'Weekday_mean': 4288.103471444569,\n",
       " 'Weekday_std': 626.7836942096584,\n",
       " 'Sat_mean': 3196.0495049504952,\n",
       " 'Sat_std': 558.243655426637,\n",
       " 'num_yrs_from_past_5': 5,\n",
       " '5_yr_num_diff': -6.84657534246594,\n",
       " '5_yr_pct_diff': -0.0003298273958487197,\n",
       " '2018_mean': 3928.9645119703296,\n",
       " '2018_std': 737.6947722925901,\n",
       " '2019_mean': 3835.984759996871,\n",
       " '2019_std': 715.1567083911658,\n",
       " '2020_mean': 3670.833907189251,\n",
       " '2020_std': 714.1373121755939,\n",
       " '2021_mean': 3508.1213241834116,\n",
       " '2021_std': 714.2953032916263,\n",
       " '2022_mean': 3340.948049556146,\n",
       " '2022_std': 718.4627244192383,\n",
       " '2023_mean': 3245.5646960431695,\n",
       " '2023_std': 703.3021084229977}"
      ]
     },
     "execution_count": 5,
     "metadata": {},
     "output_type": "execute_result"
    }
   ],
   "source": [
    "morse.summary"
   ]
  },
  {
   "cell_type": "code",
   "execution_count": 4,
   "metadata": {
    "scrolled": true
   },
   "outputs": [],
   "source": [
    "# decomposition = sm.tsa.seasonal_decompose(morse.prophet_df, model='additive')\n",
    "# fig = decomposition.plot()\n",
    "# plt.show()"
   ]
  },
  {
   "cell_type": "code",
   "execution_count": 5,
   "metadata": {},
   "outputs": [],
   "source": [
    "df = morse.prophet_df\n",
    "def run_prophet(df):\n",
    "    years_in_future_5=365*5+1\n",
    "    final_real_date = df.iloc[-1].ds\n",
    "    m = Prophet()\n",
    "    m.fit(df)\n",
    "    future = m.make_future_dataframe(periods=years_in_future_5)\n",
    "    forecast = m.predict(future)\n",
    "    forecast_data = forecast[forecast['ds']>final_real_date][['ds', 'yhat']].reset_index(\n",
    "    drop=True)\n",
    "    forecast_data['ds']=pd.to_datetime(forecast_data['ds'])\n",
    "    forecast_data['year']=forecast_data.ds.dt.year\n",
    "    \n",
    "    sum_dict={}\n",
    "    for row, ldf in forecast_data.groupby('year'):\n",
    "        mean = ldf['yhat'].mean()\n",
    "        std = ldf['yhat'].std()\n",
    "\n",
    "        sum_dict[f'{row}_mean'] = mean\n",
    "        sum_dict[f'{row}_std'] = std\n",
    "    return sum_dict"
   ]
  },
  {
   "cell_type": "code",
   "execution_count": 6,
   "metadata": {},
   "outputs": [
    {
     "name": "stderr",
     "output_type": "stream",
     "text": [
      "INFO:fbprophet:Disabling daily seasonality. Run prophet with daily_seasonality=True to override this.\n"
     ]
    },
    {
     "data": {
      "text/plain": [
       "{'2018_mean': 3928.9645119703296,\n",
       " '2018_std': 737.6947722925901,\n",
       " '2019_mean': 3835.984759996871,\n",
       " '2019_std': 715.1567083911658,\n",
       " '2020_mean': 3670.833907189251,\n",
       " '2020_std': 714.1373121755939,\n",
       " '2021_mean': 3508.1213241834116,\n",
       " '2021_std': 714.2953032916263,\n",
       " '2022_mean': 3340.948049556146,\n",
       " '2022_std': 718.4627244192383,\n",
       " '2023_mean': 3245.5646960431695,\n",
       " '2023_std': 703.3021084229977}"
      ]
     },
     "execution_count": 6,
     "metadata": {},
     "output_type": "execute_result"
    }
   ],
   "source": [
    "run_prophet(df)"
   ]
  },
  {
   "cell_type": "code",
   "execution_count": 7,
   "metadata": {},
   "outputs": [],
   "source": [
    "date_cutoff = '01-01-2018'\n",
    "train = df[df['ds']<date_cutoff]\n",
    "test = df[df['ds']>=date_cutoff]"
   ]
  },
  {
   "cell_type": "code",
   "execution_count": 8,
   "metadata": {},
   "outputs": [
    {
     "data": {
      "text/plain": [
       "Timestamp('2018-06-30 00:00:00')"
      ]
     },
     "execution_count": 8,
     "metadata": {},
     "output_type": "execute_result"
    }
   ],
   "source": [
    "df.iloc[-1].ds"
   ]
  },
  {
   "cell_type": "code",
   "execution_count": 9,
   "metadata": {
    "scrolled": true
   },
   "outputs": [
    {
     "ename": "NameError",
     "evalue": "name 'm' is not defined",
     "output_type": "error",
     "traceback": [
      "\u001b[0;31m---------------------------------------------------------------------------\u001b[0m",
      "\u001b[0;31mNameError\u001b[0m                                 Traceback (most recent call last)",
      "\u001b[0;32m<ipython-input-9-cf9bb34f20b6>\u001b[0m in \u001b[0;36m<module>\u001b[0;34m\u001b[0m\n\u001b[0;32m----> 1\u001b[0;31m \u001b[0mforecast\u001b[0m \u001b[0;34m=\u001b[0m \u001b[0mm\u001b[0m\u001b[0;34m.\u001b[0m\u001b[0mpredict\u001b[0m\u001b[0;34m(\u001b[0m\u001b[0mfuture\u001b[0m\u001b[0;34m)\u001b[0m\u001b[0;34m\u001b[0m\u001b[0;34m\u001b[0m\u001b[0m\n\u001b[0m\u001b[1;32m      2\u001b[0m \u001b[0mforecast\u001b[0m\u001b[0;34m[\u001b[0m\u001b[0;34m[\u001b[0m\u001b[0;34m'ds'\u001b[0m\u001b[0;34m,\u001b[0m \u001b[0;34m'yhat'\u001b[0m\u001b[0;34m,\u001b[0m \u001b[0;34m'yhat_lower'\u001b[0m\u001b[0;34m,\u001b[0m \u001b[0;34m'yhat_upper'\u001b[0m\u001b[0;34m]\u001b[0m\u001b[0;34m]\u001b[0m\u001b[0;34m\u001b[0m\u001b[0;34m\u001b[0m\u001b[0m\n",
      "\u001b[0;31mNameError\u001b[0m: name 'm' is not defined"
     ]
    }
   ],
   "source": [
    "forecast = m.predict(future)\n",
    "forecast[['ds', 'yhat', 'yhat_lower', 'yhat_upper']]"
   ]
  },
  {
   "cell_type": "code",
   "execution_count": null,
   "metadata": {},
   "outputs": [],
   "source": [
    "forecast['y']=df['y']\n",
    "forecast['residuals']=forecast['y']-forecast['yhat']"
   ]
  },
  {
   "cell_type": "code",
   "execution_count": null,
   "metadata": {},
   "outputs": [],
   "source": [
    "fig1 = m.plot(forecast_data)"
   ]
  },
  {
   "cell_type": "code",
   "execution_count": null,
   "metadata": {},
   "outputs": [],
   "source": []
  },
  {
   "cell_type": "code",
   "execution_count": null,
   "metadata": {},
   "outputs": [],
   "source": [
    "for row, ldf in forecast_data.groupby('year'):\n",
    "    mean = ldf['yhat'].mean()\n",
    "    std = ldf['yhat'].std()\n",
    "    \n",
    "    sum_dict[f'{row}_mean'] = mean\n",
    "    sum_dict[f'{row}_std'] = std"
   ]
  },
  {
   "cell_type": "code",
   "execution_count": null,
   "metadata": {},
   "outputs": [],
   "source": [
    "sum_dict"
   ]
  },
  {
   "cell_type": "code",
   "execution_count": null,
   "metadata": {},
   "outputs": [],
   "source": [
    "fig, ax = plt.subplots()\n",
    "ax.plot(later_years['ds'], later_years['residuals'], alpha=.3)"
   ]
  },
  {
   "cell_type": "code",
   "execution_count": null,
   "metadata": {},
   "outputs": [],
   "source": [
    "mse = mean_squared_error(later_years['y'], later_years['yhat'])"
   ]
  },
  {
   "cell_type": "code",
   "execution_count": null,
   "metadata": {},
   "outputs": [],
   "source": [
    "fig, ax = plt.subplots()\n",
    "\n",
    "ax.plot(later_years['ds'], later_years['yhat'], alpha=.3)\n",
    "ax.plot(later_years['ds'], later_years['y'], alpha=.5)\n"
   ]
  },
  {
   "cell_type": "code",
   "execution_count": null,
   "metadata": {},
   "outputs": [],
   "source": [
    "# plot ridership over time\n",
    "def make_time_plot(df, station):    \n",
    "    d = df[df['stationname']==station]\n",
    "    x = 'datetime'\n",
    "    y = 'rides'\n",
    "    a=d[x]\n",
    "    b=d[y]\n",
    "    fig, ax = plt.subplots()\n",
    "    ax.plot(a, b)\n",
    "    ax.xaxis.set_major_formatter(mdates.DateFormatter('%Y'))\n",
    "    plt.title(station)"
   ]
  },
  {
   "cell_type": "code",
   "execution_count": null,
   "metadata": {},
   "outputs": [],
   "source": [
    "def make_layered_hist(array, station, variablename, variablelist):\n",
    "    fig, ax = plt.subplots()\n",
    "    for var in variablelist:\n",
    "        condarray = array[(array['stationname']==station) & (array[variablename]==var)]\n",
    "        dist=sns.distplot(condarray['rides'], ax=ax, label=var)\n",
    "        ax.legend()\n",
    "        ax.set_xlabel('# of Rides Daily', fontsize=16)\n",
    "    dist=dist.get_figure()\n",
    "    ax.set_ylabel('Frequency', fontsize=16)\n",
    "    ax.set_xlim([0,25000])\n",
    "    plt.title('Distribution of ' + station +' Rides', fontsize=20)\n",
    "    return fig, ax\n",
    "#     kde.savefig('figs/react_kde' + condDay + '.png')\n",
    "#     plt.clf()"
   ]
  },
  {
   "cell_type": "code",
   "execution_count": null,
   "metadata": {},
   "outputs": [],
   "source": []
  }
 ],
 "metadata": {
  "kernelspec": {
   "display_name": "Python 3",
   "language": "python",
   "name": "python3"
  },
  "language_info": {
   "codemirror_mode": {
    "name": "ipython",
    "version": 3
   },
   "file_extension": ".py",
   "mimetype": "text/x-python",
   "name": "python",
   "nbconvert_exporter": "python",
   "pygments_lexer": "ipython3",
   "version": "3.6.7"
  }
 },
 "nbformat": 4,
 "nbformat_minor": 2
}
