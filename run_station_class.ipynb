{
 "cells": [
  {
   "cell_type": "code",
   "execution_count": 137,
   "metadata": {},
   "outputs": [
    {
     "name": "stdout",
     "output_type": "stream",
     "text": [
      "The autoreload extension is already loaded. To reload it, use:\n",
      "  %reload_ext autoreload\n"
     ]
    },
    {
     "name": "stderr",
     "output_type": "stream",
     "text": [
      "/Users/djb326/.pyenv/versions/3.6.7/lib/python3.6/site-packages/pysal/__init__.py:65: VisibleDeprecationWarning: PySAL's API will be changed on 2018-12-31. The last release made with this API is version 1.14.4. A preview of the next API version is provided in the `pysal` 2.0 prelease candidate. The API changes and a guide on how to change imports is provided at https://pysal.org/about\n",
      "  ), VisibleDeprecationWarning)\n"
     ]
    }
   ],
   "source": [
    "import pandas as pd\n",
    "import numpy as np\n",
    "from station import Station\n",
    "import seaborn as sns\n",
    "import matplotlib.pyplot as plt\n",
    "%load_ext autoreload\n",
    "%autoreload\n",
    "import geopy.distance\n",
    "import descartes\n",
    "import geopandas as gpd\n",
    "from shapely.geometry import Point, Polygon\n",
    "import pysal"
   ]
  },
  {
   "cell_type": "code",
   "execution_count": 114,
   "metadata": {},
   "outputs": [],
   "source": [
    "# read in data files\n",
    "ride_df = pd.read_csv('data/CTA_-_Ridership_-__L__Station_Entries_-_Daily_Totals.csv')\n",
    "map_df = pd.read_csv('data/CTA_-_System_Information_-_List_of__L__Stops.csv')\n",
    "station_map_names = {'Lake':'Lake/State', 'Jackson':'Jackson/State',\n",
    "                     'Washington':'Washington/Dearborn'}\n",
    "map_df.replace({\"STATION_NAME\": station_map_names}, inplace=True)"
   ]
  },
  {
   "cell_type": "code",
   "execution_count": 115,
   "metadata": {
    "scrolled": true
   },
   "outputs": [],
   "source": [
    "station_list = ride_df.stationname.unique().tolist()\n",
    "sumlist = []\n",
    "for station in station_list:\n",
    "    stat = Station(station, ride_df, map_df)\n",
    "    sumlist.append(stat.summary)\n",
    "station_summary = pd.DataFrame(sumlist)    \n",
    "station_summary.to_csv('data/station_summary.csv')"
   ]
  },
  {
   "cell_type": "code",
   "execution_count": 116,
   "metadata": {},
   "outputs": [],
   "source": [
    "station_summary = pd.read_csv('data/station_summary.csv')\n",
    "to_remove = station_summary[station_summary['Sat_mean'] == 0].index[0]\n",
    "station_summary.drop([to_remove], inplace=True)\n",
    "\n",
    "station_summary['weekday-sat'] = station_summary['Weekday_mean'\n",
    "                                                ] - station_summary['Sat_mean']\n",
    "\n",
    "station_summary['weekday-sun'] = station_summary['Weekday_mean'\n",
    "                                                ] - station_summary['Sun/Hol_mean']"
   ]
  },
  {
   "cell_type": "code",
   "execution_count": 117,
   "metadata": {},
   "outputs": [],
   "source": [
    "high_stds = station_summary.sort_values(by='daily_std', ascending=False).iloc[0:10]\n",
    "high_stations = high_stds.station.tolist()\n",
    "high_stds.set_index('station', inplace=True)"
   ]
  },
  {
   "cell_type": "code",
   "execution_count": 118,
   "metadata": {},
   "outputs": [
    {
     "data": {
      "text/html": [
       "<div>\n",
       "<style scoped>\n",
       "    .dataframe tbody tr th:only-of-type {\n",
       "        vertical-align: middle;\n",
       "    }\n",
       "\n",
       "    .dataframe tbody tr th {\n",
       "        vertical-align: top;\n",
       "    }\n",
       "\n",
       "    .dataframe thead th {\n",
       "        text-align: right;\n",
       "    }\n",
       "</style>\n",
       "<table border=\"1\" class=\"dataframe\">\n",
       "  <thead>\n",
       "    <tr style=\"text-align: right;\">\n",
       "      <th></th>\n",
       "      <th>Unnamed: 0</th>\n",
       "      <th>5_yr_num_diff</th>\n",
       "      <th>5_yr_pct_diff</th>\n",
       "      <th>Sat_mean</th>\n",
       "      <th>Sat_std</th>\n",
       "      <th>Sun/Hol_mean</th>\n",
       "      <th>Sun/Hol_std</th>\n",
       "      <th>Weekday_mean</th>\n",
       "      <th>Weekday_std</th>\n",
       "      <th>daily_mean</th>\n",
       "      <th>daily_std</th>\n",
       "      <th>latitude</th>\n",
       "      <th>longitude</th>\n",
       "      <th>num_na</th>\n",
       "      <th>num_yrs_from_past_5</th>\n",
       "      <th>weekday-sat</th>\n",
       "      <th>weekday-sun</th>\n",
       "    </tr>\n",
       "    <tr>\n",
       "      <th>station</th>\n",
       "      <th></th>\n",
       "      <th></th>\n",
       "      <th></th>\n",
       "      <th></th>\n",
       "      <th></th>\n",
       "      <th></th>\n",
       "      <th></th>\n",
       "      <th></th>\n",
       "      <th></th>\n",
       "      <th></th>\n",
       "      <th></th>\n",
       "      <th></th>\n",
       "      <th></th>\n",
       "      <th></th>\n",
       "      <th></th>\n",
       "      <th></th>\n",
       "      <th></th>\n",
       "    </tr>\n",
       "  </thead>\n",
       "  <tbody>\n",
       "    <tr>\n",
       "      <th>Clark/Lake</th>\n",
       "      <td>133</td>\n",
       "      <td>328.064384</td>\n",
       "      <td>0.021431</td>\n",
       "      <td>5112.702970</td>\n",
       "      <td>1882.363586</td>\n",
       "      <td>3906.938976</td>\n",
       "      <td>1620.315830</td>\n",
       "      <td>17965.562822</td>\n",
       "      <td>2868.452479</td>\n",
       "      <td>13901.899061</td>\n",
       "      <td>6714.698839</td>\n",
       "      <td>41.885737</td>\n",
       "      <td>-87.630886</td>\n",
       "      <td>0</td>\n",
       "      <td>5</td>\n",
       "      <td>12852.859852</td>\n",
       "      <td>14058.623846</td>\n",
       "    </tr>\n",
       "    <tr>\n",
       "      <th>Lake/State</th>\n",
       "      <td>65</td>\n",
       "      <td>587.442466</td>\n",
       "      <td>0.037362</td>\n",
       "      <td>9571.792079</td>\n",
       "      <td>4048.143372</td>\n",
       "      <td>6495.524606</td>\n",
       "      <td>3079.711894</td>\n",
       "      <td>16201.980739</td>\n",
       "      <td>4412.254604</td>\n",
       "      <td>13715.501721</td>\n",
       "      <td>5700.114941</td>\n",
       "      <td>41.884809</td>\n",
       "      <td>-87.627813</td>\n",
       "      <td>0</td>\n",
       "      <td>5</td>\n",
       "      <td>6630.188660</td>\n",
       "      <td>9706.456133</td>\n",
       "    </tr>\n",
       "    <tr>\n",
       "      <th>Jackson/State</th>\n",
       "      <td>95</td>\n",
       "      <td>-172.326712</td>\n",
       "      <td>-0.018835</td>\n",
       "      <td>4637.107811</td>\n",
       "      <td>1676.940372</td>\n",
       "      <td>3270.569882</td>\n",
       "      <td>1944.973115</td>\n",
       "      <td>11034.135274</td>\n",
       "      <td>1996.195230</td>\n",
       "      <td>8889.740845</td>\n",
       "      <td>3820.036582</td>\n",
       "      <td>41.878183</td>\n",
       "      <td>-87.629296</td>\n",
       "      <td>0</td>\n",
       "      <td>5</td>\n",
       "      <td>6397.027464</td>\n",
       "      <td>7763.565392</td>\n",
       "    </tr>\n",
       "    <tr>\n",
       "      <th>Washington/State</th>\n",
       "      <td>131</td>\n",
       "      <td>NaN</td>\n",
       "      <td>NaN</td>\n",
       "      <td>2842.545238</td>\n",
       "      <td>2136.088634</td>\n",
       "      <td>1700.389362</td>\n",
       "      <td>1361.260569</td>\n",
       "      <td>5975.798352</td>\n",
       "      <td>3890.640503</td>\n",
       "      <td>4849.686421</td>\n",
       "      <td>3814.963167</td>\n",
       "      <td>41.883100</td>\n",
       "      <td>-87.628700</td>\n",
       "      <td>0</td>\n",
       "      <td>0</td>\n",
       "      <td>3133.253114</td>\n",
       "      <td>4275.408990</td>\n",
       "    </tr>\n",
       "    <tr>\n",
       "      <th>Addison-North Main</th>\n",
       "      <td>44</td>\n",
       "      <td>41.748630</td>\n",
       "      <td>0.006135</td>\n",
       "      <td>7619.935094</td>\n",
       "      <td>4394.887829</td>\n",
       "      <td>5958.964567</td>\n",
       "      <td>4014.788301</td>\n",
       "      <td>7601.236058</td>\n",
       "      <td>3333.569089</td>\n",
       "      <td>7342.777465</td>\n",
       "      <td>3665.011920</td>\n",
       "      <td>41.947200</td>\n",
       "      <td>-87.653600</td>\n",
       "      <td>0</td>\n",
       "      <td>5</td>\n",
       "      <td>-18.699035</td>\n",
       "      <td>1642.271491</td>\n",
       "    </tr>\n",
       "    <tr>\n",
       "      <th>95th/Dan Ryan</th>\n",
       "      <td>14</td>\n",
       "      <td>743.466121</td>\n",
       "      <td>0.143039</td>\n",
       "      <td>7363.202210</td>\n",
       "      <td>1368.760161</td>\n",
       "      <td>5505.200000</td>\n",
       "      <td>1109.301992</td>\n",
       "      <td>12508.819123</td>\n",
       "      <td>2479.628887</td>\n",
       "      <td>10664.410535</td>\n",
       "      <td>3593.754973</td>\n",
       "      <td>41.722377</td>\n",
       "      <td>-87.624342</td>\n",
       "      <td>90</td>\n",
       "      <td>5</td>\n",
       "      <td>5145.616913</td>\n",
       "      <td>7003.619123</td>\n",
       "    </tr>\n",
       "    <tr>\n",
       "      <th>Washington/Wabash</th>\n",
       "      <td>147</td>\n",
       "      <td>NaN</td>\n",
       "      <td>NaN</td>\n",
       "      <td>5029.937500</td>\n",
       "      <td>2173.264555</td>\n",
       "      <td>3396.346154</td>\n",
       "      <td>1603.318261</td>\n",
       "      <td>8916.081197</td>\n",
       "      <td>3035.752612</td>\n",
       "      <td>7498.233533</td>\n",
       "      <td>3525.173041</td>\n",
       "      <td>41.883220</td>\n",
       "      <td>-87.626189</td>\n",
       "      <td>0</td>\n",
       "      <td>1</td>\n",
       "      <td>3886.143697</td>\n",
       "      <td>5519.735043</td>\n",
       "    </tr>\n",
       "    <tr>\n",
       "      <th>Washington/Dearborn</th>\n",
       "      <td>107</td>\n",
       "      <td>511.546575</td>\n",
       "      <td>0.054365</td>\n",
       "      <td>4181.415842</td>\n",
       "      <td>1760.111601</td>\n",
       "      <td>2793.965551</td>\n",
       "      <td>1438.873526</td>\n",
       "      <td>9684.427548</td>\n",
       "      <td>1987.502040</td>\n",
       "      <td>7806.032081</td>\n",
       "      <td>3443.689554</td>\n",
       "      <td>41.883164</td>\n",
       "      <td>-87.629440</td>\n",
       "      <td>0</td>\n",
       "      <td>5</td>\n",
       "      <td>5503.011706</td>\n",
       "      <td>6890.461996</td>\n",
       "    </tr>\n",
       "    <tr>\n",
       "      <th>Fullerton</th>\n",
       "      <td>99</td>\n",
       "      <td>-331.433562</td>\n",
       "      <td>-0.028854</td>\n",
       "      <td>7938.625963</td>\n",
       "      <td>2069.989985</td>\n",
       "      <td>5639.638780</td>\n",
       "      <td>1808.081373</td>\n",
       "      <td>11795.118253</td>\n",
       "      <td>2600.911912</td>\n",
       "      <td>10267.807042</td>\n",
       "      <td>3415.141617</td>\n",
       "      <td>41.925051</td>\n",
       "      <td>-87.652866</td>\n",
       "      <td>0</td>\n",
       "      <td>5</td>\n",
       "      <td>3856.492290</td>\n",
       "      <td>6155.479474</td>\n",
       "    </tr>\n",
       "    <tr>\n",
       "      <th>Monroe/State</th>\n",
       "      <td>105</td>\n",
       "      <td>159.432192</td>\n",
       "      <td>0.019932</td>\n",
       "      <td>4113.778878</td>\n",
       "      <td>1417.526963</td>\n",
       "      <td>2689.555118</td>\n",
       "      <td>1279.947562</td>\n",
       "      <td>9062.312878</td>\n",
       "      <td>2029.735469</td>\n",
       "      <td>7345.107981</td>\n",
       "      <td>3227.602759</td>\n",
       "      <td>41.880700</td>\n",
       "      <td>-87.627700</td>\n",
       "      <td>0</td>\n",
       "      <td>5</td>\n",
       "      <td>4948.534000</td>\n",
       "      <td>6372.757760</td>\n",
       "    </tr>\n",
       "  </tbody>\n",
       "</table>\n",
       "</div>"
      ],
      "text/plain": [
       "                     Unnamed: 0  5_yr_num_diff  5_yr_pct_diff     Sat_mean  \\\n",
       "station                                                                      \n",
       "Clark/Lake                  133     328.064384       0.021431  5112.702970   \n",
       "Lake/State                   65     587.442466       0.037362  9571.792079   \n",
       "Jackson/State                95    -172.326712      -0.018835  4637.107811   \n",
       "Washington/State            131            NaN            NaN  2842.545238   \n",
       "Addison-North Main           44      41.748630       0.006135  7619.935094   \n",
       "95th/Dan Ryan                14     743.466121       0.143039  7363.202210   \n",
       "Washington/Wabash           147            NaN            NaN  5029.937500   \n",
       "Washington/Dearborn         107     511.546575       0.054365  4181.415842   \n",
       "Fullerton                    99    -331.433562      -0.028854  7938.625963   \n",
       "Monroe/State                105     159.432192       0.019932  4113.778878   \n",
       "\n",
       "                         Sat_std  Sun/Hol_mean  Sun/Hol_std  Weekday_mean  \\\n",
       "station                                                                     \n",
       "Clark/Lake           1882.363586   3906.938976  1620.315830  17965.562822   \n",
       "Lake/State           4048.143372   6495.524606  3079.711894  16201.980739   \n",
       "Jackson/State        1676.940372   3270.569882  1944.973115  11034.135274   \n",
       "Washington/State     2136.088634   1700.389362  1361.260569   5975.798352   \n",
       "Addison-North Main   4394.887829   5958.964567  4014.788301   7601.236058   \n",
       "95th/Dan Ryan        1368.760161   5505.200000  1109.301992  12508.819123   \n",
       "Washington/Wabash    2173.264555   3396.346154  1603.318261   8916.081197   \n",
       "Washington/Dearborn  1760.111601   2793.965551  1438.873526   9684.427548   \n",
       "Fullerton            2069.989985   5639.638780  1808.081373  11795.118253   \n",
       "Monroe/State         1417.526963   2689.555118  1279.947562   9062.312878   \n",
       "\n",
       "                     Weekday_std    daily_mean    daily_std   latitude  \\\n",
       "station                                                                  \n",
       "Clark/Lake           2868.452479  13901.899061  6714.698839  41.885737   \n",
       "Lake/State           4412.254604  13715.501721  5700.114941  41.884809   \n",
       "Jackson/State        1996.195230   8889.740845  3820.036582  41.878183   \n",
       "Washington/State     3890.640503   4849.686421  3814.963167  41.883100   \n",
       "Addison-North Main   3333.569089   7342.777465  3665.011920  41.947200   \n",
       "95th/Dan Ryan        2479.628887  10664.410535  3593.754973  41.722377   \n",
       "Washington/Wabash    3035.752612   7498.233533  3525.173041  41.883220   \n",
       "Washington/Dearborn  1987.502040   7806.032081  3443.689554  41.883164   \n",
       "Fullerton            2600.911912  10267.807042  3415.141617  41.925051   \n",
       "Monroe/State         2029.735469   7345.107981  3227.602759  41.880700   \n",
       "\n",
       "                     longitude  num_na  num_yrs_from_past_5   weekday-sat  \\\n",
       "station                                                                     \n",
       "Clark/Lake          -87.630886       0                    5  12852.859852   \n",
       "Lake/State          -87.627813       0                    5   6630.188660   \n",
       "Jackson/State       -87.629296       0                    5   6397.027464   \n",
       "Washington/State    -87.628700       0                    0   3133.253114   \n",
       "Addison-North Main  -87.653600       0                    5    -18.699035   \n",
       "95th/Dan Ryan       -87.624342      90                    5   5145.616913   \n",
       "Washington/Wabash   -87.626189       0                    1   3886.143697   \n",
       "Washington/Dearborn -87.629440       0                    5   5503.011706   \n",
       "Fullerton           -87.652866       0                    5   3856.492290   \n",
       "Monroe/State        -87.627700       0                    5   4948.534000   \n",
       "\n",
       "                      weekday-sun  \n",
       "station                            \n",
       "Clark/Lake           14058.623846  \n",
       "Lake/State            9706.456133  \n",
       "Jackson/State         7763.565392  \n",
       "Washington/State      4275.408990  \n",
       "Addison-North Main    1642.271491  \n",
       "95th/Dan Ryan         7003.619123  \n",
       "Washington/Wabash     5519.735043  \n",
       "Washington/Dearborn   6890.461996  \n",
       "Fullerton             6155.479474  \n",
       "Monroe/State          6372.757760  "
      ]
     },
     "execution_count": 118,
     "metadata": {},
     "output_type": "execute_result"
    }
   ],
   "source": [
    "high_stds"
   ]
  },
  {
   "cell_type": "code",
   "execution_count": 119,
   "metadata": {
    "scrolled": true
   },
   "outputs": [
    {
     "name": "stdout",
     "output_type": "stream",
     "text": [
      "hist_Clark_Lake_daytype.png\n",
      "hist_Lake_State_daytype.png\n",
      "hist_Jackson_State_daytype.png\n",
      "hist_Washington_State_daytype.png\n",
      "hist_Addison-North Main_daytype.png\n",
      "hist_95th_Dan Ryan_daytype.png\n",
      "hist_Washington_Wabash_daytype.png\n",
      "hist_Washington_Dearborn_daytype.png\n",
      "hist_Fullerton_daytype.png\n",
      "hist_Monroe_State_daytype.png\n"
     ]
    },
    {
     "data": {
      "text/plain": [
       "<Figure size 432x288 with 0 Axes>"
      ]
     },
     "metadata": {},
     "output_type": "display_data"
    },
    {
     "data": {
      "text/plain": [
       "<Figure size 432x288 with 0 Axes>"
      ]
     },
     "metadata": {},
     "output_type": "display_data"
    },
    {
     "data": {
      "text/plain": [
       "<Figure size 432x288 with 0 Axes>"
      ]
     },
     "metadata": {},
     "output_type": "display_data"
    },
    {
     "data": {
      "text/plain": [
       "<Figure size 432x288 with 0 Axes>"
      ]
     },
     "metadata": {},
     "output_type": "display_data"
    },
    {
     "data": {
      "text/plain": [
       "<Figure size 432x288 with 0 Axes>"
      ]
     },
     "metadata": {},
     "output_type": "display_data"
    },
    {
     "data": {
      "text/plain": [
       "<Figure size 432x288 with 0 Axes>"
      ]
     },
     "metadata": {},
     "output_type": "display_data"
    },
    {
     "data": {
      "text/plain": [
       "<Figure size 432x288 with 0 Axes>"
      ]
     },
     "metadata": {},
     "output_type": "display_data"
    },
    {
     "data": {
      "text/plain": [
       "<Figure size 432x288 with 0 Axes>"
      ]
     },
     "metadata": {},
     "output_type": "display_data"
    },
    {
     "data": {
      "text/plain": [
       "<Figure size 432x288 with 0 Axes>"
      ]
     },
     "metadata": {},
     "output_type": "display_data"
    },
    {
     "data": {
      "text/plain": [
       "<Figure size 432x288 with 0 Axes>"
      ]
     },
     "metadata": {},
     "output_type": "display_data"
    }
   ],
   "source": [
    "for stat in high_stations:\n",
    "    stat = Station(stat, ride_df, map_df)\n",
    "    stat.make_layered_hist('daytype')"
   ]
  },
  {
   "cell_type": "code",
   "execution_count": 120,
   "metadata": {},
   "outputs": [
    {
     "name": "stdout",
     "output_type": "stream",
     "text": [
      "hist_Clark_Lake_season.png\n",
      "hist_Lake_State_season.png\n",
      "hist_Jackson_State_season.png\n",
      "hist_Washington_State_season.png\n",
      "hist_Addison-North Main_season.png\n",
      "hist_95th_Dan Ryan_season.png\n",
      "hist_Washington_Wabash_season.png\n",
      "hist_Washington_Dearborn_season.png\n",
      "hist_Fullerton_season.png\n",
      "hist_Monroe_State_season.png\n"
     ]
    },
    {
     "data": {
      "text/plain": [
       "<Figure size 432x288 with 0 Axes>"
      ]
     },
     "metadata": {},
     "output_type": "display_data"
    },
    {
     "data": {
      "text/plain": [
       "<Figure size 432x288 with 0 Axes>"
      ]
     },
     "metadata": {},
     "output_type": "display_data"
    },
    {
     "data": {
      "text/plain": [
       "<Figure size 432x288 with 0 Axes>"
      ]
     },
     "metadata": {},
     "output_type": "display_data"
    },
    {
     "data": {
      "text/plain": [
       "<Figure size 432x288 with 0 Axes>"
      ]
     },
     "metadata": {},
     "output_type": "display_data"
    },
    {
     "data": {
      "text/plain": [
       "<Figure size 432x288 with 0 Axes>"
      ]
     },
     "metadata": {},
     "output_type": "display_data"
    },
    {
     "data": {
      "text/plain": [
       "<Figure size 432x288 with 0 Axes>"
      ]
     },
     "metadata": {},
     "output_type": "display_data"
    },
    {
     "data": {
      "text/plain": [
       "<Figure size 432x288 with 0 Axes>"
      ]
     },
     "metadata": {},
     "output_type": "display_data"
    },
    {
     "data": {
      "text/plain": [
       "<Figure size 432x288 with 0 Axes>"
      ]
     },
     "metadata": {},
     "output_type": "display_data"
    },
    {
     "data": {
      "text/plain": [
       "<Figure size 432x288 with 0 Axes>"
      ]
     },
     "metadata": {},
     "output_type": "display_data"
    },
    {
     "data": {
      "text/plain": [
       "<Figure size 432x288 with 0 Axes>"
      ]
     },
     "metadata": {},
     "output_type": "display_data"
    }
   ],
   "source": [
    "for stat in high_stations:\n",
    "    stat = Station(stat, ride_df, map_df)\n",
    "    stat.make_layered_hist('season')"
   ]
  },
  {
   "cell_type": "code",
   "execution_count": 121,
   "metadata": {},
   "outputs": [
    {
     "data": {
      "text/plain": [
       "<matplotlib.axes._subplots.AxesSubplot at 0x12574fa90>"
      ]
     },
     "execution_count": 121,
     "metadata": {},
     "output_type": "execute_result"
    },
    {
     "data": {
      "image/png": "[encoded data removed]",
      "text/plain": [
       "<Figure size 432x288 with 1 Axes>"
      ]
     },
     "metadata": {
      "needs_background": "light"
     },
     "output_type": "display_data"
    }
   ],
   "source": [
    "fig, ax = plt.subplots()\n",
    "sns.scatterplot(x=\"daily_std\", y=\"weekday-sat\", data=station_summary, ax=ax)\n",
    "sns.scatterplot(x=\"daily_std\", y=\"weekday-sat\", data=high_stds, color='red', ax=ax)"
   ]
  },
  {
   "cell_type": "code",
   "execution_count": 122,
   "metadata": {},
   "outputs": [
    {
     "data": {
      "text/plain": [
       "<matplotlib.axes._subplots.AxesSubplot at 0x122426d30>"
      ]
     },
     "execution_count": 122,
     "metadata": {},
     "output_type": "execute_result"
    },
    {
     "data": {
      "image/png": "[encoded data removed]",
      "text/plain": [
       "<Figure size 432x288 with 1 Axes>"
      ]
     },
     "metadata": {
      "needs_background": "light"
     },
     "output_type": "display_data"
    }
   ],
   "source": [
    "sns.distplot(station_summary['daily_std'])"
   ]
  },
  {
   "cell_type": "code",
   "execution_count": 123,
   "metadata": {},
   "outputs": [],
   "source": [
    "# create geodataframe from stations with highest STDs\n",
    "geometry = [Point(x,y) for x,y in zip(high_stds['longitude'], high_stds['latitude'])]\n",
    "crs = {'init':'epsg:4326'}\n",
    "geo_df = gpd.GeoDataFrame(index=high_stds.index, crs=crs, geometry=geometry)"
   ]
  },
  {
   "cell_type": "code",
   "execution_count": 124,
   "metadata": {},
   "outputs": [],
   "source": [
    "neigh_map = gpd.read_file(\n",
    "    'data/Boundaries - Community Areas/geo_export_c539fca7-2c77-4148-be09-2c656a4bc388.shp')\n",
    "# get representative coordinates from each neighborhood\n",
    "neigh_map['coords'] = neigh_map['geometry'].apply(\n",
    "    lambda x: x.representative_point().coords[:])\n",
    "neigh_map['coords'] = [coords[0] for coords in neigh_map['coords']]\n",
    "neigh_map.set_index('community', inplace=True)"
   ]
  },
  {
   "cell_type": "code",
   "execution_count": 125,
   "metadata": {},
   "outputs": [],
   "source": [
    "assign_dict = {key: geom for key, geom in neigh_map['geometry'].items()}\n",
    "assign_dict2 = {key: geo_df.within(geom) for key, geom in assign_dict.items()}\n",
    "# check which neighborhood each station falls in\n",
    "station_to_neigh = geo_df.assign(**assign_dict2)\n",
    "station_to_neigh = station_to_neigh.loc[:, (station_to_neigh != 0).any(axis=0)]"
   ]
  },
  {
   "cell_type": "code",
   "execution_count": 126,
   "metadata": {},
   "outputs": [],
   "source": [
    "ncols = ['LAKE VIEW', 'LOOP', 'ROSELAND', 'LINCOLN PARK']\n",
    "station_to_neigh['neighborhood'] = station_to_neigh[ncols].idxmax(axis=1)\n",
    "station_to_neigh.drop(columns=ncols, inplace=True)"
   ]
  },
  {
   "cell_type": "code",
   "execution_count": 127,
   "metadata": {},
   "outputs": [],
   "source": [
    "for item in station_to_neigh['neighborhood']:\n",
    "    inds = station_to_neigh.index[station_to_neigh['neighborhood']==item].tolist()\n",
    "    station_to_neigh.loc[inds,'polygon'] = neigh_map.loc[item, 'geometry']"
   ]
  },
  {
   "cell_type": "code",
   "execution_count": 128,
   "metadata": {},
   "outputs": [],
   "source": [
    "neigh_to_station = station_to_neigh.copy()\n",
    "neigh_to_station.rename(columns={'polygon':'geometry', 'geometry':'points'}, inplace=True)"
   ]
  },
  {
   "cell_type": "code",
   "execution_count": 129,
   "metadata": {},
   "outputs": [
    {
     "data": {
      "text/html": [
       "<div>\n",
       "<style scoped>\n",
       "    .dataframe tbody tr th:only-of-type {\n",
       "        vertical-align: middle;\n",
       "    }\n",
       "\n",
       "    .dataframe tbody tr th {\n",
       "        vertical-align: top;\n",
       "    }\n",
       "\n",
       "    .dataframe thead th {\n",
       "        text-align: right;\n",
       "    }\n",
       "</style>\n",
       "<table border=\"1\" class=\"dataframe\">\n",
       "  <thead>\n",
       "    <tr style=\"text-align: right;\">\n",
       "      <th></th>\n",
       "      <th>points</th>\n",
       "      <th>neighborhood</th>\n",
       "      <th>geometry</th>\n",
       "    </tr>\n",
       "    <tr>\n",
       "      <th>station</th>\n",
       "      <th></th>\n",
       "      <th></th>\n",
       "      <th></th>\n",
       "    </tr>\n",
       "  </thead>\n",
       "  <tbody>\n",
       "    <tr>\n",
       "      <th>Clark/Lake</th>\n",
       "      <td>POINT (-87.630886 41.885737)</td>\n",
       "      <td>LOOP</td>\n",
       "      <td>POLYGON ((-87.6094858028664 41.88939911002587,...</td>\n",
       "    </tr>\n",
       "    <tr>\n",
       "      <th>Lake/State</th>\n",
       "      <td>POINT (-87.627813 41.884809)</td>\n",
       "      <td>LOOP</td>\n",
       "      <td>POLYGON ((-87.6094858028664 41.88939911002587,...</td>\n",
       "    </tr>\n",
       "    <tr>\n",
       "      <th>Jackson/State</th>\n",
       "      <td>POINT (-87.629296 41.878183)</td>\n",
       "      <td>LOOP</td>\n",
       "      <td>POLYGON ((-87.6094858028664 41.88939911002587,...</td>\n",
       "    </tr>\n",
       "    <tr>\n",
       "      <th>Washington/State</th>\n",
       "      <td>POINT (-87.62869999999999 41.8831)</td>\n",
       "      <td>LOOP</td>\n",
       "      <td>POLYGON ((-87.6094858028664 41.88939911002587,...</td>\n",
       "    </tr>\n",
       "    <tr>\n",
       "      <th>Addison-North Main</th>\n",
       "      <td>POINT (-87.6536 41.9472)</td>\n",
       "      <td>LAKE VIEW</td>\n",
       "      <td>POLYGON ((-87.64102430213292 41.95480280553257...</td>\n",
       "    </tr>\n",
       "    <tr>\n",
       "      <th>95th/Dan Ryan</th>\n",
       "      <td>POINT (-87.624342 41.722377)</td>\n",
       "      <td>ROSELAND</td>\n",
       "      <td>POLYGON ((-87.60449169338277 41.72254809361332...</td>\n",
       "    </tr>\n",
       "    <tr>\n",
       "      <th>Washington/Wabash</th>\n",
       "      <td>POINT (-87.626189 41.88322)</td>\n",
       "      <td>LOOP</td>\n",
       "      <td>POLYGON ((-87.6094858028664 41.88939911002587,...</td>\n",
       "    </tr>\n",
       "    <tr>\n",
       "      <th>Washington/Dearborn</th>\n",
       "      <td>POINT (-87.62944 41.883164)</td>\n",
       "      <td>LOOP</td>\n",
       "      <td>POLYGON ((-87.6094858028664 41.88939911002587,...</td>\n",
       "    </tr>\n",
       "    <tr>\n",
       "      <th>Fullerton</th>\n",
       "      <td>POINT (-87.652866 41.925051)</td>\n",
       "      <td>LINCOLN PARK</td>\n",
       "      <td>POLYGON ((-87.63181810269614 41.93258180263376...</td>\n",
       "    </tr>\n",
       "    <tr>\n",
       "      <th>Monroe/State</th>\n",
       "      <td>POINT (-87.6277 41.8807)</td>\n",
       "      <td>LOOP</td>\n",
       "      <td>POLYGON ((-87.6094858028664 41.88939911002587,...</td>\n",
       "    </tr>\n",
       "  </tbody>\n",
       "</table>\n",
       "</div>"
      ],
      "text/plain": [
       "                                                 points  neighborhood  \\\n",
       "station                                                                 \n",
       "Clark/Lake                 POINT (-87.630886 41.885737)          LOOP   \n",
       "Lake/State                 POINT (-87.627813 41.884809)          LOOP   \n",
       "Jackson/State              POINT (-87.629296 41.878183)          LOOP   \n",
       "Washington/State     POINT (-87.62869999999999 41.8831)          LOOP   \n",
       "Addison-North Main             POINT (-87.6536 41.9472)     LAKE VIEW   \n",
       "95th/Dan Ryan              POINT (-87.624342 41.722377)      ROSELAND   \n",
       "Washington/Wabash           POINT (-87.626189 41.88322)          LOOP   \n",
       "Washington/Dearborn         POINT (-87.62944 41.883164)          LOOP   \n",
       "Fullerton                  POINT (-87.652866 41.925051)  LINCOLN PARK   \n",
       "Monroe/State                   POINT (-87.6277 41.8807)          LOOP   \n",
       "\n",
       "                                                              geometry  \n",
       "station                                                                 \n",
       "Clark/Lake           POLYGON ((-87.6094858028664 41.88939911002587,...  \n",
       "Lake/State           POLYGON ((-87.6094858028664 41.88939911002587,...  \n",
       "Jackson/State        POLYGON ((-87.6094858028664 41.88939911002587,...  \n",
       "Washington/State     POLYGON ((-87.6094858028664 41.88939911002587,...  \n",
       "Addison-North Main   POLYGON ((-87.64102430213292 41.95480280553257...  \n",
       "95th/Dan Ryan        POLYGON ((-87.60449169338277 41.72254809361332...  \n",
       "Washington/Wabash    POLYGON ((-87.6094858028664 41.88939911002587,...  \n",
       "Washington/Dearborn  POLYGON ((-87.6094858028664 41.88939911002587,...  \n",
       "Fullerton            POLYGON ((-87.63181810269614 41.93258180263376...  \n",
       "Monroe/State         POLYGON ((-87.6094858028664 41.88939911002587,...  "
      ]
     },
     "execution_count": 129,
     "metadata": {},
     "output_type": "execute_result"
    }
   ],
   "source": [
    "neigh_to_station"
   ]
  },
  {
   "cell_type": "code",
   "execution_count": 130,
   "metadata": {},
   "outputs": [],
   "source": [
    "x = neigh_to_station.representative_point().apply(lambda p: p.x)\n",
    "y = neigh_to_station.representative_point().apply(lambda p: p.y)\n",
    "neigh_to_station['xy']= [(x,y) for x,y in zip(x, y)]"
   ]
  },
  {
   "cell_type": "code",
   "execution_count": 131,
   "metadata": {},
   "outputs": [],
   "source": [
    "for neigh in neigh_to_station['neighborhood']:\n",
    "    num = len(neigh_to_station[neigh_to_station['neighborhood']==neigh])\n",
    "    locs = neigh_to_station[neigh_to_station['neighborhood']==neigh].index\n",
    "    neigh_to_station.loc[locs, 'freq']=num"
   ]
  },
  {
   "cell_type": "code",
   "execution_count": 132,
   "metadata": {},
   "outputs": [
    {
     "data": {
      "text/html": [
       "<div>\n",
       "<style scoped>\n",
       "    .dataframe tbody tr th:only-of-type {\n",
       "        vertical-align: middle;\n",
       "    }\n",
       "\n",
       "    .dataframe tbody tr th {\n",
       "        vertical-align: top;\n",
       "    }\n",
       "\n",
       "    .dataframe thead th {\n",
       "        text-align: right;\n",
       "    }\n",
       "</style>\n",
       "<table border=\"1\" class=\"dataframe\">\n",
       "  <thead>\n",
       "    <tr style=\"text-align: right;\">\n",
       "      <th></th>\n",
       "      <th>points</th>\n",
       "      <th>neighborhood</th>\n",
       "      <th>geometry</th>\n",
       "      <th>xy</th>\n",
       "      <th>freq</th>\n",
       "    </tr>\n",
       "    <tr>\n",
       "      <th>station</th>\n",
       "      <th></th>\n",
       "      <th></th>\n",
       "      <th></th>\n",
       "      <th></th>\n",
       "      <th></th>\n",
       "    </tr>\n",
       "  </thead>\n",
       "  <tbody>\n",
       "    <tr>\n",
       "      <th>Clark/Lake</th>\n",
       "      <td>POINT (-87.630886 41.885737)</td>\n",
       "      <td>LOOP</td>\n",
       "      <td>POLYGON ((-87.6094858028664 41.88939911002587,...</td>\n",
       "      <td>(-87.62719987378128, 41.87893750836032)</td>\n",
       "      <td>7.0</td>\n",
       "    </tr>\n",
       "    <tr>\n",
       "      <th>Lake/State</th>\n",
       "      <td>POINT (-87.627813 41.884809)</td>\n",
       "      <td>LOOP</td>\n",
       "      <td>POLYGON ((-87.6094858028664 41.88939911002587,...</td>\n",
       "      <td>(-87.62719987378128, 41.87893750836032)</td>\n",
       "      <td>7.0</td>\n",
       "    </tr>\n",
       "    <tr>\n",
       "      <th>Jackson/State</th>\n",
       "      <td>POINT (-87.629296 41.878183)</td>\n",
       "      <td>LOOP</td>\n",
       "      <td>POLYGON ((-87.6094858028664 41.88939911002587,...</td>\n",
       "      <td>(-87.62719987378128, 41.87893750836032)</td>\n",
       "      <td>7.0</td>\n",
       "    </tr>\n",
       "    <tr>\n",
       "      <th>Washington/State</th>\n",
       "      <td>POINT (-87.62869999999999 41.8831)</td>\n",
       "      <td>LOOP</td>\n",
       "      <td>POLYGON ((-87.6094858028664 41.88939911002587,...</td>\n",
       "      <td>(-87.62719987378128, 41.87893750836032)</td>\n",
       "      <td>7.0</td>\n",
       "    </tr>\n",
       "    <tr>\n",
       "      <th>Addison-North Main</th>\n",
       "      <td>POINT (-87.6536 41.9472)</td>\n",
       "      <td>LAKE VIEW</td>\n",
       "      <td>POLYGON ((-87.64102430213292 41.95480280553257...</td>\n",
       "      <td>(-87.65749328485359, 41.946986526380655)</td>\n",
       "      <td>1.0</td>\n",
       "    </tr>\n",
       "    <tr>\n",
       "      <th>95th/Dan Ryan</th>\n",
       "      <td>POINT (-87.624342 41.722377)</td>\n",
       "      <td>ROSELAND</td>\n",
       "      <td>POLYGON ((-87.60449169338277 41.72254809361332...</td>\n",
       "      <td>(-87.619381152943, 41.71200868531206)</td>\n",
       "      <td>1.0</td>\n",
       "    </tr>\n",
       "    <tr>\n",
       "      <th>Washington/Wabash</th>\n",
       "      <td>POINT (-87.626189 41.88322)</td>\n",
       "      <td>LOOP</td>\n",
       "      <td>POLYGON ((-87.6094858028664 41.88939911002587,...</td>\n",
       "      <td>(-87.62719987378128, 41.87893750836032)</td>\n",
       "      <td>7.0</td>\n",
       "    </tr>\n",
       "    <tr>\n",
       "      <th>Washington/Dearborn</th>\n",
       "      <td>POINT (-87.62944 41.883164)</td>\n",
       "      <td>LOOP</td>\n",
       "      <td>POLYGON ((-87.6094858028664 41.88939911002587,...</td>\n",
       "      <td>(-87.62719987378128, 41.87893750836032)</td>\n",
       "      <td>7.0</td>\n",
       "    </tr>\n",
       "    <tr>\n",
       "      <th>Fullerton</th>\n",
       "      <td>POINT (-87.652866 41.925051)</td>\n",
       "      <td>LINCOLN PARK</td>\n",
       "      <td>POLYGON ((-87.63181810269614 41.93258180263376...</td>\n",
       "      <td>(-87.64859836526865, 41.921920196932106)</td>\n",
       "      <td>1.0</td>\n",
       "    </tr>\n",
       "    <tr>\n",
       "      <th>Monroe/State</th>\n",
       "      <td>POINT (-87.6277 41.8807)</td>\n",
       "      <td>LOOP</td>\n",
       "      <td>POLYGON ((-87.6094858028664 41.88939911002587,...</td>\n",
       "      <td>(-87.62719987378128, 41.87893750836032)</td>\n",
       "      <td>7.0</td>\n",
       "    </tr>\n",
       "  </tbody>\n",
       "</table>\n",
       "</div>"
      ],
      "text/plain": [
       "                                                 points  neighborhood  \\\n",
       "station                                                                 \n",
       "Clark/Lake                 POINT (-87.630886 41.885737)          LOOP   \n",
       "Lake/State                 POINT (-87.627813 41.884809)          LOOP   \n",
       "Jackson/State              POINT (-87.629296 41.878183)          LOOP   \n",
       "Washington/State     POINT (-87.62869999999999 41.8831)          LOOP   \n",
       "Addison-North Main             POINT (-87.6536 41.9472)     LAKE VIEW   \n",
       "95th/Dan Ryan              POINT (-87.624342 41.722377)      ROSELAND   \n",
       "Washington/Wabash           POINT (-87.626189 41.88322)          LOOP   \n",
       "Washington/Dearborn         POINT (-87.62944 41.883164)          LOOP   \n",
       "Fullerton                  POINT (-87.652866 41.925051)  LINCOLN PARK   \n",
       "Monroe/State                   POINT (-87.6277 41.8807)          LOOP   \n",
       "\n",
       "                                                              geometry  \\\n",
       "station                                                                  \n",
       "Clark/Lake           POLYGON ((-87.6094858028664 41.88939911002587,...   \n",
       "Lake/State           POLYGON ((-87.6094858028664 41.88939911002587,...   \n",
       "Jackson/State        POLYGON ((-87.6094858028664 41.88939911002587,...   \n",
       "Washington/State     POLYGON ((-87.6094858028664 41.88939911002587,...   \n",
       "Addison-North Main   POLYGON ((-87.64102430213292 41.95480280553257...   \n",
       "95th/Dan Ryan        POLYGON ((-87.60449169338277 41.72254809361332...   \n",
       "Washington/Wabash    POLYGON ((-87.6094858028664 41.88939911002587,...   \n",
       "Washington/Dearborn  POLYGON ((-87.6094858028664 41.88939911002587,...   \n",
       "Fullerton            POLYGON ((-87.63181810269614 41.93258180263376...   \n",
       "Monroe/State         POLYGON ((-87.6094858028664 41.88939911002587,...   \n",
       "\n",
       "                                                           xy  freq  \n",
       "station                                                              \n",
       "Clark/Lake            (-87.62719987378128, 41.87893750836032)   7.0  \n",
       "Lake/State            (-87.62719987378128, 41.87893750836032)   7.0  \n",
       "Jackson/State         (-87.62719987378128, 41.87893750836032)   7.0  \n",
       "Washington/State      (-87.62719987378128, 41.87893750836032)   7.0  \n",
       "Addison-North Main   (-87.65749328485359, 41.946986526380655)   1.0  \n",
       "95th/Dan Ryan           (-87.619381152943, 41.71200868531206)   1.0  \n",
       "Washington/Wabash     (-87.62719987378128, 41.87893750836032)   7.0  \n",
       "Washington/Dearborn   (-87.62719987378128, 41.87893750836032)   7.0  \n",
       "Fullerton            (-87.64859836526865, 41.921920196932106)   1.0  \n",
       "Monroe/State          (-87.62719987378128, 41.87893750836032)   7.0  "
      ]
     },
     "execution_count": 132,
     "metadata": {},
     "output_type": "execute_result"
    }
   ],
   "source": [
    "neigh_to_station"
   ]
  },
  {
   "cell_type": "code",
   "execution_count": 133,
   "metadata": {},
   "outputs": [],
   "source": [
    "neighs_only = neigh_to_station.drop_duplicates(subset='neighborhood')"
   ]
  },
  {
   "cell_type": "code",
   "execution_count": 180,
   "metadata": {},
   "outputs": [
    {
     "data": {
      "image/png": "[encoded data removed]",
      "text/plain": [
       "<Figure size 1080x1080 with 1 Axes>"
      ]
     },
     "metadata": {
      "needs_background": "light"
     },
     "output_type": "display_data"
    }
   ],
   "source": [
    "fig, ax = plt.subplots(figsize=(15,15))\n",
    "neigh_map.plot(ax=ax,alpha=.7, color='grey')\n",
    "neigh_to_station.plot(ax=ax, cmap='tab20b', column='freq')\n",
    "\n",
    "for n, xy in zip(neighs_only['neighborhood'].tolist(), neighs_only['xy'].tolist()):\n",
    "    ax.annotate(n,  xy=xy, horizontalalignment='right', verticalalignment='top',\n",
    "                color='white', fontsize=16)\n",
    "station_to_neigh.plot(ax=ax, color='cyan', marker='o', alpha=.8, markersize=50)\n",
    "ax.set_xlabel('Longitude', fontsize=20)\n",
    "ax.set_ylabel('Latitude', fontsize=20)\n",
    "ax.set_xticklabels(ax.get_xticklabels(),fontsize=16)\n",
    "ax.set_yticklabels(ax.get_yticklabels(),fontsize=16)\n",
    "plt.title('Map of CTA Stations with Highest Daily Ridership STD', fontsize=24)\n",
    "plt.savefig('figs/map_high_daily_stds.png')"
   ]
  },
  {
   "cell_type": "code",
   "execution_count": null,
   "metadata": {},
   "outputs": [],
   "source": []
  }
 ],
 "metadata": {
  "kernelspec": {
   "display_name": "Python 3",
   "language": "python",
   "name": "python3"
  },
  "language_info": {
   "codemirror_mode": {
    "name": "ipython",
    "version": 3
   },
   "file_extension": ".py",
   "mimetype": "text/x-python",
   "name": "python",
   "nbconvert_exporter": "python",
   "pygments_lexer": "ipython3",
   "version": "3.6.7"
  }
 },
 "nbformat": 4,
 "nbformat_minor": 2
}
