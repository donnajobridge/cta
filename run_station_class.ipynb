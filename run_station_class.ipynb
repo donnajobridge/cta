{
 "cells": [
  {
   "cell_type": "code",
   "execution_count": 1,
   "metadata": {},
   "outputs": [
    {
     "name": "stderr",
     "output_type": "stream",
     "text": [
      "/Users/djb326/.pyenv/versions/3.6.7/lib/python3.6/site-packages/pysal/__init__.py:65: VisibleDeprecationWarning: PySAL's API will be changed on 2018-12-31. The last release made with this API is version 1.14.4. A preview of the next API version is provided in the `pysal` 2.0 prelease candidate. The API changes and a guide on how to change imports is provided at https://pysal.org/about\n",
      "  ), VisibleDeprecationWarning)\n"
     ]
    }
   ],
   "source": [
    "import pandas as pd\n",
    "import numpy as np\n",
    "from station import Station\n",
    "import seaborn as sns\n",
    "import matplotlib.pyplot as plt\n",
    "%load_ext autoreload\n",
    "%autoreload\n",
    "import geopy.distance\n",
    "import descartes\n",
    "import geopandas as gpd\n",
    "from shapely.geometry import Point, Polygon\n",
    "import pysal\n",
    "import mpld3"
   ]
  },
  {
   "cell_type": "code",
   "execution_count": 2,
   "metadata": {},
   "outputs": [],
   "source": [
    "# read in data files\n",
    "ride_df = pd.read_csv('data/CTA_-_Ridership_-__L__Station_Entries_-_Daily_Totals.csv')\n",
    "map_df = pd.read_csv('data/CTA_-_System_Information_-_List_of__L__Stops.csv')\n",
    "station_map_names = {'Lake':'Lake/State', 'Jackson':'Jackson/State',\n",
    "                     'Washington':'Washington/Dearborn'}\n",
    "map_df.replace({\"STATION_NAME\": station_map_names}, inplace=True)"
   ]
  },
  {
   "cell_type": "code",
   "execution_count": 3,
   "metadata": {
    "scrolled": true
   },
   "outputs": [
    {
     "name": "stderr",
     "output_type": "stream",
     "text": [
      "INFO:fbprophet:Disabling daily seasonality. Run prophet with daily_seasonality=True to override this.\n",
      "INFO:fbprophet:Disabling daily seasonality. Run prophet with daily_seasonality=True to override this.\n"
     ]
    },
    {
     "name": "stdout",
     "output_type": "stream",
     "text": [
      "UIC-Halsted\n",
      "1\n"
     ]
    },
    {
     "name": "stderr",
     "output_type": "stream",
     "text": [
      "INFO:fbprophet:Disabling daily seasonality. Run prophet with daily_seasonality=True to override this.\n"
     ]
    },
    {
     "name": "stdout",
     "output_type": "stream",
     "text": [
      "Halsted-Orange\n",
      "2\n"
     ]
    },
    {
     "name": "stderr",
     "output_type": "stream",
     "text": [
      "INFO:fbprophet:Disabling daily seasonality. Run prophet with daily_seasonality=True to override this.\n"
     ]
    },
    {
     "name": "stdout",
     "output_type": "stream",
     "text": [
      "Granville\n",
      "3\n"
     ]
    },
    {
     "name": "stderr",
     "output_type": "stream",
     "text": [
      "INFO:fbprophet:Disabling daily seasonality. Run prophet with daily_seasonality=True to override this.\n"
     ]
    },
    {
     "name": "stdout",
     "output_type": "stream",
     "text": [
      "Jackson/Dearborn\n",
      "4\n"
     ]
    },
    {
     "name": "stderr",
     "output_type": "stream",
     "text": [
      "INFO:fbprophet:Disabling daily seasonality. Run prophet with daily_seasonality=True to override this.\n"
     ]
    },
    {
     "name": "stdout",
     "output_type": "stream",
     "text": [
      "Damen-Brown\n",
      "5\n"
     ]
    },
    {
     "name": "stderr",
     "output_type": "stream",
     "text": [
      "INFO:fbprophet:Disabling daily seasonality. Run prophet with daily_seasonality=True to override this.\n"
     ]
    },
    {
     "name": "stdout",
     "output_type": "stream",
     "text": [
      "Damen/Milwaukee\n",
      "6\n"
     ]
    },
    {
     "name": "stderr",
     "output_type": "stream",
     "text": [
      "INFO:fbprophet:Disabling daily seasonality. Run prophet with daily_seasonality=True to override this.\n"
     ]
    },
    {
     "name": "stdout",
     "output_type": "stream",
     "text": [
      "East 63rd-Cottage Grove\n",
      "7\n"
     ]
    },
    {
     "name": "stderr",
     "output_type": "stream",
     "text": [
      "INFO:fbprophet:Disabling daily seasonality. Run prophet with daily_seasonality=True to override this.\n"
     ]
    },
    {
     "name": "stdout",
     "output_type": "stream",
     "text": [
      "Austin-Lake\n",
      "8\n"
     ]
    },
    {
     "name": "stderr",
     "output_type": "stream",
     "text": [
      "INFO:fbprophet:Disabling daily seasonality. Run prophet with daily_seasonality=True to override this.\n"
     ]
    },
    {
     "name": "stdout",
     "output_type": "stream",
     "text": [
      "Cumberland\n",
      "9\n"
     ]
    },
    {
     "name": "stderr",
     "output_type": "stream",
     "text": [
      "INFO:fbprophet:Disabling daily seasonality. Run prophet with daily_seasonality=True to override this.\n"
     ]
    },
    {
     "name": "stdout",
     "output_type": "stream",
     "text": [
      "35-Bronzeville-IIT\n",
      "10\n"
     ]
    },
    {
     "name": "stderr",
     "output_type": "stream",
     "text": [
      "INFO:fbprophet:Disabling daily seasonality. Run prophet with daily_seasonality=True to override this.\n"
     ]
    },
    {
     "name": "stdout",
     "output_type": "stream",
     "text": [
      "Medical Center\n",
      "11\n"
     ]
    },
    {
     "name": "stderr",
     "output_type": "stream",
     "text": [
      "INFO:fbprophet:Disabling daily seasonality. Run prophet with daily_seasonality=True to override this.\n"
     ]
    },
    {
     "name": "stdout",
     "output_type": "stream",
     "text": [
      "Grand/State\n",
      "12\n"
     ]
    },
    {
     "name": "stderr",
     "output_type": "stream",
     "text": [
      "INFO:fbprophet:Disabling daily seasonality. Run prophet with daily_seasonality=True to override this.\n"
     ]
    },
    {
     "name": "stdout",
     "output_type": "stream",
     "text": [
      "Linden\n",
      "13\n",
      "Skokie\n",
      "14\n"
     ]
    },
    {
     "name": "stderr",
     "output_type": "stream",
     "text": [
      "INFO:fbprophet:Disabling daily seasonality. Run prophet with daily_seasonality=True to override this.\n"
     ]
    },
    {
     "name": "stdout",
     "output_type": "stream",
     "text": [
      "95th/Dan Ryan\n",
      "15\n"
     ]
    },
    {
     "name": "stderr",
     "output_type": "stream",
     "text": [
      "INFO:fbprophet:Disabling daily seasonality. Run prophet with daily_seasonality=True to override this.\n"
     ]
    },
    {
     "name": "stdout",
     "output_type": "stream",
     "text": [
      "Noyes\n",
      "16\n"
     ]
    },
    {
     "name": "stderr",
     "output_type": "stream",
     "text": [
      "INFO:fbprophet:Disabling daily seasonality. Run prophet with daily_seasonality=True to override this.\n"
     ]
    },
    {
     "name": "stdout",
     "output_type": "stream",
     "text": [
      "Pulaski-Cermak\n",
      "17\n"
     ]
    },
    {
     "name": "stderr",
     "output_type": "stream",
     "text": [
      "INFO:fbprophet:Disabling daily seasonality. Run prophet with daily_seasonality=True to override this.\n"
     ]
    },
    {
     "name": "stdout",
     "output_type": "stream",
     "text": [
      "Dempster\n",
      "18\n"
     ]
    },
    {
     "name": "stderr",
     "output_type": "stream",
     "text": [
      "INFO:fbprophet:Disabling daily seasonality. Run prophet with daily_seasonality=True to override this.\n"
     ]
    },
    {
     "name": "stdout",
     "output_type": "stream",
     "text": [
      "Merchandise Mart\n",
      "19\n"
     ]
    },
    {
     "name": "stderr",
     "output_type": "stream",
     "text": [
      "INFO:fbprophet:Disabling daily seasonality. Run prophet with daily_seasonality=True to override this.\n"
     ]
    },
    {
     "name": "stdout",
     "output_type": "stream",
     "text": [
      "South Boulevard\n",
      "20\n"
     ]
    },
    {
     "name": "stderr",
     "output_type": "stream",
     "text": [
      "INFO:fbprophet:Disabling daily seasonality. Run prophet with daily_seasonality=True to override this.\n"
     ]
    },
    {
     "name": "stdout",
     "output_type": "stream",
     "text": [
      "Jefferson Park\n",
      "21\n"
     ]
    },
    {
     "name": "stderr",
     "output_type": "stream",
     "text": [
      "INFO:fbprophet:Disabling daily seasonality. Run prophet with daily_seasonality=True to override this.\n"
     ]
    },
    {
     "name": "stdout",
     "output_type": "stream",
     "text": [
      "51st\n",
      "22\n"
     ]
    },
    {
     "name": "stderr",
     "output_type": "stream",
     "text": [
      "INFO:fbprophet:Disabling daily seasonality. Run prophet with daily_seasonality=True to override this.\n"
     ]
    },
    {
     "name": "stdout",
     "output_type": "stream",
     "text": [
      "Francisco\n",
      "23\n"
     ]
    },
    {
     "name": "stderr",
     "output_type": "stream",
     "text": [
      "INFO:fbprophet:Disabling daily seasonality. Run prophet with daily_seasonality=True to override this.\n"
     ]
    },
    {
     "name": "stdout",
     "output_type": "stream",
     "text": [
      "Chicago/Franklin\n",
      "24\n"
     ]
    },
    {
     "name": "stderr",
     "output_type": "stream",
     "text": [
      "INFO:fbprophet:Disabling daily seasonality. Run prophet with daily_seasonality=True to override this.\n"
     ]
    },
    {
     "name": "stdout",
     "output_type": "stream",
     "text": [
      "Western-Cermak\n",
      "25\n"
     ]
    },
    {
     "name": "stderr",
     "output_type": "stream",
     "text": [
      "INFO:fbprophet:Disabling daily seasonality. Run prophet with daily_seasonality=True to override this.\n"
     ]
    },
    {
     "name": "stdout",
     "output_type": "stream",
     "text": [
      "Irving Park-O'Hare\n",
      "26\n"
     ]
    },
    {
     "name": "stderr",
     "output_type": "stream",
     "text": [
      "INFO:fbprophet:Disabling daily seasonality. Run prophet with daily_seasonality=True to override this.\n"
     ]
    },
    {
     "name": "stdout",
     "output_type": "stream",
     "text": [
      "Montrose-Brown\n",
      "27\n"
     ]
    },
    {
     "name": "stderr",
     "output_type": "stream",
     "text": [
      "INFO:fbprophet:Disabling daily seasonality. Run prophet with daily_seasonality=True to override this.\n"
     ]
    },
    {
     "name": "stdout",
     "output_type": "stream",
     "text": [
      "Kedzie-Cermak\n",
      "28\n"
     ]
    },
    {
     "name": "stderr",
     "output_type": "stream",
     "text": [
      "INFO:fbprophet:Disabling daily seasonality. Run prophet with daily_seasonality=True to override this.\n"
     ]
    },
    {
     "name": "stdout",
     "output_type": "stream",
     "text": [
      "Chicago/State\n",
      "29\n"
     ]
    },
    {
     "name": "stderr",
     "output_type": "stream",
     "text": [
      "INFO:fbprophet:Disabling daily seasonality. Run prophet with daily_seasonality=True to override this.\n"
     ]
    },
    {
     "name": "stdout",
     "output_type": "stream",
     "text": [
      "47th-South Elevated\n",
      "30\n"
     ]
    },
    {
     "name": "stderr",
     "output_type": "stream",
     "text": [
      "INFO:fbprophet:Disabling daily seasonality. Run prophet with daily_seasonality=True to override this.\n"
     ]
    },
    {
     "name": "stdout",
     "output_type": "stream",
     "text": [
      "Howard\n",
      "31\n"
     ]
    },
    {
     "name": "stderr",
     "output_type": "stream",
     "text": [
      "INFO:fbprophet:Disabling daily seasonality. Run prophet with daily_seasonality=True to override this.\n"
     ]
    },
    {
     "name": "stdout",
     "output_type": "stream",
     "text": [
      "Berwyn\n",
      "32\n"
     ]
    },
    {
     "name": "stderr",
     "output_type": "stream",
     "text": [
      "INFO:fbprophet:Disabling daily seasonality. Run prophet with daily_seasonality=True to override this.\n"
     ]
    },
    {
     "name": "stdout",
     "output_type": "stream",
     "text": [
      "Garfield-South Elevated\n",
      "33\n"
     ]
    },
    {
     "name": "stderr",
     "output_type": "stream",
     "text": [
      "INFO:fbprophet:Disabling daily seasonality. Run prophet with daily_seasonality=True to override this.\n"
     ]
    },
    {
     "name": "stdout",
     "output_type": "stream",
     "text": [
      "Adams/Wabash\n",
      "34\n"
     ]
    },
    {
     "name": "stderr",
     "output_type": "stream",
     "text": [
      "INFO:fbprophet:Disabling daily seasonality. Run prophet with daily_seasonality=True to override this.\n"
     ]
    },
    {
     "name": "stdout",
     "output_type": "stream",
     "text": [
      "Lawrence\n",
      "35\n"
     ]
    },
    {
     "name": "stderr",
     "output_type": "stream",
     "text": [
      "INFO:fbprophet:Disabling daily seasonality. Run prophet with daily_seasonality=True to override this.\n"
     ]
    },
    {
     "name": "stdout",
     "output_type": "stream",
     "text": [
      "Davis\n",
      "36\n"
     ]
    },
    {
     "name": "stderr",
     "output_type": "stream",
     "text": [
      "INFO:fbprophet:Disabling daily seasonality. Run prophet with daily_seasonality=True to override this.\n"
     ]
    },
    {
     "name": "stdout",
     "output_type": "stream",
     "text": [
      "Ridgeland\n",
      "37\n"
     ]
    },
    {
     "name": "stderr",
     "output_type": "stream",
     "text": [
      "INFO:fbprophet:Disabling daily seasonality. Run prophet with daily_seasonality=True to override this.\n"
     ]
    },
    {
     "name": "stdout",
     "output_type": "stream",
     "text": [
      "Foster\n",
      "38\n"
     ]
    },
    {
     "name": "stderr",
     "output_type": "stream",
     "text": [
      "INFO:fbprophet:Disabling daily seasonality. Run prophet with daily_seasonality=True to override this.\n"
     ]
    },
    {
     "name": "stdout",
     "output_type": "stream",
     "text": [
      "43rd\n",
      "39\n"
     ]
    },
    {
     "name": "stderr",
     "output_type": "stream",
     "text": [
      "INFO:fbprophet:Disabling daily seasonality. Run prophet with daily_seasonality=True to override this.\n"
     ]
    },
    {
     "name": "stdout",
     "output_type": "stream",
     "text": [
      "Garfield-Dan Ryan\n",
      "40\n"
     ]
    },
    {
     "name": "stderr",
     "output_type": "stream",
     "text": [
      "INFO:fbprophet:Disabling daily seasonality. Run prophet with daily_seasonality=True to override this.\n"
     ]
    },
    {
     "name": "stdout",
     "output_type": "stream",
     "text": [
      "Central-Evanston\n",
      "41\n"
     ]
    },
    {
     "name": "stderr",
     "output_type": "stream",
     "text": [
      "INFO:fbprophet:Disabling daily seasonality. Run prophet with daily_seasonality=True to override this.\n"
     ]
    },
    {
     "name": "stdout",
     "output_type": "stream",
     "text": [
      "Harlem-Forest Park\n",
      "42\n"
     ]
    },
    {
     "name": "stderr",
     "output_type": "stream",
     "text": [
      "INFO:fbprophet:Disabling daily seasonality. Run prophet with daily_seasonality=True to override this.\n"
     ]
    },
    {
     "name": "stdout",
     "output_type": "stream",
     "text": [
      "Halsted/63rd\n",
      "43\n"
     ]
    },
    {
     "name": "stderr",
     "output_type": "stream",
     "text": [
      "INFO:fbprophet:Disabling daily seasonality. Run prophet with daily_seasonality=True to override this.\n"
     ]
    },
    {
     "name": "stdout",
     "output_type": "stream",
     "text": [
      "Harlem-O'Hare\n",
      "44\n"
     ]
    },
    {
     "name": "stderr",
     "output_type": "stream",
     "text": [
      "INFO:fbprophet:Disabling daily seasonality. Run prophet with daily_seasonality=True to override this.\n"
     ]
    },
    {
     "name": "stdout",
     "output_type": "stream",
     "text": [
      "Addison-North Main\n",
      "45\n"
     ]
    },
    {
     "name": "stderr",
     "output_type": "stream",
     "text": [
      "INFO:fbprophet:Disabling daily seasonality. Run prophet with daily_seasonality=True to override this.\n"
     ]
    },
    {
     "name": "stdout",
     "output_type": "stream",
     "text": [
      "Roosevelt\n",
      "46\n"
     ]
    },
    {
     "name": "stderr",
     "output_type": "stream",
     "text": [
      "INFO:fbprophet:Disabling daily seasonality. Run prophet with daily_seasonality=True to override this.\n"
     ]
    },
    {
     "name": "stdout",
     "output_type": "stream",
     "text": [
      "Irving Park-Brown\n",
      "47\n"
     ]
    },
    {
     "name": "stderr",
     "output_type": "stream",
     "text": [
      "INFO:fbprophet:Disabling daily seasonality. Run prophet with daily_seasonality=True to override this.\n"
     ]
    },
    {
     "name": "stdout",
     "output_type": "stream",
     "text": [
      "Kedzie-Homan-Forest Park\n",
      "48\n"
     ]
    },
    {
     "name": "stderr",
     "output_type": "stream",
     "text": [
      "INFO:fbprophet:Disabling daily seasonality. Run prophet with daily_seasonality=True to override this.\n"
     ]
    },
    {
     "name": "stdout",
     "output_type": "stream",
     "text": [
      "Western/Milwaukee\n",
      "49\n"
     ]
    },
    {
     "name": "stderr",
     "output_type": "stream",
     "text": [
      "INFO:fbprophet:Disabling daily seasonality. Run prophet with daily_seasonality=True to override this.\n"
     ]
    },
    {
     "name": "stdout",
     "output_type": "stream",
     "text": [
      "Pulaski-Lake\n",
      "50\n"
     ]
    },
    {
     "name": "stderr",
     "output_type": "stream",
     "text": [
      "INFO:fbprophet:Disabling daily seasonality. Run prophet with daily_seasonality=True to override this.\n"
     ]
    },
    {
     "name": "stdout",
     "output_type": "stream",
     "text": [
      "Main\n",
      "51\n"
     ]
    },
    {
     "name": "stderr",
     "output_type": "stream",
     "text": [
      "INFO:fbprophet:Disabling daily seasonality. Run prophet with daily_seasonality=True to override this.\n"
     ]
    },
    {
     "name": "stdout",
     "output_type": "stream",
     "text": [
      "Paulina\n",
      "52\n"
     ]
    },
    {
     "name": "stderr",
     "output_type": "stream",
     "text": [
      "INFO:fbprophet:Disabling daily seasonality. Run prophet with daily_seasonality=True to override this.\n"
     ]
    },
    {
     "name": "stdout",
     "output_type": "stream",
     "text": [
      "Cicero-Forest Park\n",
      "53\n"
     ]
    },
    {
     "name": "stderr",
     "output_type": "stream",
     "text": [
      "INFO:fbprophet:Disabling daily seasonality. Run prophet with daily_seasonality=True to override this.\n"
     ]
    },
    {
     "name": "stdout",
     "output_type": "stream",
     "text": [
      "Southport\n",
      "54\n"
     ]
    },
    {
     "name": "stderr",
     "output_type": "stream",
     "text": [
      "INFO:fbprophet:Disabling daily seasonality. Run prophet with daily_seasonality=True to override this.\n"
     ]
    },
    {
     "name": "stdout",
     "output_type": "stream",
     "text": [
      "Loyola\n",
      "55\n"
     ]
    },
    {
     "name": "stderr",
     "output_type": "stream",
     "text": [
      "INFO:fbprophet:Disabling daily seasonality. Run prophet with daily_seasonality=True to override this.\n"
     ]
    },
    {
     "name": "stdout",
     "output_type": "stream",
     "text": [
      "Damen-Cermak\n",
      "56\n"
     ]
    },
    {
     "name": "stderr",
     "output_type": "stream",
     "text": [
      "INFO:fbprophet:Disabling daily seasonality. Run prophet with daily_seasonality=True to override this.\n"
     ]
    },
    {
     "name": "stdout",
     "output_type": "stream",
     "text": [
      "69th\n",
      "57\n"
     ]
    },
    {
     "name": "stderr",
     "output_type": "stream",
     "text": [
      "INFO:fbprophet:Disabling daily seasonality. Run prophet with daily_seasonality=True to override this.\n"
     ]
    },
    {
     "name": "stdout",
     "output_type": "stream",
     "text": [
      "Ashland-Lake\n",
      "58\n"
     ]
    },
    {
     "name": "stderr",
     "output_type": "stream",
     "text": [
      "INFO:fbprophet:Disabling daily seasonality. Run prophet with daily_seasonality=True to override this.\n"
     ]
    },
    {
     "name": "stdout",
     "output_type": "stream",
     "text": [
      "Harrison\n",
      "59\n"
     ]
    },
    {
     "name": "stderr",
     "output_type": "stream",
     "text": [
      "INFO:fbprophet:Disabling daily seasonality. Run prophet with daily_seasonality=True to override this.\n"
     ]
    },
    {
     "name": "stdout",
     "output_type": "stream",
     "text": [
      "Rockwell\n",
      "60\n"
     ]
    },
    {
     "name": "stderr",
     "output_type": "stream",
     "text": [
      "INFO:fbprophet:Disabling daily seasonality. Run prophet with daily_seasonality=True to override this.\n"
     ]
    },
    {
     "name": "stdout",
     "output_type": "stream",
     "text": [
      "Harlem-Lake\n",
      "61\n"
     ]
    },
    {
     "name": "stderr",
     "output_type": "stream",
     "text": [
      "INFO:fbprophet:Disabling daily seasonality. Run prophet with daily_seasonality=True to override this.\n"
     ]
    },
    {
     "name": "stdout",
     "output_type": "stream",
     "text": [
      "Austin-Forest Park\n",
      "62\n"
     ]
    },
    {
     "name": "stderr",
     "output_type": "stream",
     "text": [
      "INFO:fbprophet:Disabling daily seasonality. Run prophet with daily_seasonality=True to override this.\n"
     ]
    },
    {
     "name": "stdout",
     "output_type": "stream",
     "text": [
      "Western-Orange\n",
      "63\n"
     ]
    },
    {
     "name": "stderr",
     "output_type": "stream",
     "text": [
      "INFO:fbprophet:Disabling daily seasonality. Run prophet with daily_seasonality=True to override this.\n"
     ]
    },
    {
     "name": "stdout",
     "output_type": "stream",
     "text": [
      "Belmont-North Main\n",
      "64\n"
     ]
    },
    {
     "name": "stderr",
     "output_type": "stream",
     "text": [
      "INFO:fbprophet:Disabling daily seasonality. Run prophet with daily_seasonality=True to override this.\n"
     ]
    },
    {
     "name": "stdout",
     "output_type": "stream",
     "text": [
      "Argyle\n",
      "65\n"
     ]
    },
    {
     "name": "stderr",
     "output_type": "stream",
     "text": [
      "INFO:fbprophet:Disabling daily seasonality. Run prophet with daily_seasonality=True to override this.\n"
     ]
    },
    {
     "name": "stdout",
     "output_type": "stream",
     "text": [
      "Lake/State\n",
      "66\n"
     ]
    },
    {
     "name": "stderr",
     "output_type": "stream",
     "text": [
      "INFO:fbprophet:Disabling daily seasonality. Run prophet with daily_seasonality=True to override this.\n"
     ]
    },
    {
     "name": "stdout",
     "output_type": "stream",
     "text": [
      "Wellington\n",
      "67\n"
     ]
    },
    {
     "name": "stderr",
     "output_type": "stream",
     "text": [
      "INFO:fbprophet:Disabling daily seasonality. Run prophet with daily_seasonality=True to override this.\n"
     ]
    },
    {
     "name": "stdout",
     "output_type": "stream",
     "text": [
      "California/Milwaukee\n",
      "68\n"
     ]
    },
    {
     "name": "stderr",
     "output_type": "stream",
     "text": [
      "INFO:fbprophet:Disabling daily seasonality. Run prophet with daily_seasonality=True to override this.\n"
     ]
    },
    {
     "name": "stdout",
     "output_type": "stream",
     "text": [
      "Ashland-Orange\n",
      "69\n"
     ]
    },
    {
     "name": "stderr",
     "output_type": "stream",
     "text": [
      "INFO:fbprophet:Disabling daily seasonality. Run prophet with daily_seasonality=True to override this.\n"
     ]
    },
    {
     "name": "stdout",
     "output_type": "stream",
     "text": [
      "Sedgwick\n",
      "70\n"
     ]
    },
    {
     "name": "stderr",
     "output_type": "stream",
     "text": [
      "INFO:fbprophet:Disabling daily seasonality. Run prophet with daily_seasonality=True to override this.\n"
     ]
    },
    {
     "name": "stdout",
     "output_type": "stream",
     "text": [
      "Indiana\n",
      "71\n"
     ]
    },
    {
     "name": "stderr",
     "output_type": "stream",
     "text": [
      "INFO:fbprophet:Disabling daily seasonality. Run prophet with daily_seasonality=True to override this.\n"
     ]
    },
    {
     "name": "stdout",
     "output_type": "stream",
     "text": [
      "O'Hare Airport\n",
      "72\n"
     ]
    },
    {
     "name": "stderr",
     "output_type": "stream",
     "text": [
      "INFO:fbprophet:Disabling daily seasonality. Run prophet with daily_seasonality=True to override this.\n"
     ]
    },
    {
     "name": "stdout",
     "output_type": "stream",
     "text": [
      "Rosemont\n",
      "73\n"
     ]
    },
    {
     "name": "stderr",
     "output_type": "stream",
     "text": [
      "INFO:fbprophet:Disabling daily seasonality. Run prophet with daily_seasonality=True to override this.\n"
     ]
    },
    {
     "name": "stdout",
     "output_type": "stream",
     "text": [
      "Kedzie-Lake\n",
      "74\n"
     ]
    },
    {
     "name": "stderr",
     "output_type": "stream",
     "text": [
      "INFO:fbprophet:Disabling daily seasonality. Run prophet with daily_seasonality=True to override this.\n"
     ]
    },
    {
     "name": "stdout",
     "output_type": "stream",
     "text": [
      "Polk\n",
      "75\n"
     ]
    },
    {
     "name": "stderr",
     "output_type": "stream",
     "text": [
      "INFO:fbprophet:Disabling daily seasonality. Run prophet with daily_seasonality=True to override this.\n"
     ]
    },
    {
     "name": "stdout",
     "output_type": "stream",
     "text": [
      "Randolph/Wabash\n",
      "76\n"
     ]
    },
    {
     "name": "stderr",
     "output_type": "stream",
     "text": [
      "INFO:fbprophet:Disabling daily seasonality. Run prophet with daily_seasonality=True to override this.\n"
     ]
    },
    {
     "name": "stdout",
     "output_type": "stream",
     "text": [
      "54th/Cermak\n",
      "77\n"
     ]
    },
    {
     "name": "stderr",
     "output_type": "stream",
     "text": [
      "INFO:fbprophet:Disabling daily seasonality. Run prophet with daily_seasonality=True to override this.\n"
     ]
    },
    {
     "name": "stdout",
     "output_type": "stream",
     "text": [
      "Forest Park\n",
      "78\n"
     ]
    },
    {
     "name": "stderr",
     "output_type": "stream",
     "text": [
      "INFO:fbprophet:Disabling daily seasonality. Run prophet with daily_seasonality=True to override this.\n"
     ]
    },
    {
     "name": "stdout",
     "output_type": "stream",
     "text": [
      "87th\n",
      "79\n"
     ]
    },
    {
     "name": "stderr",
     "output_type": "stream",
     "text": [
      "INFO:fbprophet:Disabling daily seasonality. Run prophet with daily_seasonality=True to override this.\n"
     ]
    },
    {
     "name": "stdout",
     "output_type": "stream",
     "text": [
      "Wilson\n",
      "80\n"
     ]
    },
    {
     "name": "stderr",
     "output_type": "stream",
     "text": [
      "INFO:fbprophet:Disabling daily seasonality. Run prophet with daily_seasonality=True to override this.\n"
     ]
    },
    {
     "name": "stdout",
     "output_type": "stream",
     "text": [
      "Cicero-Lake\n",
      "81\n"
     ]
    },
    {
     "name": "stderr",
     "output_type": "stream",
     "text": [
      "INFO:fbprophet:Disabling daily seasonality. Run prophet with daily_seasonality=True to override this.\n"
     ]
    },
    {
     "name": "stdout",
     "output_type": "stream",
     "text": [
      "Belmont-O'Hare\n",
      "82\n"
     ]
    },
    {
     "name": "stderr",
     "output_type": "stream",
     "text": [
      "INFO:fbprophet:Disabling daily seasonality. Run prophet with daily_seasonality=True to override this.\n"
     ]
    },
    {
     "name": "stdout",
     "output_type": "stream",
     "text": [
      "Kimball\n",
      "83\n"
     ]
    },
    {
     "name": "stderr",
     "output_type": "stream",
     "text": [
      "INFO:fbprophet:Disabling daily seasonality. Run prophet with daily_seasonality=True to override this.\n"
     ]
    },
    {
     "name": "stdout",
     "output_type": "stream",
     "text": [
      "LaSalle/Van Buren\n",
      "84\n"
     ]
    },
    {
     "name": "stderr",
     "output_type": "stream",
     "text": [
      "INFO:fbprophet:Disabling daily seasonality. Run prophet with daily_seasonality=True to override this.\n"
     ]
    },
    {
     "name": "stdout",
     "output_type": "stream",
     "text": [
      "Morse\n",
      "85\n"
     ]
    },
    {
     "name": "stderr",
     "output_type": "stream",
     "text": [
      "INFO:fbprophet:Disabling daily seasonality. Run prophet with daily_seasonality=True to override this.\n"
     ]
    },
    {
     "name": "stdout",
     "output_type": "stream",
     "text": [
      "Clark/Division\n",
      "86\n"
     ]
    },
    {
     "name": "stderr",
     "output_type": "stream",
     "text": [
      "INFO:fbprophet:Disabling daily seasonality. Run prophet with daily_seasonality=True to override this.\n"
     ]
    },
    {
     "name": "stdout",
     "output_type": "stream",
     "text": [
      "California-Cermak\n",
      "87\n"
     ]
    },
    {
     "name": "stderr",
     "output_type": "stream",
     "text": [
      "INFO:fbprophet:Disabling daily seasonality. Run prophet with daily_seasonality=True to override this.\n"
     ]
    },
    {
     "name": "stdout",
     "output_type": "stream",
     "text": [
      "Cermak-Chinatown\n",
      "88\n"
     ]
    },
    {
     "name": "stderr",
     "output_type": "stream",
     "text": [
      "INFO:fbprophet:Disabling daily seasonality. Run prophet with daily_seasonality=True to override this.\n"
     ]
    },
    {
     "name": "stdout",
     "output_type": "stream",
     "text": [
      "Midway Airport\n",
      "89\n"
     ]
    },
    {
     "name": "stderr",
     "output_type": "stream",
     "text": [
      "INFO:fbprophet:Disabling daily seasonality. Run prophet with daily_seasonality=True to override this.\n"
     ]
    },
    {
     "name": "stdout",
     "output_type": "stream",
     "text": [
      "Thorndale\n",
      "90\n"
     ]
    },
    {
     "name": "stderr",
     "output_type": "stream",
     "text": [
      "INFO:fbprophet:Disabling daily seasonality. Run prophet with daily_seasonality=True to override this.\n"
     ]
    },
    {
     "name": "stdout",
     "output_type": "stream",
     "text": [
      "Logan Square\n",
      "91\n"
     ]
    },
    {
     "name": "stderr",
     "output_type": "stream",
     "text": [
      "INFO:fbprophet:Disabling daily seasonality. Run prophet with daily_seasonality=True to override this.\n"
     ]
    },
    {
     "name": "stdout",
     "output_type": "stream",
     "text": [
      "Pulaski-Orange\n",
      "92\n"
     ]
    },
    {
     "name": "stderr",
     "output_type": "stream",
     "text": [
      "INFO:fbprophet:Disabling daily seasonality. Run prophet with daily_seasonality=True to override this.\n"
     ]
    },
    {
     "name": "stdout",
     "output_type": "stream",
     "text": [
      "Clinton-Lake\n",
      "93\n"
     ]
    },
    {
     "name": "stderr",
     "output_type": "stream",
     "text": [
      "INFO:fbprophet:Disabling daily seasonality. Run prophet with daily_seasonality=True to override this.\n"
     ]
    },
    {
     "name": "stdout",
     "output_type": "stream",
     "text": [
      "Addison-Brown\n",
      "94\n"
     ]
    },
    {
     "name": "stderr",
     "output_type": "stream",
     "text": [
      "INFO:fbprophet:Disabling daily seasonality. Run prophet with daily_seasonality=True to override this.\n"
     ]
    },
    {
     "name": "stdout",
     "output_type": "stream",
     "text": [
      "Pulaski-Forest Park\n",
      "95\n"
     ]
    },
    {
     "name": "stderr",
     "output_type": "stream",
     "text": [
      "INFO:fbprophet:Disabling daily seasonality. Run prophet with daily_seasonality=True to override this.\n"
     ]
    },
    {
     "name": "stdout",
     "output_type": "stream",
     "text": [
      "Jackson/State\n",
      "96\n"
     ]
    },
    {
     "name": "stderr",
     "output_type": "stream",
     "text": [
      "INFO:fbprophet:Disabling daily seasonality. Run prophet with daily_seasonality=True to override this.\n"
     ]
    },
    {
     "name": "stdout",
     "output_type": "stream",
     "text": [
      "Sox-35th-Dan Ryan\n",
      "97\n"
     ]
    },
    {
     "name": "stderr",
     "output_type": "stream",
     "text": [
      "INFO:fbprophet:Disabling daily seasonality. Run prophet with daily_seasonality=True to override this.\n"
     ]
    },
    {
     "name": "stdout",
     "output_type": "stream",
     "text": [
      "Grand/Milwaukee\n",
      "98\n"
     ]
    },
    {
     "name": "stderr",
     "output_type": "stream",
     "text": [
      "INFO:fbprophet:Disabling daily seasonality. Run prophet with daily_seasonality=True to override this.\n"
     ]
    },
    {
     "name": "stdout",
     "output_type": "stream",
     "text": [
      "King Drive\n",
      "99\n"
     ]
    },
    {
     "name": "stderr",
     "output_type": "stream",
     "text": [
      "INFO:fbprophet:Disabling daily seasonality. Run prophet with daily_seasonality=True to override this.\n"
     ]
    },
    {
     "name": "stdout",
     "output_type": "stream",
     "text": [
      "Fullerton\n",
      "100\n"
     ]
    },
    {
     "name": "stderr",
     "output_type": "stream",
     "text": [
      "INFO:fbprophet:Disabling daily seasonality. Run prophet with daily_seasonality=True to override this.\n"
     ]
    },
    {
     "name": "stdout",
     "output_type": "stream",
     "text": [
      "Kedzie-Brown\n",
      "101\n"
     ]
    },
    {
     "name": "stderr",
     "output_type": "stream",
     "text": [
      "INFO:fbprophet:Disabling daily seasonality. Run prophet with daily_seasonality=True to override this.\n"
     ]
    },
    {
     "name": "stdout",
     "output_type": "stream",
     "text": [
      "Library\n",
      "102\n"
     ]
    },
    {
     "name": "stderr",
     "output_type": "stream",
     "text": [
      "INFO:fbprophet:Disabling daily seasonality. Run prophet with daily_seasonality=True to override this.\n"
     ]
    },
    {
     "name": "stdout",
     "output_type": "stream",
     "text": [
      "Cicero-Cermak\n",
      "103\n"
     ]
    },
    {
     "name": "stderr",
     "output_type": "stream",
     "text": [
      "INFO:fbprophet:Disabling daily seasonality. Run prophet with daily_seasonality=True to override this.\n"
     ]
    },
    {
     "name": "stdout",
     "output_type": "stream",
     "text": [
      "Division/Milwaukee\n",
      "104\n"
     ]
    },
    {
     "name": "stderr",
     "output_type": "stream",
     "text": [
      "INFO:fbprophet:Disabling daily seasonality. Run prophet with daily_seasonality=True to override this.\n"
     ]
    },
    {
     "name": "stdout",
     "output_type": "stream",
     "text": [
      "Kedzie-Midway\n",
      "105\n"
     ]
    },
    {
     "name": "stderr",
     "output_type": "stream",
     "text": [
      "INFO:fbprophet:Disabling daily seasonality. Run prophet with daily_seasonality=True to override this.\n"
     ]
    },
    {
     "name": "stdout",
     "output_type": "stream",
     "text": [
      "Monroe/State\n",
      "106\n"
     ]
    },
    {
     "name": "stderr",
     "output_type": "stream",
     "text": [
      "INFO:fbprophet:Disabling daily seasonality. Run prophet with daily_seasonality=True to override this.\n"
     ]
    },
    {
     "name": "stdout",
     "output_type": "stream",
     "text": [
      "Ashland/63rd\n",
      "107\n"
     ]
    },
    {
     "name": "stderr",
     "output_type": "stream",
     "text": [
      "INFO:fbprophet:Disabling daily seasonality. Run prophet with daily_seasonality=True to override this.\n"
     ]
    },
    {
     "name": "stdout",
     "output_type": "stream",
     "text": [
      "Washington/Dearborn\n",
      "108\n"
     ]
    },
    {
     "name": "stderr",
     "output_type": "stream",
     "text": [
      "INFO:fbprophet:Disabling daily seasonality. Run prophet with daily_seasonality=True to override this.\n"
     ]
    },
    {
     "name": "stdout",
     "output_type": "stream",
     "text": [
      "Quincy/Wells\n",
      "109\n"
     ]
    },
    {
     "name": "stderr",
     "output_type": "stream",
     "text": [
      "INFO:fbprophet:Disabling daily seasonality. Run prophet with daily_seasonality=True to override this.\n"
     ]
    },
    {
     "name": "stdout",
     "output_type": "stream",
     "text": [
      "Clinton-Forest Park\n",
      "110\n"
     ]
    },
    {
     "name": "stderr",
     "output_type": "stream",
     "text": [
      "INFO:fbprophet:Disabling daily seasonality. Run prophet with daily_seasonality=True to override this.\n"
     ]
    },
    {
     "name": "stdout",
     "output_type": "stream",
     "text": [
      "18th\n",
      "111\n"
     ]
    },
    {
     "name": "stderr",
     "output_type": "stream",
     "text": [
      "INFO:fbprophet:Disabling daily seasonality. Run prophet with daily_seasonality=True to override this.\n"
     ]
    },
    {
     "name": "stdout",
     "output_type": "stream",
     "text": [
      "Washington/Wells\n",
      "112\n"
     ]
    },
    {
     "name": "stderr",
     "output_type": "stream",
     "text": [
      "INFO:fbprophet:Disabling daily seasonality. Run prophet with daily_seasonality=True to override this.\n"
     ]
    },
    {
     "name": "stdout",
     "output_type": "stream",
     "text": [
      "35th/Archer\n",
      "113\n"
     ]
    },
    {
     "name": "stderr",
     "output_type": "stream",
     "text": [
      "INFO:fbprophet:Disabling daily seasonality. Run prophet with daily_seasonality=True to override this.\n"
     ]
    },
    {
     "name": "stdout",
     "output_type": "stream",
     "text": [
      "79th\n",
      "114\n"
     ]
    },
    {
     "name": "stderr",
     "output_type": "stream",
     "text": [
      "INFO:fbprophet:Disabling daily seasonality. Run prophet with daily_seasonality=True to override this.\n"
     ]
    },
    {
     "name": "stdout",
     "output_type": "stream",
     "text": [
      "Armitage\n",
      "115\n"
     ]
    },
    {
     "name": "stderr",
     "output_type": "stream",
     "text": [
      "INFO:fbprophet:Disabling daily seasonality. Run prophet with daily_seasonality=True to override this.\n"
     ]
    },
    {
     "name": "stdout",
     "output_type": "stream",
     "text": [
      "Bryn Mawr\n",
      "116\n"
     ]
    },
    {
     "name": "stderr",
     "output_type": "stream",
     "text": [
      "INFO:fbprophet:Disabling daily seasonality. Run prophet with daily_seasonality=True to override this.\n"
     ]
    },
    {
     "name": "stdout",
     "output_type": "stream",
     "text": [
      "63rd-Dan Ryan\n",
      "117\n"
     ]
    },
    {
     "name": "stderr",
     "output_type": "stream",
     "text": [
      "INFO:fbprophet:Disabling daily seasonality. Run prophet with daily_seasonality=True to override this.\n"
     ]
    },
    {
     "name": "stdout",
     "output_type": "stream",
     "text": [
      "Central-Lake\n",
      "118\n"
     ]
    },
    {
     "name": "stderr",
     "output_type": "stream",
     "text": [
      "INFO:fbprophet:Disabling daily seasonality. Run prophet with daily_seasonality=True to override this.\n"
     ]
    },
    {
     "name": "stdout",
     "output_type": "stream",
     "text": [
      "State/Lake\n",
      "119\n",
      "Madison/Wabash\n",
      "120\n"
     ]
    },
    {
     "name": "stderr",
     "output_type": "stream",
     "text": [
      "INFO:fbprophet:Disabling daily seasonality. Run prophet with daily_seasonality=True to override this.\n"
     ]
    },
    {
     "name": "stdout",
     "output_type": "stream",
     "text": [
      "Kostner\n",
      "121\n"
     ]
    },
    {
     "name": "stderr",
     "output_type": "stream",
     "text": [
      "INFO:fbprophet:Disabling daily seasonality. Run prophet with daily_seasonality=True to override this.\n"
     ]
    },
    {
     "name": "stdout",
     "output_type": "stream",
     "text": [
      "Laramie\n",
      "122\n"
     ]
    },
    {
     "name": "stderr",
     "output_type": "stream",
     "text": [
      "INFO:fbprophet:Disabling daily seasonality. Run prophet with daily_seasonality=True to override this.\n"
     ]
    },
    {
     "name": "stdout",
     "output_type": "stream",
     "text": [
      "Monroe/Dearborn\n",
      "123\n"
     ]
    },
    {
     "name": "stderr",
     "output_type": "stream",
     "text": [
      "INFO:fbprophet:Disabling daily seasonality. Run prophet with daily_seasonality=True to override this.\n"
     ]
    },
    {
     "name": "stdout",
     "output_type": "stream",
     "text": [
      "Racine\n",
      "124\n"
     ]
    },
    {
     "name": "stderr",
     "output_type": "stream",
     "text": [
      "INFO:fbprophet:Disabling daily seasonality. Run prophet with daily_seasonality=True to override this.\n"
     ]
    },
    {
     "name": "stdout",
     "output_type": "stream",
     "text": [
      "Sheridan\n",
      "125\n"
     ]
    },
    {
     "name": "stderr",
     "output_type": "stream",
     "text": [
      "INFO:fbprophet:Disabling daily seasonality. Run prophet with daily_seasonality=True to override this.\n"
     ]
    },
    {
     "name": "stdout",
     "output_type": "stream",
     "text": [
      "LaSalle\n",
      "126\n"
     ]
    },
    {
     "name": "stderr",
     "output_type": "stream",
     "text": [
      "INFO:fbprophet:Disabling daily seasonality. Run prophet with daily_seasonality=True to override this.\n"
     ]
    },
    {
     "name": "stdout",
     "output_type": "stream",
     "text": [
      "Montrose-O'Hare\n",
      "127\n"
     ]
    },
    {
     "name": "stderr",
     "output_type": "stream",
     "text": [
      "INFO:fbprophet:Disabling daily seasonality. Run prophet with daily_seasonality=True to override this.\n"
     ]
    },
    {
     "name": "stdout",
     "output_type": "stream",
     "text": [
      "Diversey\n",
      "128\n"
     ]
    },
    {
     "name": "stderr",
     "output_type": "stream",
     "text": [
      "INFO:fbprophet:Disabling daily seasonality. Run prophet with daily_seasonality=True to override this.\n"
     ]
    },
    {
     "name": "stdout",
     "output_type": "stream",
     "text": [
      "Central Park\n",
      "129\n"
     ]
    },
    {
     "name": "stderr",
     "output_type": "stream",
     "text": [
      "INFO:fbprophet:Disabling daily seasonality. Run prophet with daily_seasonality=True to override this.\n"
     ]
    },
    {
     "name": "stdout",
     "output_type": "stream",
     "text": [
      "Oak Park-Lake\n",
      "130\n"
     ]
    },
    {
     "name": "stderr",
     "output_type": "stream",
     "text": [
      "INFO:fbprophet:Disabling daily seasonality. Run prophet with daily_seasonality=True to override this.\n"
     ]
    },
    {
     "name": "stdout",
     "output_type": "stream",
     "text": [
      "California-Lake\n",
      "131\n",
      "Washington/State\n",
      "132\n"
     ]
    },
    {
     "name": "stderr",
     "output_type": "stream",
     "text": [
      "INFO:fbprophet:Disabling daily seasonality. Run prophet with daily_seasonality=True to override this.\n"
     ]
    },
    {
     "name": "stdout",
     "output_type": "stream",
     "text": [
      "Oak Park-Forest Park\n",
      "133\n"
     ]
    },
    {
     "name": "stderr",
     "output_type": "stream",
     "text": [
      "INFO:fbprophet:Disabling daily seasonality. Run prophet with daily_seasonality=True to override this.\n"
     ]
    },
    {
     "name": "stdout",
     "output_type": "stream",
     "text": [
      "Clark/Lake\n",
      "134\n"
     ]
    },
    {
     "name": "stderr",
     "output_type": "stream",
     "text": [
      "INFO:fbprophet:Disabling daily seasonality. Run prophet with daily_seasonality=True to override this.\n"
     ]
    },
    {
     "name": "stdout",
     "output_type": "stream",
     "text": [
      "Western-Forest Park\n",
      "135\n"
     ]
    },
    {
     "name": "stderr",
     "output_type": "stream",
     "text": [
      "INFO:fbprophet:Disabling daily seasonality. Run prophet with daily_seasonality=True to override this.\n"
     ]
    },
    {
     "name": "stdout",
     "output_type": "stream",
     "text": [
      "Jarvis\n",
      "136\n"
     ]
    },
    {
     "name": "stderr",
     "output_type": "stream",
     "text": [
      "INFO:fbprophet:Disabling daily seasonality. Run prophet with daily_seasonality=True to override this.\n"
     ]
    },
    {
     "name": "stdout",
     "output_type": "stream",
     "text": [
      "Western-Brown\n",
      "137\n"
     ]
    },
    {
     "name": "stderr",
     "output_type": "stream",
     "text": [
      "INFO:fbprophet:Disabling daily seasonality. Run prophet with daily_seasonality=True to override this.\n"
     ]
    },
    {
     "name": "stdout",
     "output_type": "stream",
     "text": [
      "Chicago/Milwaukee\n",
      "138\n"
     ]
    },
    {
     "name": "stderr",
     "output_type": "stream",
     "text": [
      "INFO:fbprophet:Disabling daily seasonality. Run prophet with daily_seasonality=True to override this.\n"
     ]
    },
    {
     "name": "stdout",
     "output_type": "stream",
     "text": [
      "North/Clybourn\n",
      "139\n"
     ]
    },
    {
     "name": "stderr",
     "output_type": "stream",
     "text": [
      "INFO:fbprophet:Disabling daily seasonality. Run prophet with daily_seasonality=True to override this.\n"
     ]
    },
    {
     "name": "stdout",
     "output_type": "stream",
     "text": [
      "47th-Dan Ryan\n",
      "140\n"
     ]
    },
    {
     "name": "stderr",
     "output_type": "stream",
     "text": [
      "INFO:fbprophet:Disabling daily seasonality. Run prophet with daily_seasonality=True to override this.\n"
     ]
    },
    {
     "name": "stdout",
     "output_type": "stream",
     "text": [
      "Addison-O'Hare\n",
      "141\n"
     ]
    },
    {
     "name": "stderr",
     "output_type": "stream",
     "text": [
      "INFO:fbprophet:Disabling daily seasonality. Run prophet with daily_seasonality=True to override this.\n"
     ]
    },
    {
     "name": "stdout",
     "output_type": "stream",
     "text": [
      "Conservatory\n",
      "142\n",
      "Homan\n",
      "143\n"
     ]
    },
    {
     "name": "stderr",
     "output_type": "stream",
     "text": [
      "INFO:fbprophet:Disabling daily seasonality. Run prophet with daily_seasonality=True to override this.\n"
     ]
    },
    {
     "name": "stdout",
     "output_type": "stream",
     "text": [
      "Dempster-Skokie\n",
      "144\n"
     ]
    },
    {
     "name": "stderr",
     "output_type": "stream",
     "text": [
      "INFO:fbprophet:Disabling daily seasonality. Run prophet with daily_seasonality=True to override this.\n"
     ]
    },
    {
     "name": "stdout",
     "output_type": "stream",
     "text": [
      "Oakton-Skokie\n",
      "145\n"
     ]
    },
    {
     "name": "stderr",
     "output_type": "stream",
     "text": [
      "INFO:fbprophet:Disabling daily seasonality. Run prophet with daily_seasonality=True to override this.\n"
     ]
    },
    {
     "name": "stdout",
     "output_type": "stream",
     "text": [
      "Morgan-Lake\n",
      "146\n"
     ]
    },
    {
     "name": "stderr",
     "output_type": "stream",
     "text": [
      "INFO:fbprophet:Disabling yearly seasonality. Run prophet with yearly_seasonality=True to override this.\n",
      "INFO:fbprophet:Disabling daily seasonality. Run prophet with daily_seasonality=True to override this.\n"
     ]
    },
    {
     "name": "stdout",
     "output_type": "stream",
     "text": [
      "Cermak-McCormick Place\n",
      "147\n",
      "Washington/Wabash\n",
      "148\n"
     ]
    }
   ],
   "source": [
    "station_list = ride_df.stationname.unique().tolist()\n",
    "sumlist = []\n",
    "i=0\n",
    "for station in station_list:\n",
    "    stat = Station(station, ride_df, map_df)\n",
    "    stat.run_prophet()\n",
    "    sumlist.append(stat.summary)\n",
    "    print(stat.name)\n",
    "    i=i+1\n",
    "    print(i)\n",
    "station_summary = pd.DataFrame(sumlist)    \n",
    "station_summary.to_csv('data/station_summary.csv')"
   ]
  },
  {
   "cell_type": "code",
   "execution_count": 10,
   "metadata": {},
   "outputs": [],
   "source": [
    "station_summary = pd.read_csv('data/station_summary.csv')\n",
    "to_remove = station_summary[station_summary['Sat_mean'] == 0].index[0]\n",
    "station_summary.drop([to_remove], inplace=True)\n",
    "station_summary['weekday-sat'] = station_summary['Weekday_mean'\n",
    "                                                ] - station_summary['Sat_mean']\n",
    "\n",
    "station_summary['weekday-sun'] = station_summary['Weekday_mean'\n",
    "                                                ] - station_summary['Sun/Hol_mean']\n",
    "\n",
    "\n",
    "\n",
    "station_summary.to_csv('data/station_summary.csv')"
   ]
  },
  {
   "cell_type": "code",
   "execution_count": 3,
   "metadata": {},
   "outputs": [],
   "source": [
    "years = range(2001,2018)\n",
    "to_drop = [f'{year}_mean' for year in years] \n",
    "to_drop += [f'{year}_std' for year in years]\n",
    "to_drop += ['Unnamed: 0']\n",
    "\n",
    "to_drop = list(set(to_drop) & set(station_summary.columns))"
   ]
  },
  {
   "cell_type": "code",
   "execution_count": 4,
   "metadata": {},
   "outputs": [],
   "source": [
    "station_summary = station_summary.drop(columns=to_drop)"
   ]
  },
  {
   "cell_type": "code",
   "execution_count": 5,
   "metadata": {},
   "outputs": [
    {
     "data": {
      "text/plain": [
       "Index(['2018_mean', '2018_std', '2019_mean', '2019_std', '2020_mean',\n",
       "       '2020_std', '2021_mean', '2021_std', '2022_mean', '2022_std',\n",
       "       '2023_mean', '2023_std', '5_yr_num_diff', '5_yr_pct_diff', 'Sat_mean',\n",
       "       'Sat_std', 'Sun/Hol_mean', 'Sun/Hol_std', 'Weekday_mean', 'Weekday_std',\n",
       "       'daily_mean', 'daily_std', 'latitude', 'longitude', 'num_na',\n",
       "       'num_yrs_from_past_5', 'station', 'weekday-sat', 'weekday-sun'],\n",
       "      dtype='object')"
      ]
     },
     "execution_count": 5,
     "metadata": {},
     "output_type": "execute_result"
    }
   ],
   "source": [
    "station_summary.columns"
   ]
  },
  {
   "cell_type": "code",
   "execution_count": 6,
   "metadata": {},
   "outputs": [],
   "source": [
    "station_summary.columns\n",
    "cols = ['2023_mean', 'daily_mean', '5_yr_pct_diff']\n",
    "cols2 = ['daily_mean', 'Sat_mean', 'Sun/Hol_mean', 'Weekday_mean']"
   ]
  },
  {
   "cell_type": "code",
   "execution_count": 12,
   "metadata": {},
   "outputs": [],
   "source": [
    "station_summary.dropna(inplace=True)"
   ]
  },
  {
   "cell_type": "code",
   "execution_count": 50,
   "metadata": {},
   "outputs": [
    {
     "data": {
      "text/html": [
       "\n",
       "\n",
       "<style>\n",
       "\n",
       "</style>\n",
       "\n",
       "<div id=\"fig_el853747741185123614200020\"></div>\n",
       "<script>\n",
       "function mpld3_load_lib(url, callback){\n",
       "  var s = document.createElement('script');\n",
       "  s.src = url;\n",
       "  s.async = true;\n",
       "  s.onreadystatechange = s.onload = callback;\n",
       "  s.onerror = function(){console.warn(\"failed to load library \" + url);};\n",
       "  document.getElementsByTagName(\"head\")[0].appendChild(s);\n",
       "}\n",
       "\n",
       "if(typeof(mpld3) !== \"undefined\" && mpld3._mpld3IsLoaded){\n",
       "   // already loaded: just create the figure\n",
       "   !function(mpld3){\n",
       "       \n",
       "       mpld3.draw_figure(\"fig_el853747741185123614200020\", {\"width\": 432.0, \"height\": 288.0, \"axes\": [{\"bbox\": [0.125, 0.125, 0.775, 0.755], \"xlim\": [-863.7126190617637, 18177.270630111485], \"ylim\": [-6552.1161487488525, 2638.464673939503], \"xdomain\": [-863.7126190617637, 18177.270630111485], \"ydomain\": [-6552.1161487488525, 2638.464673939503], \"xscale\": \"linear\", \"yscale\": \"linear\", \"axes\": [{\"position\": \"bottom\", \"nticks\": 10, \"tickvalues\": null, \"tickformat\": null, \"scale\": \"linear\", \"fontsize\": 10.0, \"grid\": {\"gridOn\": true, \"color\": \"#FFFFFF\", \"dasharray\": \"none\", \"alpha\": 1.0}, \"visible\": true}, {\"position\": \"left\", \"nticks\": 7, \"tickvalues\": null, \"tickformat\": null, \"scale\": \"linear\", \"fontsize\": 10.0, \"grid\": {\"gridOn\": true, \"color\": \"#FFFFFF\", \"dasharray\": \"none\", \"alpha\": 1.0}, \"visible\": true}], \"axesbg\": \"#EEEEEE\", \"axesbgalpha\": null, \"zoomable\": true, \"id\": \"el85375150343464\", \"lines\": [], \"paths\": [], \"markers\": [], \"texts\": [{\"text\": \"2018_mean vs rawchange_2018_2023\", \"position\": [0.49999999999999994, 1.0275938189845473], \"coordinates\": \"axes\", \"h_anchor\": \"middle\", \"v_baseline\": \"auto\", \"rotation\": -0.0, \"fontsize\": 20.0, \"color\": \"#000000\", \"alpha\": 1, \"zorder\": 3, \"id\": \"el85375150374880\"}], \"collections\": [{\"offsets\": \"data01\", \"xindex\": 0, \"yindex\": 1, \"paths\": [[[[0.0, -0.5], [0.13260155, -0.5], [0.25978993539242673, -0.44731684579412084], [0.3535533905932738, -0.3535533905932738], [0.44731684579412084, -0.25978993539242673], [0.5, -0.13260155], [0.5, 0.0], [0.5, 0.13260155], [0.44731684579412084, 0.25978993539242673], [0.3535533905932738, 0.3535533905932738], [0.25978993539242673, 0.44731684579412084], [0.13260155, 0.5], [0.0, 0.5], [-0.13260155, 0.5], [-0.25978993539242673, 0.44731684579412084], [-0.3535533905932738, 0.3535533905932738], [-0.44731684579412084, 0.25978993539242673], [-0.5, 0.13260155], [-0.5, 0.0], [-0.5, -0.13260155], [-0.44731684579412084, -0.25978993539242673], [-0.3535533905932738, -0.3535533905932738], [-0.25978993539242673, -0.44731684579412084], [-0.13260155, -0.5], [0.0, -0.5]], [\"M\", \"C\", \"C\", \"C\", \"C\", \"C\", \"C\", \"C\", \"C\", \"Z\"]]], \"pathtransforms\": [[6.0, 0.0, 0.0, 6.0, 0.0, 0.0]], \"alphas\": [0.3], \"edgecolors\": [\"#1F77B4\"], \"facecolors\": [\"#1F77B4\"], \"edgewidths\": [1.0], \"offsetcoordinates\": \"data\", \"pathcoordinates\": \"display\", \"zorder\": 1, \"id\": \"el85374970124848\"}], \"images\": [], \"sharex\": [], \"sharey\": []}], \"data\": {\"data01\": [[4399.8232044198885, 31.109366179480276], [2060.204419889503, -438.88081514670057], [3434.0165745856348, -561.9314556668364], [5655.419889502762, -1212.3997655509675], [2367.5856353591157, 331.06424760540676], [5565.867403314917, 1195.5910530238325], [901.9337016574583, -354.148685669643], [1521.011049723757, -280.29022539740754], [3595.0165745856348, -26.036516293807836], [1364.1988950276245, -767.3904120997887], [1627.53591160221, -1776.5104397325147], [10239.060773480664, -1224.8163246971708], [779.3370165745856, 103.40663708252066], [8286.629834254143, -2679.3414141594776], [804.9613259668507, 135.2463371734873], [880.9723756906078, -405.84919774814495], [744.8674033149173, -114.96384362901256], [6462.933701657458, 963.4988021268873], [644.4143646408841, -113.35757781661096], [5559.955801104972, -286.8416124567875], [808.3480662983426, -300.2032127018736], [1354.524861878453, 137.79091231356688], [5629.596685082874, -309.35442454722397], [959.4861878453039, -222.61286581393063], [3619.3204419889503, -475.5001408234207], [2326.8508287292816, -63.38327398778483], [868.4751381215469, -145.0394417522308], [12252.613259668507, -1762.312265178056], [946.0828729281767, -393.5040381007951], [4743.10497237569, -1569.3669660563714], [2895.5635359116027, -499.2366932882255], [1069.0662983425414, -299.51718162341797], [6045.596685082874, 380.1152391138248], [2809.0386740331487, -133.4573239858969], [3198.812154696132, -422.07937404765426], [1100.3204419889503, 78.02924891400517], [722.0331491712708, 12.467132725112265], [831.8453038674032, -201.27789056280062], [2756.6022099447514, -1027.6521194073218], [617.9502762430939, -42.402003166176655], [985.9779005524864, -5.410779851831762], [511.77900552486193, -268.2140941228755], [2351.795580110497, -349.43141725797614], [7318.331491712707, 737.017044336144], [9370.397790055247, -970.5691813152207], [2717.4198895027625, 8.047135820809672], [1735.7182320441987, -802.8627230080297], [4425.060773480663, -1201.5627064780015], [1170.7237569060776, -744.9977548761012], [1012.3591160220993, -71.42972233200362], [2336.2265193370167, -78.05267175767995], [1101.5469613259668, -240.91201177026426], [3085.5248618784526, 410.66553839279595], [4433.756906077349, -638.1520260401235], [1236.0994475138125, -107.4145338438841], [4214.530386740332, -1347.7935218405196], [1986.066298342541, -260.8314065345321], [3543.707182320442, -183.34294675633782], [1534.657458563536, -23.78471769316161], [3114.6298342541445, -537.0276590520284], [1524.9558011049726, -215.8813418989032], [3012.3922651933703, -947.3761106201646], [10672.585635359117, -1880.4188063909696], [2734.46408839779, -419.90018193472315], [17311.762430939227, -854.9131487476952], [2507.386740331492, -16.93466280192888], [4654.110497237569, 1561.4069693473893], [1307.0773480662986, -29.649255464206135], [3176.558011049724, -24.14607466403959], [672.7237569060774, -177.13582474626526], [10238.662983425414, 841.7597479156211], [5407.67955801105, -314.5165203201541], [1311.2044198895028, -334.8173487058443], [2451.734806629834, -335.50177734000636], [1.7955801104972375, -6134.348678080799], [1725.524861878453, -212.94890949358978], [2698.243093922652, -502.637244707184], [3443.8176795580107, -1241.4818420733586], [5517.674033149171, -783.4388102111225], [1064.3701657458564, -588.5395817605117], [4612.2928176795585, -6.752269112619615], [3321.5911602209944, -218.9269356697182], [2323.867403314917, 62.99469314595035], [4014.381215469613, -768.8165194264438], [7014.795580110497, 429.83493393785375], [1140.7016574585634, -279.3050767255402], [3818.375690607735, -367.14179486588955], [7019.127071823205, -367.40655342211085], [2690.2872928176794, -112.23686356003464], [6103.154696132597, -260.95565751421873], [4060.309392265193, -16.652843415581174], [3364.447513812155, -14.510191059292083], [2022.0939226519336, -39.529419097241544], [1468.220994475138, -397.2466999626738], [7642.607734806628, -2012.9277764398885], [3841.3646408839777, -648.1310348805127], [2345.4088397790056, -49.13895885303191], [451.8066298342541, -197.08236587554472], [10508.541436464091, -1892.7070224503314], [1725.651933701657, -176.1459961472192], [2942.033149171271, -398.44096878785103], [1026.3370165745855, -277.0934156508024], [5114.977900552486, -996.1601251126067], [2773.4088397790056, 749.7325749487909], [8473.6408839779, -517.4646342820233], [945.8950276243094, -475.30789495920203], [10593.546961325968, 2220.6972032714493], [5995.386740331492, -156.7763038199464], [2894.911602209945, -161.16904597068697], [1525.5524861878453, -347.5391067084827], [6011.86187845304, 851.5394775503355], [2474.8618784530386, -13.647378212967396], [5727.193370165746, -1918.6113001296007], [3613.5801104972375, -5.650061393003398], [4017.988950276244, -443.69015516877016], [2591.558011049724, -633.2908430870552], [1699.2872928176794, -666.0561474810713], [9859.9226519337, 919.3683882626356], [398.8674033149172, -100.26126271081847], [969.950276243094, -500.9886502050251], [6457.276243093925, 1065.3086899791124], [1931.5745856353592, -454.6627680328586], [4329.6850828729275, -634.4098855484071], [2430.3646408839772, 65.87760221094868], [2141.453038674033, 95.39235701008647], [4659.0110497237565, -441.1253124301693], [964.767955801105, -344.8196085706437], [1280.5690607734807, -145.88820656544817], [835.6132596685082, -298.81628280941527], [1421.5524861878453, -95.46296006914736], [16338.248618784532, 1746.1165870557088], [1329.4585635359115, -216.0359823340741], [1369.2928176795579, -261.3317468926766], [3475.2817679558007, -346.6967636401123], [3465.209944751381, -306.7234033745085], [5131.580110497238, -838.287582633272], [2493.1823204419893, -1062.7692154138178], [2341.016574585635, -154.15022184208192], [794.121546961326, -198.86890763243048], [2714.07182320442, 1336.1531168123092], [1350.2928176795579, 587.7829452623901]]}, \"id\": \"el85374774118512\", \"plugins\": [{\"type\": \"reset\"}, {\"type\": \"zoom\", \"button\": true, \"enabled\": false}, {\"type\": \"boxzoom\", \"button\": true, \"enabled\": false}, {\"type\": \"tooltip\", \"id\": \"el85374970124848\", \"labels\": [\"UIC-Halsted\", \"Halsted-Orange\", \"Granville\", \"Jackson/Dearborn\", \"Damen-Brown\", \"Damen/Milwaukee\", \"East 63rd-Cottage Grove\", \"Austin-Lake\", \"Cumberland\", \"35-Bronzeville-IIT\", \"Medical Center\", \"Grand/State\", \"Linden\", \"95th/Dan Ryan\", \"Noyes\", \"Pulaski-Cermak\", \"Dempster\", \"Merchandise Mart\", \"South Boulevard\", \"Jefferson Park\", \"51st\", \"Francisco\", \"Chicago/Franklin\", \"Western-Cermak\", \"Irving Park-O'Hare\", \"Montrose-Brown\", \"Kedzie-Cermak\", \"Chicago/State\", \"47th-South Elevated\", \"Howard\", \"Berwyn\", \"Garfield-South Elevated\", \"Adams/Wabash\", \"Lawrence\", \"Davis\", \"Ridgeland\", \"Foster\", \"43rd\", \"Garfield-Dan Ryan\", \"Central-Evanston\", \"Harlem-Forest Park\", \"Halsted/63rd\", \"Harlem-O'Hare\", \"Addison-North Main\", \"Roosevelt\", \"Irving Park-Brown\", \"Kedzie-Homan-Forest Park\", \"Western/Milwaukee\", \"Pulaski-Lake\", \"Main\", \"Paulina\", \"Cicero-Forest Park\", \"Southport\", \"Loyola\", \"Damen-Cermak\", \"69th\", \"Ashland-Lake\", \"Harrison\", \"Rockwell\", \"Harlem-Lake\", \"Austin-Forest Park\", \"Western-Orange\", \"Belmont-North Main\", \"Argyle\", \"Lake/State\", \"Wellington\", \"California/Milwaukee\", \"Ashland-Orange\", \"Sedgwick\", \"Indiana\", \"O'Hare Airport\", \"Rosemont\", \"Kedzie-Lake\", \"Polk\", \"Randolph/Wabash\", \"54th/Cermak\", \"Forest Park\", \"87th\", \"Wilson\", \"Cicero-Lake\", \"Belmont-O'Hare\", \"Kimball\", \"LaSalle/Van Buren\", \"Morse\", \"Clark/Division\", \"California-Cermak\", \"Cermak-Chinatown\", \"Midway Airport\", \"Thorndale\", \"Logan Square\", \"Pulaski-Orange\", \"Clinton-Lake\", \"Addison-Brown\", \"Pulaski-Forest Park\", \"Jackson/State\", \"Sox-35th-Dan Ryan\", \"Grand/Milwaukee\", \"King Drive\", \"Fullerton\", \"Kedzie-Brown\", \"Library\", \"Cicero-Cermak\", \"Division/Milwaukee\", \"Kedzie-Midway\", \"Monroe/State\", \"Ashland/63rd\", \"Washington/Dearborn\", \"Quincy/Wells\", \"Clinton-Forest Park\", \"18th\", \"Washington/Wells\", \"35th/Archer\", \"79th\", \"Armitage\", \"Bryn Mawr\", \"63rd-Dan Ryan\", \"Central-Lake\", \"State/Lake\", \"Kostner\", \"Laramie\", \"Monroe/Dearborn\", \"Racine\", \"Sheridan\", \"LaSalle\", \"Montrose-O'Hare\", \"Diversey\", \"Central Park\", \"Oak Park-Lake\", \"California-Lake\", \"Oak Park-Forest Park\", \"Clark/Lake\", \"Western-Forest Park\", \"Jarvis\", \"Western-Brown\", \"Chicago/Milwaukee\", \"North/Clybourn\", \"47th-Dan Ryan\", \"Addison-O'Hare\", \"Conservatory\", \"Morgan-Lake\", \"Cermak-McCormick Place\"], \"hoffset\": 0, \"voffset\": 10, \"location\": \"mouse\"}]});\n",
       "   }(mpld3);\n",
       "}else if(typeof define === \"function\" && define.amd){\n",
       "   // require.js is available: use it to load d3/mpld3\n",
       "   require.config({paths: {d3: \"https://mpld3.github.io/js/d3.v3.min\"}});\n",
       "   require([\"d3\"], function(d3){\n",
       "      window.d3 = d3;\n",
       "      mpld3_load_lib(\"https://mpld3.github.io/js/mpld3.v0.3.1.dev1.js\", function(){\n",
       "         \n",
       "         mpld3.draw_figure(\"fig_el853747741185123614200020\", {\"width\": 432.0, \"height\": 288.0, \"axes\": [{\"bbox\": [0.125, 0.125, 0.775, 0.755], \"xlim\": [-863.7126190617637, 18177.270630111485], \"ylim\": [-6552.1161487488525, 2638.464673939503], \"xdomain\": [-863.7126190617637, 18177.270630111485], \"ydomain\": [-6552.1161487488525, 2638.464673939503], \"xscale\": \"linear\", \"yscale\": \"linear\", \"axes\": [{\"position\": \"bottom\", \"nticks\": 10, \"tickvalues\": null, \"tickformat\": null, \"scale\": \"linear\", \"fontsize\": 10.0, \"grid\": {\"gridOn\": true, \"color\": \"#FFFFFF\", \"dasharray\": \"none\", \"alpha\": 1.0}, \"visible\": true}, {\"position\": \"left\", \"nticks\": 7, \"tickvalues\": null, \"tickformat\": null, \"scale\": \"linear\", \"fontsize\": 10.0, \"grid\": {\"gridOn\": true, \"color\": \"#FFFFFF\", \"dasharray\": \"none\", \"alpha\": 1.0}, \"visible\": true}], \"axesbg\": \"#EEEEEE\", \"axesbgalpha\": null, \"zoomable\": true, \"id\": \"el85375150343464\", \"lines\": [], \"paths\": [], \"markers\": [], \"texts\": [{\"text\": \"2018_mean vs rawchange_2018_2023\", \"position\": [0.49999999999999994, 1.0275938189845473], \"coordinates\": \"axes\", \"h_anchor\": \"middle\", \"v_baseline\": \"auto\", \"rotation\": -0.0, \"fontsize\": 20.0, \"color\": \"#000000\", \"alpha\": 1, \"zorder\": 3, \"id\": \"el85375150374880\"}], \"collections\": [{\"offsets\": \"data01\", \"xindex\": 0, \"yindex\": 1, \"paths\": [[[[0.0, -0.5], [0.13260155, -0.5], [0.25978993539242673, -0.44731684579412084], [0.3535533905932738, -0.3535533905932738], [0.44731684579412084, -0.25978993539242673], [0.5, -0.13260155], [0.5, 0.0], [0.5, 0.13260155], [0.44731684579412084, 0.25978993539242673], [0.3535533905932738, 0.3535533905932738], [0.25978993539242673, 0.44731684579412084], [0.13260155, 0.5], [0.0, 0.5], [-0.13260155, 0.5], [-0.25978993539242673, 0.44731684579412084], [-0.3535533905932738, 0.3535533905932738], [-0.44731684579412084, 0.25978993539242673], [-0.5, 0.13260155], [-0.5, 0.0], [-0.5, -0.13260155], [-0.44731684579412084, -0.25978993539242673], [-0.3535533905932738, -0.3535533905932738], [-0.25978993539242673, -0.44731684579412084], [-0.13260155, -0.5], [0.0, -0.5]], [\"M\", \"C\", \"C\", \"C\", \"C\", \"C\", \"C\", \"C\", \"C\", \"Z\"]]], \"pathtransforms\": [[6.0, 0.0, 0.0, 6.0, 0.0, 0.0]], \"alphas\": [0.3], \"edgecolors\": [\"#1F77B4\"], \"facecolors\": [\"#1F77B4\"], \"edgewidths\": [1.0], \"offsetcoordinates\": \"data\", \"pathcoordinates\": \"display\", \"zorder\": 1, \"id\": \"el85374970124848\"}], \"images\": [], \"sharex\": [], \"sharey\": []}], \"data\": {\"data01\": [[4399.8232044198885, 31.109366179480276], [2060.204419889503, -438.88081514670057], [3434.0165745856348, -561.9314556668364], [5655.419889502762, -1212.3997655509675], [2367.5856353591157, 331.06424760540676], [5565.867403314917, 1195.5910530238325], [901.9337016574583, -354.148685669643], [1521.011049723757, -280.29022539740754], [3595.0165745856348, -26.036516293807836], [1364.1988950276245, -767.3904120997887], [1627.53591160221, -1776.5104397325147], [10239.060773480664, -1224.8163246971708], [779.3370165745856, 103.40663708252066], [8286.629834254143, -2679.3414141594776], [804.9613259668507, 135.2463371734873], [880.9723756906078, -405.84919774814495], [744.8674033149173, -114.96384362901256], [6462.933701657458, 963.4988021268873], [644.4143646408841, -113.35757781661096], [5559.955801104972, -286.8416124567875], [808.3480662983426, -300.2032127018736], [1354.524861878453, 137.79091231356688], [5629.596685082874, -309.35442454722397], [959.4861878453039, -222.61286581393063], [3619.3204419889503, -475.5001408234207], [2326.8508287292816, -63.38327398778483], [868.4751381215469, -145.0394417522308], [12252.613259668507, -1762.312265178056], [946.0828729281767, -393.5040381007951], [4743.10497237569, -1569.3669660563714], [2895.5635359116027, -499.2366932882255], [1069.0662983425414, -299.51718162341797], [6045.596685082874, 380.1152391138248], [2809.0386740331487, -133.4573239858969], [3198.812154696132, -422.07937404765426], [1100.3204419889503, 78.02924891400517], [722.0331491712708, 12.467132725112265], [831.8453038674032, -201.27789056280062], [2756.6022099447514, -1027.6521194073218], [617.9502762430939, -42.402003166176655], [985.9779005524864, -5.410779851831762], [511.77900552486193, -268.2140941228755], [2351.795580110497, -349.43141725797614], [7318.331491712707, 737.017044336144], [9370.397790055247, -970.5691813152207], [2717.4198895027625, 8.047135820809672], [1735.7182320441987, -802.8627230080297], [4425.060773480663, -1201.5627064780015], [1170.7237569060776, -744.9977548761012], [1012.3591160220993, -71.42972233200362], [2336.2265193370167, -78.05267175767995], [1101.5469613259668, -240.91201177026426], [3085.5248618784526, 410.66553839279595], [4433.756906077349, -638.1520260401235], [1236.0994475138125, -107.4145338438841], [4214.530386740332, -1347.7935218405196], [1986.066298342541, -260.8314065345321], [3543.707182320442, -183.34294675633782], [1534.657458563536, -23.78471769316161], [3114.6298342541445, -537.0276590520284], [1524.9558011049726, -215.8813418989032], [3012.3922651933703, -947.3761106201646], [10672.585635359117, -1880.4188063909696], [2734.46408839779, -419.90018193472315], [17311.762430939227, -854.9131487476952], [2507.386740331492, -16.93466280192888], [4654.110497237569, 1561.4069693473893], [1307.0773480662986, -29.649255464206135], [3176.558011049724, -24.14607466403959], [672.7237569060774, -177.13582474626526], [10238.662983425414, 841.7597479156211], [5407.67955801105, -314.5165203201541], [1311.2044198895028, -334.8173487058443], [2451.734806629834, -335.50177734000636], [1.7955801104972375, -6134.348678080799], [1725.524861878453, -212.94890949358978], [2698.243093922652, -502.637244707184], [3443.8176795580107, -1241.4818420733586], [5517.674033149171, -783.4388102111225], [1064.3701657458564, -588.5395817605117], [4612.2928176795585, -6.752269112619615], [3321.5911602209944, -218.9269356697182], [2323.867403314917, 62.99469314595035], [4014.381215469613, -768.8165194264438], [7014.795580110497, 429.83493393785375], [1140.7016574585634, -279.3050767255402], [3818.375690607735, -367.14179486588955], [7019.127071823205, -367.40655342211085], [2690.2872928176794, -112.23686356003464], [6103.154696132597, -260.95565751421873], [4060.309392265193, -16.652843415581174], [3364.447513812155, -14.510191059292083], [2022.0939226519336, -39.529419097241544], [1468.220994475138, -397.2466999626738], [7642.607734806628, -2012.9277764398885], [3841.3646408839777, -648.1310348805127], [2345.4088397790056, -49.13895885303191], [451.8066298342541, -197.08236587554472], [10508.541436464091, -1892.7070224503314], [1725.651933701657, -176.1459961472192], [2942.033149171271, -398.44096878785103], [1026.3370165745855, -277.0934156508024], [5114.977900552486, -996.1601251126067], [2773.4088397790056, 749.7325749487909], [8473.6408839779, -517.4646342820233], [945.8950276243094, -475.30789495920203], [10593.546961325968, 2220.6972032714493], [5995.386740331492, -156.7763038199464], [2894.911602209945, -161.16904597068697], [1525.5524861878453, -347.5391067084827], [6011.86187845304, 851.5394775503355], [2474.8618784530386, -13.647378212967396], [5727.193370165746, -1918.6113001296007], [3613.5801104972375, -5.650061393003398], [4017.988950276244, -443.69015516877016], [2591.558011049724, -633.2908430870552], [1699.2872928176794, -666.0561474810713], [9859.9226519337, 919.3683882626356], [398.8674033149172, -100.26126271081847], [969.950276243094, -500.9886502050251], [6457.276243093925, 1065.3086899791124], [1931.5745856353592, -454.6627680328586], [4329.6850828729275, -634.4098855484071], [2430.3646408839772, 65.87760221094868], [2141.453038674033, 95.39235701008647], [4659.0110497237565, -441.1253124301693], [964.767955801105, -344.8196085706437], [1280.5690607734807, -145.88820656544817], [835.6132596685082, -298.81628280941527], [1421.5524861878453, -95.46296006914736], [16338.248618784532, 1746.1165870557088], [1329.4585635359115, -216.0359823340741], [1369.2928176795579, -261.3317468926766], [3475.2817679558007, -346.6967636401123], [3465.209944751381, -306.7234033745085], [5131.580110497238, -838.287582633272], [2493.1823204419893, -1062.7692154138178], [2341.016574585635, -154.15022184208192], [794.121546961326, -198.86890763243048], [2714.07182320442, 1336.1531168123092], [1350.2928176795579, 587.7829452623901]]}, \"id\": \"el85374774118512\", \"plugins\": [{\"type\": \"reset\"}, {\"type\": \"zoom\", \"button\": true, \"enabled\": false}, {\"type\": \"boxzoom\", \"button\": true, \"enabled\": false}, {\"type\": \"tooltip\", \"id\": \"el85374970124848\", \"labels\": [\"UIC-Halsted\", \"Halsted-Orange\", \"Granville\", \"Jackson/Dearborn\", \"Damen-Brown\", \"Damen/Milwaukee\", \"East 63rd-Cottage Grove\", \"Austin-Lake\", \"Cumberland\", \"35-Bronzeville-IIT\", \"Medical Center\", \"Grand/State\", \"Linden\", \"95th/Dan Ryan\", \"Noyes\", \"Pulaski-Cermak\", \"Dempster\", \"Merchandise Mart\", \"South Boulevard\", \"Jefferson Park\", \"51st\", \"Francisco\", \"Chicago/Franklin\", \"Western-Cermak\", \"Irving Park-O'Hare\", \"Montrose-Brown\", \"Kedzie-Cermak\", \"Chicago/State\", \"47th-South Elevated\", \"Howard\", \"Berwyn\", \"Garfield-South Elevated\", \"Adams/Wabash\", \"Lawrence\", \"Davis\", \"Ridgeland\", \"Foster\", \"43rd\", \"Garfield-Dan Ryan\", \"Central-Evanston\", \"Harlem-Forest Park\", \"Halsted/63rd\", \"Harlem-O'Hare\", \"Addison-North Main\", \"Roosevelt\", \"Irving Park-Brown\", \"Kedzie-Homan-Forest Park\", \"Western/Milwaukee\", \"Pulaski-Lake\", \"Main\", \"Paulina\", \"Cicero-Forest Park\", \"Southport\", \"Loyola\", \"Damen-Cermak\", \"69th\", \"Ashland-Lake\", \"Harrison\", \"Rockwell\", \"Harlem-Lake\", \"Austin-Forest Park\", \"Western-Orange\", \"Belmont-North Main\", \"Argyle\", \"Lake/State\", \"Wellington\", \"California/Milwaukee\", \"Ashland-Orange\", \"Sedgwick\", \"Indiana\", \"O'Hare Airport\", \"Rosemont\", \"Kedzie-Lake\", \"Polk\", \"Randolph/Wabash\", \"54th/Cermak\", \"Forest Park\", \"87th\", \"Wilson\", \"Cicero-Lake\", \"Belmont-O'Hare\", \"Kimball\", \"LaSalle/Van Buren\", \"Morse\", \"Clark/Division\", \"California-Cermak\", \"Cermak-Chinatown\", \"Midway Airport\", \"Thorndale\", \"Logan Square\", \"Pulaski-Orange\", \"Clinton-Lake\", \"Addison-Brown\", \"Pulaski-Forest Park\", \"Jackson/State\", \"Sox-35th-Dan Ryan\", \"Grand/Milwaukee\", \"King Drive\", \"Fullerton\", \"Kedzie-Brown\", \"Library\", \"Cicero-Cermak\", \"Division/Milwaukee\", \"Kedzie-Midway\", \"Monroe/State\", \"Ashland/63rd\", \"Washington/Dearborn\", \"Quincy/Wells\", \"Clinton-Forest Park\", \"18th\", \"Washington/Wells\", \"35th/Archer\", \"79th\", \"Armitage\", \"Bryn Mawr\", \"63rd-Dan Ryan\", \"Central-Lake\", \"State/Lake\", \"Kostner\", \"Laramie\", \"Monroe/Dearborn\", \"Racine\", \"Sheridan\", \"LaSalle\", \"Montrose-O'Hare\", \"Diversey\", \"Central Park\", \"Oak Park-Lake\", \"California-Lake\", \"Oak Park-Forest Park\", \"Clark/Lake\", \"Western-Forest Park\", \"Jarvis\", \"Western-Brown\", \"Chicago/Milwaukee\", \"North/Clybourn\", \"47th-Dan Ryan\", \"Addison-O'Hare\", \"Conservatory\", \"Morgan-Lake\", \"Cermak-McCormick Place\"], \"hoffset\": 0, \"voffset\": 10, \"location\": \"mouse\"}]});\n",
       "      });\n",
       "    });\n",
       "}else{\n",
       "    // require.js not available: dynamically load d3 & mpld3\n",
       "    mpld3_load_lib(\"https://mpld3.github.io/js/d3.v3.min.js\", function(){\n",
       "         mpld3_load_lib(\"https://mpld3.github.io/js/mpld3.v0.3.1.dev1.js\", function(){\n",
       "                 \n",
       "                 mpld3.draw_figure(\"fig_el853747741185123614200020\", {\"width\": 432.0, \"height\": 288.0, \"axes\": [{\"bbox\": [0.125, 0.125, 0.775, 0.755], \"xlim\": [-863.7126190617637, 18177.270630111485], \"ylim\": [-6552.1161487488525, 2638.464673939503], \"xdomain\": [-863.7126190617637, 18177.270630111485], \"ydomain\": [-6552.1161487488525, 2638.464673939503], \"xscale\": \"linear\", \"yscale\": \"linear\", \"axes\": [{\"position\": \"bottom\", \"nticks\": 10, \"tickvalues\": null, \"tickformat\": null, \"scale\": \"linear\", \"fontsize\": 10.0, \"grid\": {\"gridOn\": true, \"color\": \"#FFFFFF\", \"dasharray\": \"none\", \"alpha\": 1.0}, \"visible\": true}, {\"position\": \"left\", \"nticks\": 7, \"tickvalues\": null, \"tickformat\": null, \"scale\": \"linear\", \"fontsize\": 10.0, \"grid\": {\"gridOn\": true, \"color\": \"#FFFFFF\", \"dasharray\": \"none\", \"alpha\": 1.0}, \"visible\": true}], \"axesbg\": \"#EEEEEE\", \"axesbgalpha\": null, \"zoomable\": true, \"id\": \"el85375150343464\", \"lines\": [], \"paths\": [], \"markers\": [], \"texts\": [{\"text\": \"2018_mean vs rawchange_2018_2023\", \"position\": [0.49999999999999994, 1.0275938189845473], \"coordinates\": \"axes\", \"h_anchor\": \"middle\", \"v_baseline\": \"auto\", \"rotation\": -0.0, \"fontsize\": 20.0, \"color\": \"#000000\", \"alpha\": 1, \"zorder\": 3, \"id\": \"el85375150374880\"}], \"collections\": [{\"offsets\": \"data01\", \"xindex\": 0, \"yindex\": 1, \"paths\": [[[[0.0, -0.5], [0.13260155, -0.5], [0.25978993539242673, -0.44731684579412084], [0.3535533905932738, -0.3535533905932738], [0.44731684579412084, -0.25978993539242673], [0.5, -0.13260155], [0.5, 0.0], [0.5, 0.13260155], [0.44731684579412084, 0.25978993539242673], [0.3535533905932738, 0.3535533905932738], [0.25978993539242673, 0.44731684579412084], [0.13260155, 0.5], [0.0, 0.5], [-0.13260155, 0.5], [-0.25978993539242673, 0.44731684579412084], [-0.3535533905932738, 0.3535533905932738], [-0.44731684579412084, 0.25978993539242673], [-0.5, 0.13260155], [-0.5, 0.0], [-0.5, -0.13260155], [-0.44731684579412084, -0.25978993539242673], [-0.3535533905932738, -0.3535533905932738], [-0.25978993539242673, -0.44731684579412084], [-0.13260155, -0.5], [0.0, -0.5]], [\"M\", \"C\", \"C\", \"C\", \"C\", \"C\", \"C\", \"C\", \"C\", \"Z\"]]], \"pathtransforms\": [[6.0, 0.0, 0.0, 6.0, 0.0, 0.0]], \"alphas\": [0.3], \"edgecolors\": [\"#1F77B4\"], \"facecolors\": [\"#1F77B4\"], \"edgewidths\": [1.0], \"offsetcoordinates\": \"data\", \"pathcoordinates\": \"display\", \"zorder\": 1, \"id\": \"el85374970124848\"}], \"images\": [], \"sharex\": [], \"sharey\": []}], \"data\": {\"data01\": [[4399.8232044198885, 31.109366179480276], [2060.204419889503, -438.88081514670057], [3434.0165745856348, -561.9314556668364], [5655.419889502762, -1212.3997655509675], [2367.5856353591157, 331.06424760540676], [5565.867403314917, 1195.5910530238325], [901.9337016574583, -354.148685669643], [1521.011049723757, -280.29022539740754], [3595.0165745856348, -26.036516293807836], [1364.1988950276245, -767.3904120997887], [1627.53591160221, -1776.5104397325147], [10239.060773480664, -1224.8163246971708], [779.3370165745856, 103.40663708252066], [8286.629834254143, -2679.3414141594776], [804.9613259668507, 135.2463371734873], [880.9723756906078, -405.84919774814495], [744.8674033149173, -114.96384362901256], [6462.933701657458, 963.4988021268873], [644.4143646408841, -113.35757781661096], [5559.955801104972, -286.8416124567875], [808.3480662983426, -300.2032127018736], [1354.524861878453, 137.79091231356688], [5629.596685082874, -309.35442454722397], [959.4861878453039, -222.61286581393063], [3619.3204419889503, -475.5001408234207], [2326.8508287292816, -63.38327398778483], [868.4751381215469, -145.0394417522308], [12252.613259668507, -1762.312265178056], [946.0828729281767, -393.5040381007951], [4743.10497237569, -1569.3669660563714], [2895.5635359116027, -499.2366932882255], [1069.0662983425414, -299.51718162341797], [6045.596685082874, 380.1152391138248], [2809.0386740331487, -133.4573239858969], [3198.812154696132, -422.07937404765426], [1100.3204419889503, 78.02924891400517], [722.0331491712708, 12.467132725112265], [831.8453038674032, -201.27789056280062], [2756.6022099447514, -1027.6521194073218], [617.9502762430939, -42.402003166176655], [985.9779005524864, -5.410779851831762], [511.77900552486193, -268.2140941228755], [2351.795580110497, -349.43141725797614], [7318.331491712707, 737.017044336144], [9370.397790055247, -970.5691813152207], [2717.4198895027625, 8.047135820809672], [1735.7182320441987, -802.8627230080297], [4425.060773480663, -1201.5627064780015], [1170.7237569060776, -744.9977548761012], [1012.3591160220993, -71.42972233200362], [2336.2265193370167, -78.05267175767995], [1101.5469613259668, -240.91201177026426], [3085.5248618784526, 410.66553839279595], [4433.756906077349, -638.1520260401235], [1236.0994475138125, -107.4145338438841], [4214.530386740332, -1347.7935218405196], [1986.066298342541, -260.8314065345321], [3543.707182320442, -183.34294675633782], [1534.657458563536, -23.78471769316161], [3114.6298342541445, -537.0276590520284], [1524.9558011049726, -215.8813418989032], [3012.3922651933703, -947.3761106201646], [10672.585635359117, -1880.4188063909696], [2734.46408839779, -419.90018193472315], [17311.762430939227, -854.9131487476952], [2507.386740331492, -16.93466280192888], [4654.110497237569, 1561.4069693473893], [1307.0773480662986, -29.649255464206135], [3176.558011049724, -24.14607466403959], [672.7237569060774, -177.13582474626526], [10238.662983425414, 841.7597479156211], [5407.67955801105, -314.5165203201541], [1311.2044198895028, -334.8173487058443], [2451.734806629834, -335.50177734000636], [1.7955801104972375, -6134.348678080799], [1725.524861878453, -212.94890949358978], [2698.243093922652, -502.637244707184], [3443.8176795580107, -1241.4818420733586], [5517.674033149171, -783.4388102111225], [1064.3701657458564, -588.5395817605117], [4612.2928176795585, -6.752269112619615], [3321.5911602209944, -218.9269356697182], [2323.867403314917, 62.99469314595035], [4014.381215469613, -768.8165194264438], [7014.795580110497, 429.83493393785375], [1140.7016574585634, -279.3050767255402], [3818.375690607735, -367.14179486588955], [7019.127071823205, -367.40655342211085], [2690.2872928176794, -112.23686356003464], [6103.154696132597, -260.95565751421873], [4060.309392265193, -16.652843415581174], [3364.447513812155, -14.510191059292083], [2022.0939226519336, -39.529419097241544], [1468.220994475138, -397.2466999626738], [7642.607734806628, -2012.9277764398885], [3841.3646408839777, -648.1310348805127], [2345.4088397790056, -49.13895885303191], [451.8066298342541, -197.08236587554472], [10508.541436464091, -1892.7070224503314], [1725.651933701657, -176.1459961472192], [2942.033149171271, -398.44096878785103], [1026.3370165745855, -277.0934156508024], [5114.977900552486, -996.1601251126067], [2773.4088397790056, 749.7325749487909], [8473.6408839779, -517.4646342820233], [945.8950276243094, -475.30789495920203], [10593.546961325968, 2220.6972032714493], [5995.386740331492, -156.7763038199464], [2894.911602209945, -161.16904597068697], [1525.5524861878453, -347.5391067084827], [6011.86187845304, 851.5394775503355], [2474.8618784530386, -13.647378212967396], [5727.193370165746, -1918.6113001296007], [3613.5801104972375, -5.650061393003398], [4017.988950276244, -443.69015516877016], [2591.558011049724, -633.2908430870552], [1699.2872928176794, -666.0561474810713], [9859.9226519337, 919.3683882626356], [398.8674033149172, -100.26126271081847], [969.950276243094, -500.9886502050251], [6457.276243093925, 1065.3086899791124], [1931.5745856353592, -454.6627680328586], [4329.6850828729275, -634.4098855484071], [2430.3646408839772, 65.87760221094868], [2141.453038674033, 95.39235701008647], [4659.0110497237565, -441.1253124301693], [964.767955801105, -344.8196085706437], [1280.5690607734807, -145.88820656544817], [835.6132596685082, -298.81628280941527], [1421.5524861878453, -95.46296006914736], [16338.248618784532, 1746.1165870557088], [1329.4585635359115, -216.0359823340741], [1369.2928176795579, -261.3317468926766], [3475.2817679558007, -346.6967636401123], [3465.209944751381, -306.7234033745085], [5131.580110497238, -838.287582633272], [2493.1823204419893, -1062.7692154138178], [2341.016574585635, -154.15022184208192], [794.121546961326, -198.86890763243048], [2714.07182320442, 1336.1531168123092], [1350.2928176795579, 587.7829452623901]]}, \"id\": \"el85374774118512\", \"plugins\": [{\"type\": \"reset\"}, {\"type\": \"zoom\", \"button\": true, \"enabled\": false}, {\"type\": \"boxzoom\", \"button\": true, \"enabled\": false}, {\"type\": \"tooltip\", \"id\": \"el85374970124848\", \"labels\": [\"UIC-Halsted\", \"Halsted-Orange\", \"Granville\", \"Jackson/Dearborn\", \"Damen-Brown\", \"Damen/Milwaukee\", \"East 63rd-Cottage Grove\", \"Austin-Lake\", \"Cumberland\", \"35-Bronzeville-IIT\", \"Medical Center\", \"Grand/State\", \"Linden\", \"95th/Dan Ryan\", \"Noyes\", \"Pulaski-Cermak\", \"Dempster\", \"Merchandise Mart\", \"South Boulevard\", \"Jefferson Park\", \"51st\", \"Francisco\", \"Chicago/Franklin\", \"Western-Cermak\", \"Irving Park-O'Hare\", \"Montrose-Brown\", \"Kedzie-Cermak\", \"Chicago/State\", \"47th-South Elevated\", \"Howard\", \"Berwyn\", \"Garfield-South Elevated\", \"Adams/Wabash\", \"Lawrence\", \"Davis\", \"Ridgeland\", \"Foster\", \"43rd\", \"Garfield-Dan Ryan\", \"Central-Evanston\", \"Harlem-Forest Park\", \"Halsted/63rd\", \"Harlem-O'Hare\", \"Addison-North Main\", \"Roosevelt\", \"Irving Park-Brown\", \"Kedzie-Homan-Forest Park\", \"Western/Milwaukee\", \"Pulaski-Lake\", \"Main\", \"Paulina\", \"Cicero-Forest Park\", \"Southport\", \"Loyola\", \"Damen-Cermak\", \"69th\", \"Ashland-Lake\", \"Harrison\", \"Rockwell\", \"Harlem-Lake\", \"Austin-Forest Park\", \"Western-Orange\", \"Belmont-North Main\", \"Argyle\", \"Lake/State\", \"Wellington\", \"California/Milwaukee\", \"Ashland-Orange\", \"Sedgwick\", \"Indiana\", \"O'Hare Airport\", \"Rosemont\", \"Kedzie-Lake\", \"Polk\", \"Randolph/Wabash\", \"54th/Cermak\", \"Forest Park\", \"87th\", \"Wilson\", \"Cicero-Lake\", \"Belmont-O'Hare\", \"Kimball\", \"LaSalle/Van Buren\", \"Morse\", \"Clark/Division\", \"California-Cermak\", \"Cermak-Chinatown\", \"Midway Airport\", \"Thorndale\", \"Logan Square\", \"Pulaski-Orange\", \"Clinton-Lake\", \"Addison-Brown\", \"Pulaski-Forest Park\", \"Jackson/State\", \"Sox-35th-Dan Ryan\", \"Grand/Milwaukee\", \"King Drive\", \"Fullerton\", \"Kedzie-Brown\", \"Library\", \"Cicero-Cermak\", \"Division/Milwaukee\", \"Kedzie-Midway\", \"Monroe/State\", \"Ashland/63rd\", \"Washington/Dearborn\", \"Quincy/Wells\", \"Clinton-Forest Park\", \"18th\", \"Washington/Wells\", \"35th/Archer\", \"79th\", \"Armitage\", \"Bryn Mawr\", \"63rd-Dan Ryan\", \"Central-Lake\", \"State/Lake\", \"Kostner\", \"Laramie\", \"Monroe/Dearborn\", \"Racine\", \"Sheridan\", \"LaSalle\", \"Montrose-O'Hare\", \"Diversey\", \"Central Park\", \"Oak Park-Lake\", \"California-Lake\", \"Oak Park-Forest Park\", \"Clark/Lake\", \"Western-Forest Park\", \"Jarvis\", \"Western-Brown\", \"Chicago/Milwaukee\", \"North/Clybourn\", \"47th-Dan Ryan\", \"Addison-O'Hare\", \"Conservatory\", \"Morgan-Lake\", \"Cermak-McCormick Place\"], \"hoffset\": 0, \"voffset\": 10, \"location\": \"mouse\"}]});\n",
       "            })\n",
       "         });\n",
       "}\n",
       "</script>"
      ],
      "text/plain": [
       "<IPython.core.display.HTML object>"
      ]
     },
     "execution_count": 50,
     "metadata": {},
     "output_type": "execute_result"
    }
   ],
   "source": [
    "# def mpld_scatter(df,x,y):\n",
    "df=station_summary\n",
    "x='2018_mean'\n",
    "y='rawchange_2018_2023'\n",
    "fig, ax = plt.subplots(subplot_kw=dict(facecolor='#EEEEEE'))\n",
    "\n",
    "scatter = ax.scatter(np.array(df[x], dtype=float),\n",
    "                     np.array(df[y], dtype=float),\n",
    "#                          c=np.random.random(size=len(all_top.latitude)),\n",
    "#                          s=np.array(5000 * all_top['5yr_percent_diff_ave'] , dtype=float),\n",
    "                     alpha=0.3,\n",
    "                     cmap=plt.cm.jet)\n",
    "ax.grid(color='white', linestyle='solid')\n",
    "#     ax.set_xlim([-87.9,-87.6])\n",
    "#     ax.set_ylim([41.7,42.1])\n",
    "ax.set_title(x+' vs '+y, size=20)\n",
    "\n",
    "labels = df['station'].tolist()\n",
    "tooltip = mpld3.plugins.PointLabelTooltip(scatter, labels=labels)\n",
    "mpld3.plugins.connect(fig, tooltip)\n",
    "\n",
    "mpld3.display()"
   ]
  },
  {
   "cell_type": "code",
   "execution_count": 46,
   "metadata": {},
   "outputs": [],
   "source": [
    "station_summary['pctchange_2018_2023'] = ((\n",
    "    station_summary['2023_predicted_mean']/station_summary['2018_mean'])-1)*100"
   ]
  },
  {
   "cell_type": "code",
   "execution_count": 47,
   "metadata": {},
   "outputs": [],
   "source": [
    "station_summary['rawchange_2018_2023'] = (\n",
    "    station_summary['2023_predicted_mean']-station_summary['2018_mean'])"
   ]
  },
  {
   "cell_type": "code",
   "execution_count": 56,
   "metadata": {},
   "outputs": [
    {
     "data": {
      "text/html": [
       "<div>\n",
       "<style scoped>\n",
       "    .dataframe tbody tr th:only-of-type {\n",
       "        vertical-align: middle;\n",
       "    }\n",
       "\n",
       "    .dataframe tbody tr th {\n",
       "        vertical-align: top;\n",
       "    }\n",
       "\n",
       "    .dataframe thead th {\n",
       "        text-align: right;\n",
       "    }\n",
       "</style>\n",
       "<table border=\"1\" class=\"dataframe\">\n",
       "  <thead>\n",
       "    <tr style=\"text-align: right;\">\n",
       "      <th></th>\n",
       "      <th>Unnamed: 0</th>\n",
       "      <th>2017_mean</th>\n",
       "      <th>2017_std</th>\n",
       "      <th>2018_mean</th>\n",
       "      <th>2018_predicted_mean</th>\n",
       "      <th>2018_predicted_std</th>\n",
       "      <th>2018_std</th>\n",
       "      <th>2019_predicted_mean</th>\n",
       "      <th>2019_predicted_std</th>\n",
       "      <th>2020_predicted_mean</th>\n",
       "      <th>...</th>\n",
       "      <th>daily_std</th>\n",
       "      <th>latitude</th>\n",
       "      <th>longitude</th>\n",
       "      <th>num_na</th>\n",
       "      <th>num_yrs_from_past_5</th>\n",
       "      <th>station</th>\n",
       "      <th>weekday-sat</th>\n",
       "      <th>weekday-sun</th>\n",
       "      <th>pctchange_2018_2023</th>\n",
       "      <th>rawchange_2018_2023</th>\n",
       "    </tr>\n",
       "  </thead>\n",
       "  <tbody>\n",
       "    <tr>\n",
       "      <th>4</th>\n",
       "      <td>4</td>\n",
       "      <td>2393.493151</td>\n",
       "      <td>796.531053</td>\n",
       "      <td>2367.585635</td>\n",
       "      <td>2456.880961</td>\n",
       "      <td>539.261528</td>\n",
       "      <td>799.099389</td>\n",
       "      <td>2506.010430</td>\n",
       "      <td>526.299024</td>\n",
       "      <td>2554.830372</td>\n",
       "      <td>...</td>\n",
       "      <td>823.349920</td>\n",
       "      <td>0.000000</td>\n",
       "      <td>0.000000</td>\n",
       "      <td>0</td>\n",
       "      <td>5</td>\n",
       "      <td>Damen-Brown</td>\n",
       "      <td>903.310217</td>\n",
       "      <td>1361.174779</td>\n",
       "      <td>13.983201</td>\n",
       "      <td>331.064248</td>\n",
       "    </tr>\n",
       "    <tr>\n",
       "      <th>22</th>\n",
       "      <td>22</td>\n",
       "      <td>1390.630137</td>\n",
       "      <td>462.437359</td>\n",
       "      <td>1354.524862</td>\n",
       "      <td>1399.615645</td>\n",
       "      <td>347.745059</td>\n",
       "      <td>441.413217</td>\n",
       "      <td>1416.664866</td>\n",
       "      <td>342.201087</td>\n",
       "      <td>1436.797897</td>\n",
       "      <td>...</td>\n",
       "      <td>460.704678</td>\n",
       "      <td>41.966046</td>\n",
       "      <td>-87.701644</td>\n",
       "      <td>0</td>\n",
       "      <td>5</td>\n",
       "      <td>Francisco</td>\n",
       "      <td>617.969480</td>\n",
       "      <td>858.282127</td>\n",
       "      <td>10.172638</td>\n",
       "      <td>137.790912</td>\n",
       "    </tr>\n",
       "    <tr>\n",
       "      <th>53</th>\n",
       "      <td>53</td>\n",
       "      <td>3117.375342</td>\n",
       "      <td>926.071992</td>\n",
       "      <td>3085.524862</td>\n",
       "      <td>3219.667748</td>\n",
       "      <td>696.725256</td>\n",
       "      <td>879.591152</td>\n",
       "      <td>3249.010069</td>\n",
       "      <td>678.496136</td>\n",
       "      <td>3323.045816</td>\n",
       "      <td>...</td>\n",
       "      <td>1042.708096</td>\n",
       "      <td>41.943744</td>\n",
       "      <td>-87.663619</td>\n",
       "      <td>0</td>\n",
       "      <td>5</td>\n",
       "      <td>Southport</td>\n",
       "      <td>1129.216004</td>\n",
       "      <td>1744.305583</td>\n",
       "      <td>13.309422</td>\n",
       "      <td>410.665538</td>\n",
       "    </tr>\n",
       "    <tr>\n",
       "      <th>104</th>\n",
       "      <td>104</td>\n",
       "      <td>2912.413699</td>\n",
       "      <td>957.164850</td>\n",
       "      <td>2773.408840</td>\n",
       "      <td>3034.826845</td>\n",
       "      <td>853.339375</td>\n",
       "      <td>943.320123</td>\n",
       "      <td>3106.311749</td>\n",
       "      <td>839.965925</td>\n",
       "      <td>3222.984025</td>\n",
       "      <td>...</td>\n",
       "      <td>927.232685</td>\n",
       "      <td>0.000000</td>\n",
       "      <td>0.000000</td>\n",
       "      <td>0</td>\n",
       "      <td>5</td>\n",
       "      <td>Kedzie-Midway</td>\n",
       "      <td>1563.859520</td>\n",
       "      <td>2082.876040</td>\n",
       "      <td>27.032891</td>\n",
       "      <td>749.732575</td>\n",
       "    </tr>\n",
       "    <tr>\n",
       "      <th>143</th>\n",
       "      <td>144</td>\n",
       "      <td>2490.060274</td>\n",
       "      <td>733.703747</td>\n",
       "      <td>2714.071823</td>\n",
       "      <td>2887.712991</td>\n",
       "      <td>563.358105</td>\n",
       "      <td>774.501001</td>\n",
       "      <td>3060.157142</td>\n",
       "      <td>575.112821</td>\n",
       "      <td>3334.157447</td>\n",
       "      <td>...</td>\n",
       "      <td>794.779758</td>\n",
       "      <td>0.000000</td>\n",
       "      <td>0.000000</td>\n",
       "      <td>0</td>\n",
       "      <td>5</td>\n",
       "      <td>Morgan-Lake</td>\n",
       "      <td>957.675770</td>\n",
       "      <td>1395.491499</td>\n",
       "      <td>49.230573</td>\n",
       "      <td>1336.153117</td>\n",
       "    </tr>\n",
       "    <tr>\n",
       "      <th>144</th>\n",
       "      <td>145</td>\n",
       "      <td>1305.169863</td>\n",
       "      <td>486.903429</td>\n",
       "      <td>1350.292818</td>\n",
       "      <td>1501.448972</td>\n",
       "      <td>310.151868</td>\n",
       "      <td>421.841739</td>\n",
       "      <td>1541.484742</td>\n",
       "      <td>304.291022</td>\n",
       "      <td>1660.753258</td>\n",
       "      <td>...</td>\n",
       "      <td>489.734903</td>\n",
       "      <td>41.853115</td>\n",
       "      <td>-87.626402</td>\n",
       "      <td>0</td>\n",
       "      <td>3</td>\n",
       "      <td>Cermak-McCormick Place</td>\n",
       "      <td>260.962888</td>\n",
       "      <td>583.508525</td>\n",
       "      <td>43.530036</td>\n",
       "      <td>587.782945</td>\n",
       "    </tr>\n",
       "  </tbody>\n",
       "</table>\n",
       "<p>6 rows × 36 columns</p>\n",
       "</div>"
      ],
      "text/plain": [
       "     Unnamed: 0    2017_mean    2017_std    2018_mean  2018_predicted_mean  \\\n",
       "4             4  2393.493151  796.531053  2367.585635          2456.880961   \n",
       "22           22  1390.630137  462.437359  1354.524862          1399.615645   \n",
       "53           53  3117.375342  926.071992  3085.524862          3219.667748   \n",
       "104         104  2912.413699  957.164850  2773.408840          3034.826845   \n",
       "143         144  2490.060274  733.703747  2714.071823          2887.712991   \n",
       "144         145  1305.169863  486.903429  1350.292818          1501.448972   \n",
       "\n",
       "     2018_predicted_std    2018_std  2019_predicted_mean  2019_predicted_std  \\\n",
       "4            539.261528  799.099389          2506.010430          526.299024   \n",
       "22           347.745059  441.413217          1416.664866          342.201087   \n",
       "53           696.725256  879.591152          3249.010069          678.496136   \n",
       "104          853.339375  943.320123          3106.311749          839.965925   \n",
       "143          563.358105  774.501001          3060.157142          575.112821   \n",
       "144          310.151868  421.841739          1541.484742          304.291022   \n",
       "\n",
       "     2020_predicted_mean         ...             daily_std   latitude  \\\n",
       "4            2554.830372         ...            823.349920   0.000000   \n",
       "22           1436.797897         ...            460.704678  41.966046   \n",
       "53           3323.045816         ...           1042.708096  41.943744   \n",
       "104          3222.984025         ...            927.232685   0.000000   \n",
       "143          3334.157447         ...            794.779758   0.000000   \n",
       "144          1660.753258         ...            489.734903  41.853115   \n",
       "\n",
       "     longitude  num_na  num_yrs_from_past_5                 station  \\\n",
       "4     0.000000       0                    5             Damen-Brown   \n",
       "22  -87.701644       0                    5               Francisco   \n",
       "53  -87.663619       0                    5               Southport   \n",
       "104   0.000000       0                    5           Kedzie-Midway   \n",
       "143   0.000000       0                    5             Morgan-Lake   \n",
       "144 -87.626402       0                    3  Cermak-McCormick Place   \n",
       "\n",
       "     weekday-sat  weekday-sun  pctchange_2018_2023  rawchange_2018_2023  \n",
       "4     903.310217  1361.174779            13.983201           331.064248  \n",
       "22    617.969480   858.282127            10.172638           137.790912  \n",
       "53   1129.216004  1744.305583            13.309422           410.665538  \n",
       "104  1563.859520  2082.876040            27.032891           749.732575  \n",
       "143   957.675770  1395.491499            49.230573          1336.153117  \n",
       "144   260.962888   583.508525            43.530036           587.782945  \n",
       "\n",
       "[6 rows x 36 columns]"
      ]
     },
     "execution_count": 56,
     "metadata": {},
     "output_type": "execute_result"
    }
   ],
   "source": [
    "mean_real75 = station_summary.describe()['2018_mean'].loc['75%']\n",
    "mean_real25 = station_summary.describe()['2018_mean'].loc['25%']\n",
    "\n",
    "mean_pred_raw75 = station_summary.describe()['rawchange_2018_2023'].loc['75%']\n",
    "mean_pred_pct75 = station_summary.describe()['pctchange_2018_2023'].loc['75%']\n",
    "\n",
    "station_summary[(station_summary['2018_mean']<mean_real75) & (\n",
    "    station_summary['2018_mean']>mean_real25) &\n",
    "               (station_summary['pctchange_2018_2023']>5)]"
   ]
  },
  {
   "cell_type": "code",
   "execution_count": null,
   "metadata": {},
   "outputs": [],
   "source": [
    "high_stds = station_summary.sort_values(by='daily_std', ascending=False).iloc[0:10]\n",
    "high_stations = high_stds.station.tolist()\n",
    "high_stds.set_index('station', inplace=True)"
   ]
  },
  {
   "cell_type": "code",
   "execution_count": null,
   "metadata": {},
   "outputs": [],
   "source": [
    "high_stds"
   ]
  },
  {
   "cell_type": "code",
   "execution_count": null,
   "metadata": {
    "scrolled": true
   },
   "outputs": [],
   "source": [
    "for stat in high_stations:\n",
    "    stat = Station(stat, ride_df, map_df)\n",
    "    stat.make_layered_hist('daytype')"
   ]
  },
  {
   "cell_type": "code",
   "execution_count": null,
   "metadata": {},
   "outputs": [],
   "source": [
    "for stat in high_stations:\n",
    "    stat = Station(stat, ride_df, map_df)\n",
    "    stat.make_layered_hist('season')"
   ]
  },
  {
   "cell_type": "code",
   "execution_count": null,
   "metadata": {},
   "outputs": [],
   "source": [
    "fig, ax = plt.subplots()\n",
    "sns.scatterplot(x=\"daily_std\", y=\"weekday-sat\", data=station_summary, ax=ax)\n",
    "sns.scatterplot(x=\"daily_std\", y=\"weekday-sat\", data=high_stds, color='red', ax=ax)"
   ]
  },
  {
   "cell_type": "code",
   "execution_count": null,
   "metadata": {},
   "outputs": [],
   "source": [
    "sns.distplot(station_summary['daily_std'])"
   ]
  },
  {
   "cell_type": "code",
   "execution_count": null,
   "metadata": {},
   "outputs": [],
   "source": [
    "# create geodataframe from stations with highest STDs\n",
    "geometry = [Point(x,y) for x,y in zip(high_stds['longitude'], high_stds['latitude'])]\n",
    "crs = {'init':'epsg:4326'}\n",
    "geo_df = gpd.GeoDataFrame(index=high_stds.index, crs=crs, geometry=geometry)"
   ]
  },
  {
   "cell_type": "code",
   "execution_count": null,
   "metadata": {},
   "outputs": [],
   "source": [
    "neigh_map = gpd.read_file(\n",
    "    'data/Boundaries - Community Areas/geo_export_c539fca7-2c77-4148-be09-2c656a4bc388.shp')\n",
    "# get representative coordinates from each neighborhood\n",
    "neigh_map['coords'] = neigh_map['geometry'].apply(\n",
    "    lambda x: x.representative_point().coords[:])\n",
    "neigh_map['coords'] = [coords[0] for coords in neigh_map['coords']]\n",
    "neigh_map.set_index('community', inplace=True)"
   ]
  },
  {
   "cell_type": "code",
   "execution_count": null,
   "metadata": {},
   "outputs": [],
   "source": [
    "assign_dict = {key: geom for key, geom in neigh_map['geometry'].items()}\n",
    "assign_dict2 = {key: geo_df.within(geom) for key, geom in assign_dict.items()}\n",
    "# check which neighborhood each station falls in\n",
    "station_to_neigh = geo_df.assign(**assign_dict2)\n",
    "station_to_neigh = station_to_neigh.loc[:, (station_to_neigh != 0).any(axis=0)]"
   ]
  },
  {
   "cell_type": "code",
   "execution_count": null,
   "metadata": {},
   "outputs": [],
   "source": [
    "ncols = ['LAKE VIEW', 'LOOP', 'ROSELAND', 'LINCOLN PARK']\n",
    "station_to_neigh['neighborhood'] = station_to_neigh[ncols].idxmax(axis=1)\n",
    "station_to_neigh.drop(columns=ncols, inplace=True)"
   ]
  },
  {
   "cell_type": "code",
   "execution_count": null,
   "metadata": {},
   "outputs": [],
   "source": [
    "for item in station_to_neigh['neighborhood']:\n",
    "    inds = station_to_neigh.index[station_to_neigh['neighborhood']==item].tolist()\n",
    "    station_to_neigh.loc[inds,'polygon'] = neigh_map.loc[item, 'geometry']"
   ]
  },
  {
   "cell_type": "code",
   "execution_count": null,
   "metadata": {},
   "outputs": [],
   "source": [
    "neigh_to_station = station_to_neigh.copy()\n",
    "neigh_to_station.rename(columns={'polygon':'geometry', 'geometry':'points'}, inplace=True)"
   ]
  },
  {
   "cell_type": "code",
   "execution_count": null,
   "metadata": {},
   "outputs": [],
   "source": [
    "neigh_to_station"
   ]
  },
  {
   "cell_type": "code",
   "execution_count": null,
   "metadata": {},
   "outputs": [],
   "source": [
    "x = neigh_to_station.representative_point().apply(lambda p: p.x)\n",
    "y = neigh_to_station.representative_point().apply(lambda p: p.y)\n",
    "neigh_to_station['xy']= [(x,y) for x,y in zip(x, y)]"
   ]
  },
  {
   "cell_type": "code",
   "execution_count": null,
   "metadata": {},
   "outputs": [],
   "source": [
    "for neigh in neigh_to_station['neighborhood']:\n",
    "    num = len(neigh_to_station[neigh_to_station['neighborhood']==neigh])\n",
    "    locs = neigh_to_station[neigh_to_station['neighborhood']==neigh].index\n",
    "    neigh_to_station.loc[locs, 'freq']=num"
   ]
  },
  {
   "cell_type": "code",
   "execution_count": null,
   "metadata": {},
   "outputs": [],
   "source": [
    "neigh_to_station"
   ]
  },
  {
   "cell_type": "code",
   "execution_count": null,
   "metadata": {},
   "outputs": [],
   "source": [
    "neighs_only = neigh_to_station.drop_duplicates(subset='neighborhood')"
   ]
  },
  {
   "cell_type": "code",
   "execution_count": null,
   "metadata": {},
   "outputs": [],
   "source": [
    "fig, ax = plt.subplots(figsize=(15,15))\n",
    "neigh_map.plot(ax=ax,alpha=.7, color='grey')\n",
    "neigh_to_station.plot(ax=ax, cmap='tab20b', column='freq')\n",
    "\n",
    "for n, xy in zip(neighs_only['neighborhood'].tolist(), neighs_only['xy'].tolist()):\n",
    "    ax.annotate(n,  xy=xy, horizontalalignment='right', verticalalignment='top',\n",
    "                color='white', fontsize=16)\n",
    "station_to_neigh.plot(ax=ax, color='cyan', marker='o', alpha=.8, markersize=50)\n",
    "ax.set_xlabel('Longitude', fontsize=20)\n",
    "ax.set_ylabel('Latitude', fontsize=20)\n",
    "ax.set_xticklabels(ax.get_xticklabels(),fontsize=16)\n",
    "ax.set_yticklabels(ax.get_yticklabels(),fontsize=16)\n",
    "plt.title('Map of CTA Stations with Highest Daily Ridership STD', fontsize=24)\n",
    "plt.savefig('figs/map_high_daily_stds.png')"
   ]
  },
  {
   "cell_type": "code",
   "execution_count": null,
   "metadata": {},
   "outputs": [],
   "source": []
  }
 ],
 "metadata": {
  "kernelspec": {
   "display_name": "Python 3",
   "language": "python",
   "name": "python3"
  },
  "language_info": {
   "codemirror_mode": {
    "name": "ipython",
    "version": 3
   },
   "file_extension": ".py",
   "mimetype": "text/x-python",
   "name": "python",
   "nbconvert_exporter": "python",
   "pygments_lexer": "ipython3",
   "version": "3.6.7"
  }
 },
 "nbformat": 4,
 "nbformat_minor": 2
}
