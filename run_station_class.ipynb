{
 "cells": [
  {
   "cell_type": "code",
   "execution_count": null,
   "metadata": {},
   "outputs": [],
   "source": [
    "import pandas as pd\n",
    "import numpy as np\n",
    "from station import Station\n",
    "import seaborn as sns\n",
    "import matplotlib.pyplot as plt\n",
    "import mpld3\n",
    "\n",
    "%load_ext autoreload\n",
    "%autoreload"
   ]
  },
  {
   "cell_type": "code",
   "execution_count": null,
   "metadata": {},
   "outputs": [],
   "source": [
    "# read in data files\n",
    "ride_df = pd.read_csv('data/CTA_-_Ridership_-__L__Station_Entries_-_Daily_Totals.csv')\n",
    "map_df = pd.read_csv('data/CTA_-_System_Information_-_List_of__L__Stops.csv')\n",
    "station_map_names = {'Lake':'Lake/State', 'Jackson':'Jackson/State',\n",
    "                     'Washington':'Washington/Dearborn', 'Morgan':'Morgan-Lake'}\n",
    "map_df.replace({\"STATION_NAME\": station_map_names}, inplace=True)"
   ]
  },
  {
   "cell_type": "code",
   "execution_count": null,
   "metadata": {
    "scrolled": true
   },
   "outputs": [],
   "source": [
    "station_list = ride_df.stationname.unique().tolist()\n",
    "sumlist = []\n",
    "for station in station_list:\n",
    "    stat = Station(station, ride_df, map_df)\n",
    "    stat.run_prophet()\n",
    "    sumlist.append(stat.summary)\n",
    "station_summary = pd.DataFrame(sumlist)\n",
    "station_summary.to_csv('data/station_summary.csv')"
   ]
  },
  {
   "cell_type": "code",
   "execution_count": null,
   "metadata": {},
   "outputs": [],
   "source": [
    "to_remove = station_summary[station_summary['Sat_mean'] == 0].index[0]\n",
    "station_summary.drop([to_remove], inplace=True)\n",
    "station_summary['weekday-sat'] = station_summary['Weekday_mean'\n",
    "                                                ] - station_summary['Sat_mean']\n",
    "station_summary['weekday-sun'] = station_summary['Weekday_mean'\n",
    "                                                ] - station_summary['Sun/Hol_mean']"
   ]
  },
  {
   "cell_type": "code",
   "execution_count": null,
   "metadata": {},
   "outputs": [],
   "source": [
    "station_summary = pd.read_csv('data/station_summary.csv')"
   ]
  },
  {
   "cell_type": "code",
   "execution_count": null,
   "metadata": {
    "scrolled": true
   },
   "outputs": [],
   "source": [
    "# Find station with highest daily mean\n",
    "station_summary.loc[station_summary.daily_mean.idxmax()]"
   ]
  },
  {
   "cell_type": "code",
   "execution_count": null,
   "metadata": {},
   "outputs": [],
   "source": [
    "# Find Washington/Wabash's std\n",
    "station_summary[station_summary['station']=='Washington/Wabash']"
   ]
  },
  {
   "cell_type": "code",
   "execution_count": null,
   "metadata": {},
   "outputs": [],
   "source": [
    "# station_summary.columns\n",
    "# cols = ['2023_mean', 'daily_mean', '5_yr_pct_diff']\n",
    "# cols2 = ['daily_mean', 'Sat_mean', 'Sun/Hol_mean', 'Weekday_mean']\n",
    "# station_summary.dropna(inplace=True)"
   ]
  },
  {
   "cell_type": "markdown",
   "metadata": {},
   "source": [
    "### Plot stations with high standard deviations by day of the week & season"
   ]
  },
  {
   "cell_type": "code",
   "execution_count": null,
   "metadata": {},
   "outputs": [],
   "source": [
    "high_stds = station_summary.sort_values(by='daily_std', ascending=False).iloc[0:10]\n",
    "high_stations = high_stds.station.tolist()\n",
    "high_stds.set_index('station', inplace=True)"
   ]
  },
  {
   "cell_type": "code",
   "execution_count": null,
   "metadata": {
    "scrolled": true
   },
   "outputs": [],
   "source": [
    "for stat in high_stations:\n",
    "    stat = Station(stat, ride_df, map_df)\n",
    "    stat.make_layered_hist('daytype')"
   ]
  },
  {
   "cell_type": "code",
   "execution_count": null,
   "metadata": {},
   "outputs": [],
   "source": [
    "for stat in high_stations:\n",
    "    stat = Station(stat, ride_df, map_df)\n",
    "    stat.make_layered_hist('season')"
   ]
  },
  {
   "cell_type": "code",
   "execution_count": null,
   "metadata": {},
   "outputs": [],
   "source": [
    "fig, ax = plt.subplots()\n",
    "sns.scatterplot(x=\"daily_std\", y=\"weekday-sat\", data=station_summary, ax=ax)\n",
    "sns.scatterplot(x=\"daily_std\", y=\"weekday-sat\", data=high_stds, color='red', ax=ax)"
   ]
  },
  {
   "cell_type": "code",
   "execution_count": null,
   "metadata": {},
   "outputs": [],
   "source": [
    "sns.distplot(station_summary['daily_std'])"
   ]
  },
  {
   "cell_type": "code",
   "execution_count": null,
   "metadata": {},
   "outputs": [],
   "source": []
  }
 ],
 "metadata": {
  "kernelspec": {
   "display_name": "Python 3",
   "language": "python",
   "name": "python3"
  },
  "language_info": {
   "codemirror_mode": {
    "name": "ipython",
    "version": 3
   },
   "file_extension": ".py",
   "mimetype": "text/x-python",
   "name": "python",
   "nbconvert_exporter": "python",
   "pygments_lexer": "ipython3",
   "version": "3.6.7"
  }
 },
 "nbformat": 4,
 "nbformat_minor": 2
}
